{
 "cells": [
  {
   "cell_type": "markdown",
   "metadata": {},
   "source": [
    "1. Использовать dataset MovieLens\n",
    "2. Построить рекомендации (регрессия, предсказываем оценку) на фичах:\n",
    "    - TF-IDF на тегах и жанрах\n",
    "    - Средние оценки (+ median, variance, etc.) пользователя и фильма\n",
    "5. Оценить RMSE на тестовой выборке"
   ]
  },
  {
   "cell_type": "code",
   "execution_count": 200,
   "metadata": {},
   "outputs": [],
   "source": [
    "import pandas as pd\n",
    "import numpy as np\n",
    "\n",
    "from tqdm.notebook import tqdm\n",
    "\n",
    "from sklearn.feature_extraction.text import TfidfTransformer, CountVectorizer\n",
    "from sklearn.neighbors import KNeighborsRegressor"
   ]
  },
  {
   "cell_type": "code",
   "execution_count": 201,
   "metadata": {},
   "outputs": [],
   "source": [
    "links = pd.read_csv('links.csv')\n",
    "movies = pd.read_csv('movies.csv')\n",
    "ratings = pd.read_csv('ratings.csv')\n",
    "tags = pd.read_csv('tags.csv')"
   ]
  },
  {
   "cell_type": "code",
   "execution_count": 202,
   "metadata": {},
   "outputs": [],
   "source": [
    "def change_string(s):\n",
    "    return ' '.join(s.replace(' ', '').replace('-','').split('|'))"
   ]
  },
  {
   "cell_type": "markdown",
   "metadata": {},
   "source": [
    "## Построим рекомендацию по жанрам"
   ]
  },
  {
   "cell_type": "code",
   "execution_count": 203,
   "metadata": {},
   "outputs": [
    {
     "data": {
      "text/html": [
       "<div>\n",
       "<style scoped>\n",
       "    .dataframe tbody tr th:only-of-type {\n",
       "        vertical-align: middle;\n",
       "    }\n",
       "\n",
       "    .dataframe tbody tr th {\n",
       "        vertical-align: top;\n",
       "    }\n",
       "\n",
       "    .dataframe thead th {\n",
       "        text-align: right;\n",
       "    }\n",
       "</style>\n",
       "<table border=\"1\" class=\"dataframe\">\n",
       "  <thead>\n",
       "    <tr style=\"text-align: right;\">\n",
       "      <th></th>\n",
       "      <th>movieId</th>\n",
       "      <th>title</th>\n",
       "      <th>genres</th>\n",
       "    </tr>\n",
       "  </thead>\n",
       "  <tbody>\n",
       "    <tr>\n",
       "      <th>4169</th>\n",
       "      <td>6003</td>\n",
       "      <td>Confessions of a Dangerous Mind (2002)</td>\n",
       "      <td>Comedy|Crime|Drama|Thriller</td>\n",
       "    </tr>\n",
       "    <tr>\n",
       "      <th>9106</th>\n",
       "      <td>144606</td>\n",
       "      <td>Confessions of a Dangerous Mind (2002)</td>\n",
       "      <td>Comedy|Crime|Drama|Romance|Thriller</td>\n",
       "    </tr>\n",
       "    <tr>\n",
       "      <th>650</th>\n",
       "      <td>838</td>\n",
       "      <td>Emma (1996)</td>\n",
       "      <td>Comedy|Drama|Romance</td>\n",
       "    </tr>\n",
       "    <tr>\n",
       "      <th>5601</th>\n",
       "      <td>26958</td>\n",
       "      <td>Emma (1996)</td>\n",
       "      <td>Romance</td>\n",
       "    </tr>\n",
       "    <tr>\n",
       "      <th>5854</th>\n",
       "      <td>32600</td>\n",
       "      <td>Eros (2004)</td>\n",
       "      <td>Drama</td>\n",
       "    </tr>\n",
       "    <tr>\n",
       "      <th>9135</th>\n",
       "      <td>147002</td>\n",
       "      <td>Eros (2004)</td>\n",
       "      <td>Drama|Romance</td>\n",
       "    </tr>\n",
       "    <tr>\n",
       "      <th>2141</th>\n",
       "      <td>2851</td>\n",
       "      <td>Saturn 3 (1980)</td>\n",
       "      <td>Adventure|Sci-Fi|Thriller</td>\n",
       "    </tr>\n",
       "    <tr>\n",
       "      <th>9468</th>\n",
       "      <td>168358</td>\n",
       "      <td>Saturn 3 (1980)</td>\n",
       "      <td>Sci-Fi|Thriller</td>\n",
       "    </tr>\n",
       "    <tr>\n",
       "      <th>5931</th>\n",
       "      <td>34048</td>\n",
       "      <td>War of the Worlds (2005)</td>\n",
       "      <td>Action|Adventure|Sci-Fi|Thriller</td>\n",
       "    </tr>\n",
       "    <tr>\n",
       "      <th>6932</th>\n",
       "      <td>64997</td>\n",
       "      <td>War of the Worlds (2005)</td>\n",
       "      <td>Action|Sci-Fi</td>\n",
       "    </tr>\n",
       "  </tbody>\n",
       "</table>\n",
       "</div>"
      ],
      "text/plain": [
       "      movieId                                   title  \\\n",
       "4169     6003  Confessions of a Dangerous Mind (2002)   \n",
       "9106   144606  Confessions of a Dangerous Mind (2002)   \n",
       "650       838                             Emma (1996)   \n",
       "5601    26958                             Emma (1996)   \n",
       "5854    32600                             Eros (2004)   \n",
       "9135   147002                             Eros (2004)   \n",
       "2141     2851                         Saturn 3 (1980)   \n",
       "9468   168358                         Saturn 3 (1980)   \n",
       "5931    34048                War of the Worlds (2005)   \n",
       "6932    64997                War of the Worlds (2005)   \n",
       "\n",
       "                                   genres  \n",
       "4169          Comedy|Crime|Drama|Thriller  \n",
       "9106  Comedy|Crime|Drama|Romance|Thriller  \n",
       "650                  Comedy|Drama|Romance  \n",
       "5601                              Romance  \n",
       "5854                                Drama  \n",
       "9135                        Drama|Romance  \n",
       "2141            Adventure|Sci-Fi|Thriller  \n",
       "9468                      Sci-Fi|Thriller  \n",
       "5931     Action|Adventure|Sci-Fi|Thriller  \n",
       "6932                        Action|Sci-Fi  "
      ]
     },
     "execution_count": 203,
     "metadata": {},
     "output_type": "execute_result"
    }
   ],
   "source": [
    "# найдем дублирующиеся строки с фильмами\n",
    "dup = movies[movies.title.duplicated()==True]['title'].to_list()\n",
    "movies[movies.title.isin(dup)].sort_values(by='title')"
   ]
  },
  {
   "cell_type": "code",
   "execution_count": 204,
   "metadata": {},
   "outputs": [],
   "source": [
    "# удалим менее информативные строки с жанрами для дублирующихся фильмов\n",
    "to_dtop = [4169, 5601, 5854, 9468, 6932]\n",
    "movies.drop(to_dtop, inplace=True)"
   ]
  },
  {
   "cell_type": "code",
   "execution_count": 205,
   "metadata": {},
   "outputs": [
    {
     "data": {
      "text/html": [
       "<div>\n",
       "<style scoped>\n",
       "    .dataframe tbody tr th:only-of-type {\n",
       "        vertical-align: middle;\n",
       "    }\n",
       "\n",
       "    .dataframe tbody tr th {\n",
       "        vertical-align: top;\n",
       "    }\n",
       "\n",
       "    .dataframe thead th {\n",
       "        text-align: right;\n",
       "    }\n",
       "</style>\n",
       "<table border=\"1\" class=\"dataframe\">\n",
       "  <thead>\n",
       "    <tr style=\"text-align: right;\">\n",
       "      <th></th>\n",
       "      <th>movieId</th>\n",
       "      <th>title</th>\n",
       "      <th>genres</th>\n",
       "      <th>tag</th>\n",
       "    </tr>\n",
       "  </thead>\n",
       "  <tbody>\n",
       "    <tr>\n",
       "      <th>0</th>\n",
       "      <td>1</td>\n",
       "      <td>Toy Story (1995)</td>\n",
       "      <td>Adventure Animation Children Comedy Fantasy</td>\n",
       "      <td>NaN</td>\n",
       "    </tr>\n",
       "    <tr>\n",
       "      <th>1</th>\n",
       "      <td>2</td>\n",
       "      <td>Jumanji (1995)</td>\n",
       "      <td>Adventure Children Fantasy</td>\n",
       "      <td>sofiacoppola 1970s suicide</td>\n",
       "    </tr>\n",
       "    <tr>\n",
       "      <th>2</th>\n",
       "      <td>3</td>\n",
       "      <td>Grumpier Old Men (1995)</td>\n",
       "      <td>Comedy Romance</td>\n",
       "      <td>Shakespearesortof</td>\n",
       "    </tr>\n",
       "    <tr>\n",
       "      <th>3</th>\n",
       "      <td>4</td>\n",
       "      <td>Waiting to Exhale (1995)</td>\n",
       "      <td>Comedy Drama Romance</td>\n",
       "      <td>NaN</td>\n",
       "    </tr>\n",
       "    <tr>\n",
       "      <th>4</th>\n",
       "      <td>5</td>\n",
       "      <td>Father of the Bride Part II (1995)</td>\n",
       "      <td>Comedy</td>\n",
       "      <td>hallucinatory mentalillness mindfuck paranoid ...</td>\n",
       "    </tr>\n",
       "  </tbody>\n",
       "</table>\n",
       "</div>"
      ],
      "text/plain": [
       "   movieId                               title  \\\n",
       "0        1                    Toy Story (1995)   \n",
       "1        2                      Jumanji (1995)   \n",
       "2        3             Grumpier Old Men (1995)   \n",
       "3        4            Waiting to Exhale (1995)   \n",
       "4        5  Father of the Bride Part II (1995)   \n",
       "\n",
       "                                        genres  \\\n",
       "0  Adventure Animation Children Comedy Fantasy   \n",
       "1                   Adventure Children Fantasy   \n",
       "2                               Comedy Romance   \n",
       "3                         Comedy Drama Romance   \n",
       "4                                       Comedy   \n",
       "\n",
       "                                                 tag  \n",
       "0                                                NaN  \n",
       "1                         sofiacoppola 1970s suicide  \n",
       "2                                  Shakespearesortof  \n",
       "3                                                NaN  \n",
       "4  hallucinatory mentalillness mindfuck paranoid ...  "
      ]
     },
     "execution_count": 205,
     "metadata": {},
     "output_type": "execute_result"
    }
   ],
   "source": [
    "# добавим тэги\n",
    "movies_with_tags = movies.join(tags.set_index('movieId'), on='movieId')\n",
    "\n",
    "movies_with_tags = pd.DataFrame(list(zip(movies2,tag_strings)), columns=['title', 'tag'])\n",
    "movies_with_genres_tags = movies.join(movies_with_tags.set_index('title'), on='title')\n",
    "movies_with_genres_tags['genres'] = movies_with_genres_tags['genres'].apply(change_string)\n",
    "movies_with_genres_tags.head()"
   ]
  },
  {
   "cell_type": "code",
   "execution_count": 206,
   "metadata": {},
   "outputs": [],
   "source": [
    "# Получим средний и медианный рейтинг фильма\n",
    "mean_ratings = ratings.groupby('movieId').mean().drop(['userId','timestamp'],axis=1)\n",
    "mean_ratings.rename(columns = {'rating':'mean_ratings'}, inplace = True)\n",
    "\n",
    "median_ratings = ratings.groupby('movieId').median().drop(['userId','timestamp'],axis=1)\n",
    "median_ratings.rename(columns = {'rating':'med_ratings'}, inplace = True)\n",
    "\n",
    "variance_ratings = ratings.groupby('movieId').var().drop(['userId','timestamp'],axis=1)\n",
    "variance_ratings.rename(columns = {'rating':'var_ratings'}, inplace = True)\n",
    "\n",
    "# добавим колонку со средним и медианным рейтингом фильма\n",
    "movies_with_genres_tags_ratings = movies_with_genres_tags.join(mean_ratings, on='movieId')\n",
    "movies_with_genres_tags_ratings = movies_with_genres_tags_ratings.join(median_ratings, on='movieId')\n",
    "movies_with_genres_tags_ratings = movies_with_genres_tags_ratings.join(variance_ratings, on='movieId')"
   ]
  },
  {
   "cell_type": "code",
   "execution_count": 207,
   "metadata": {},
   "outputs": [
    {
     "data": {
      "text/html": [
       "<div>\n",
       "<style scoped>\n",
       "    .dataframe tbody tr th:only-of-type {\n",
       "        vertical-align: middle;\n",
       "    }\n",
       "\n",
       "    .dataframe tbody tr th {\n",
       "        vertical-align: top;\n",
       "    }\n",
       "\n",
       "    .dataframe thead th {\n",
       "        text-align: right;\n",
       "    }\n",
       "</style>\n",
       "<table border=\"1\" class=\"dataframe\">\n",
       "  <thead>\n",
       "    <tr style=\"text-align: right;\">\n",
       "      <th></th>\n",
       "      <th>movieId</th>\n",
       "      <th>title</th>\n",
       "      <th>genres</th>\n",
       "      <th>tag</th>\n",
       "      <th>mean_ratings</th>\n",
       "      <th>med_ratings</th>\n",
       "      <th>var_ratings</th>\n",
       "    </tr>\n",
       "  </thead>\n",
       "  <tbody>\n",
       "    <tr>\n",
       "      <th>0</th>\n",
       "      <td>1</td>\n",
       "      <td>Toy Story (1995)</td>\n",
       "      <td>Adventure Animation Children Comedy Fantasy</td>\n",
       "      <td>NaN</td>\n",
       "      <td>3.920930</td>\n",
       "      <td>4.0</td>\n",
       "      <td>0.696990</td>\n",
       "    </tr>\n",
       "    <tr>\n",
       "      <th>1</th>\n",
       "      <td>2</td>\n",
       "      <td>Jumanji (1995)</td>\n",
       "      <td>Adventure Children Fantasy</td>\n",
       "      <td>sofiacoppola 1970s suicide</td>\n",
       "      <td>3.431818</td>\n",
       "      <td>3.5</td>\n",
       "      <td>0.777419</td>\n",
       "    </tr>\n",
       "    <tr>\n",
       "      <th>2</th>\n",
       "      <td>3</td>\n",
       "      <td>Grumpier Old Men (1995)</td>\n",
       "      <td>Comedy Romance</td>\n",
       "      <td>Shakespearesortof</td>\n",
       "      <td>3.259615</td>\n",
       "      <td>3.0</td>\n",
       "      <td>1.112651</td>\n",
       "    </tr>\n",
       "    <tr>\n",
       "      <th>3</th>\n",
       "      <td>4</td>\n",
       "      <td>Waiting to Exhale (1995)</td>\n",
       "      <td>Comedy Drama Romance</td>\n",
       "      <td>NaN</td>\n",
       "      <td>2.357143</td>\n",
       "      <td>3.0</td>\n",
       "      <td>0.726190</td>\n",
       "    </tr>\n",
       "    <tr>\n",
       "      <th>4</th>\n",
       "      <td>5</td>\n",
       "      <td>Father of the Bride Part II (1995)</td>\n",
       "      <td>Comedy</td>\n",
       "      <td>hallucinatory mentalillness mindfuck paranoid ...</td>\n",
       "      <td>3.071429</td>\n",
       "      <td>3.0</td>\n",
       "      <td>0.822917</td>\n",
       "    </tr>\n",
       "  </tbody>\n",
       "</table>\n",
       "</div>"
      ],
      "text/plain": [
       "   movieId                               title  \\\n",
       "0        1                    Toy Story (1995)   \n",
       "1        2                      Jumanji (1995)   \n",
       "2        3             Grumpier Old Men (1995)   \n",
       "3        4            Waiting to Exhale (1995)   \n",
       "4        5  Father of the Bride Part II (1995)   \n",
       "\n",
       "                                        genres  \\\n",
       "0  Adventure Animation Children Comedy Fantasy   \n",
       "1                   Adventure Children Fantasy   \n",
       "2                               Comedy Romance   \n",
       "3                         Comedy Drama Romance   \n",
       "4                                       Comedy   \n",
       "\n",
       "                                                 tag  mean_ratings  \\\n",
       "0                                                NaN      3.920930   \n",
       "1                         sofiacoppola 1970s suicide      3.431818   \n",
       "2                                  Shakespearesortof      3.259615   \n",
       "3                                                NaN      2.357143   \n",
       "4  hallucinatory mentalillness mindfuck paranoid ...      3.071429   \n",
       "\n",
       "   med_ratings  var_ratings  \n",
       "0          4.0     0.696990  \n",
       "1          3.5     0.777419  \n",
       "2          3.0     1.112651  \n",
       "3          3.0     0.726190  \n",
       "4          3.0     0.822917  "
      ]
     },
     "execution_count": 207,
     "metadata": {},
     "output_type": "execute_result"
    }
   ],
   "source": [
    "movies_with_genres_tags_ratings.head()"
   ]
  },
  {
   "cell_type": "markdown",
   "metadata": {},
   "source": [
    "## Построим рекомендацию по жанрам"
   ]
  },
  {
   "cell_type": "code",
   "execution_count": 208,
   "metadata": {},
   "outputs": [
    {
     "data": {
      "text/plain": [
       "KNeighborsRegressor(metric='euclidean', n_jobs=-1, n_neighbors=7)"
      ]
     },
     "execution_count": 208,
     "metadata": {},
     "output_type": "execute_result"
    }
   ],
   "source": [
    "# получим список жанров\n",
    "genres_list = movies_with_genres_tags_ratings.genres.to_list()\n",
    "\n",
    "# обучим модель\n",
    "count_vect = CountVectorizer()\n",
    "X_train_counts = count_vect.fit_transform(genres_list)\n",
    "\n",
    "tfidf_transformer = TfidfTransformer()\n",
    "X_train_tfidf = tfidf_transformer.fit_transform(X_train_counts)\n",
    "\n",
    "neig_reg = KNeighborsRegressor(n_neighbors=7, n_jobs=-1, metric='euclidean')\n",
    "neig_reg.fit(X_train_counts, X_train_tfidf)"
   ]
  },
  {
   "cell_type": "code",
   "execution_count": 209,
   "metadata": {},
   "outputs": [
    {
     "data": {
      "text/plain": [
       "(array([[0.88442865, 0.88442865, 0.88442865, 0.88442865, 0.88442865,\n",
       "         0.88442865, 0.88442865]]),\n",
       " array([[1598, 8613, 6953, 4076, 7257, 9214, 4152]], dtype=int64))"
      ]
     },
     "execution_count": 209,
     "metadata": {},
     "output_type": "execute_result"
    }
   ],
   "source": [
    "# проверим на тесте\n",
    "test = change_string('Adventure|Comedy|Fantasy|Crime')\n",
    "\n",
    "predict = count_vect.transform([test])\n",
    "X_tfidf2 = tfidf_transformer.transform(predict)\n",
    "\n",
    "predicted_movies = neig_reg.kneighbors(X_tfidf2, return_distance=True)\n",
    "predicted_movies"
   ]
  },
  {
   "cell_type": "code",
   "execution_count": 212,
   "metadata": {},
   "outputs": [
    {
     "data": {
      "text/html": [
       "<div>\n",
       "<style scoped>\n",
       "    .dataframe tbody tr th:only-of-type {\n",
       "        vertical-align: middle;\n",
       "    }\n",
       "\n",
       "    .dataframe tbody tr th {\n",
       "        vertical-align: top;\n",
       "    }\n",
       "\n",
       "    .dataframe thead th {\n",
       "        text-align: right;\n",
       "    }\n",
       "</style>\n",
       "<table border=\"1\" class=\"dataframe\">\n",
       "  <thead>\n",
       "    <tr style=\"text-align: right;\">\n",
       "      <th></th>\n",
       "      <th>movieId</th>\n",
       "      <th>title</th>\n",
       "      <th>genres</th>\n",
       "      <th>tag</th>\n",
       "      <th>mean_ratings</th>\n",
       "      <th>med_ratings</th>\n",
       "      <th>var_ratings</th>\n",
       "    </tr>\n",
       "  </thead>\n",
       "  <tbody>\n",
       "    <tr>\n",
       "      <th>4076</th>\n",
       "      <td>5816</td>\n",
       "      <td>Harry Potter and the Chamber of Secrets (2002)</td>\n",
       "      <td>Adventure Fantasy</td>\n",
       "      <td>AdamSandler</td>\n",
       "      <td>3.598039</td>\n",
       "      <td>3.50</td>\n",
       "      <td>0.856630</td>\n",
       "    </tr>\n",
       "    <tr>\n",
       "      <th>1598</th>\n",
       "      <td>2140</td>\n",
       "      <td>Dark Crystal, The (1982)</td>\n",
       "      <td>Adventure Fantasy</td>\n",
       "      <td>NaN</td>\n",
       "      <td>3.544118</td>\n",
       "      <td>3.50</td>\n",
       "      <td>0.672237</td>\n",
       "    </tr>\n",
       "    <tr>\n",
       "      <th>6957</th>\n",
       "      <td>65685</td>\n",
       "      <td>Inkheart (2008)</td>\n",
       "      <td>Adventure Fantasy</td>\n",
       "      <td>NaN</td>\n",
       "      <td>3.500000</td>\n",
       "      <td>3.50</td>\n",
       "      <td>0.250000</td>\n",
       "    </tr>\n",
       "    <tr>\n",
       "      <th>8617</th>\n",
       "      <td>118696</td>\n",
       "      <td>The Hobbit: The Battle of the Five Armies (2014)</td>\n",
       "      <td>Adventure Fantasy</td>\n",
       "      <td>beautifulvisuals Cerebral cinematography goodc...</td>\n",
       "      <td>3.416667</td>\n",
       "      <td>3.25</td>\n",
       "      <td>1.183824</td>\n",
       "    </tr>\n",
       "    <tr>\n",
       "      <th>4152</th>\n",
       "      <td>5974</td>\n",
       "      <td>Thief of Bagdad, The (1940)</td>\n",
       "      <td>Adventure Fantasy</td>\n",
       "      <td>NaN</td>\n",
       "      <td>3.000000</td>\n",
       "      <td>3.00</td>\n",
       "      <td>NaN</td>\n",
       "    </tr>\n",
       "    <tr>\n",
       "      <th>7261</th>\n",
       "      <td>74530</td>\n",
       "      <td>Percy Jackson &amp; the Olympians: The Lightning T...</td>\n",
       "      <td>Adventure Fantasy</td>\n",
       "      <td>NaN</td>\n",
       "      <td>2.357143</td>\n",
       "      <td>2.50</td>\n",
       "      <td>0.892857</td>\n",
       "    </tr>\n",
       "    <tr>\n",
       "      <th>9218</th>\n",
       "      <td>152063</td>\n",
       "      <td>Gods of Egypt (2016)</td>\n",
       "      <td>Adventure Fantasy</td>\n",
       "      <td>NaN</td>\n",
       "      <td>0.500000</td>\n",
       "      <td>0.50</td>\n",
       "      <td>NaN</td>\n",
       "    </tr>\n",
       "  </tbody>\n",
       "</table>\n",
       "</div>"
      ],
      "text/plain": [
       "      movieId                                              title  \\\n",
       "4076     5816     Harry Potter and the Chamber of Secrets (2002)   \n",
       "1598     2140                           Dark Crystal, The (1982)   \n",
       "6957    65685                                    Inkheart (2008)   \n",
       "8617   118696   The Hobbit: The Battle of the Five Armies (2014)   \n",
       "4152     5974                        Thief of Bagdad, The (1940)   \n",
       "7261    74530  Percy Jackson & the Olympians: The Lightning T...   \n",
       "9218   152063                               Gods of Egypt (2016)   \n",
       "\n",
       "                 genres                                                tag  \\\n",
       "4076  Adventure Fantasy                                        AdamSandler   \n",
       "1598  Adventure Fantasy                                                NaN   \n",
       "6957  Adventure Fantasy                                                NaN   \n",
       "8617  Adventure Fantasy  beautifulvisuals Cerebral cinematography goodc...   \n",
       "4152  Adventure Fantasy                                                NaN   \n",
       "7261  Adventure Fantasy                                                NaN   \n",
       "9218  Adventure Fantasy                                                NaN   \n",
       "\n",
       "      mean_ratings  med_ratings  var_ratings  \n",
       "4076      3.598039         3.50     0.856630  \n",
       "1598      3.544118         3.50     0.672237  \n",
       "6957      3.500000         3.50     0.250000  \n",
       "8617      3.416667         3.25     1.183824  \n",
       "4152      3.000000         3.00          NaN  \n",
       "7261      2.357143         2.50     0.892857  \n",
       "9218      0.500000         0.50          NaN  "
      ]
     },
     "execution_count": 212,
     "metadata": {},
     "output_type": "execute_result"
    }
   ],
   "source": [
    "# выведем список фильмов в порядке убавания рейтинга\n",
    "movies_with_genres_tags_ratings.iloc[predicted_movies[1][0]].sort_values(by=['mean_ratings'], ascending=False)"
   ]
  },
  {
   "cell_type": "markdown",
   "metadata": {},
   "source": [
    "## Построим рекомендацию по тегам"
   ]
  },
  {
   "cell_type": "code",
   "execution_count": 156,
   "metadata": {},
   "outputs": [
    {
     "data": {
      "text/plain": [
       "(1037,)"
      ]
     },
     "execution_count": 156,
     "metadata": {},
     "output_type": "execute_result"
    }
   ],
   "source": [
    "# проверим кол-во уникальных тегов\n",
    "movies_with_genres_tags_ratings.tag.unique().shape"
   ]
  },
  {
   "cell_type": "code",
   "execution_count": 216,
   "metadata": {},
   "outputs": [],
   "source": [
    "# удалим фильмы с отсутствующими тегами\n",
    "movies_with_genres_tags_ratings2 = movies_with_genres_tags_ratings.dropna()"
   ]
  },
  {
   "cell_type": "code",
   "execution_count": 220,
   "metadata": {},
   "outputs": [
    {
     "data": {
      "text/plain": [
       "KNeighborsRegressor(metric='manhattan', n_jobs=-1, n_neighbors=10)"
      ]
     },
     "execution_count": 220,
     "metadata": {},
     "output_type": "execute_result"
    }
   ],
   "source": [
    "# получим список тегов\n",
    "tag_strings = movies_with_genres_tags_ratings2.tag.to_list()\n",
    "\n",
    "# обучим модель\n",
    "count_vect_tags = CountVectorizer()\n",
    "X_train_counts_tags = count_vect_tags.fit_transform(tag_strings)\n",
    "\n",
    "tfidf_tags_transformer = TfidfTransformer()\n",
    "X_train_tags_tfidf = tfidf_tags_transformer.fit_transform(X_train_counts_tags)\n",
    "\n",
    "neig_reg_tags = KNeighborsRegressor(n_neighbors=10, n_jobs=-1, metric='manhattan')\n",
    "neig_reg_tags.fit(X_train_counts_tags, X_train_tags_tfidf)"
   ]
  },
  {
   "cell_type": "code",
   "execution_count": 221,
   "metadata": {},
   "outputs": [
    {
     "data": {
      "text/plain": [
       "(array([[1.44315308, 1.62888293, 1.62888293, 1.62888293, 1.62888293,\n",
       "         1.62888293, 1.62888293, 1.62888293, 1.72628919, 2.72628919]]),\n",
       " array([[1197,  159,  345,  394,   54,   93,   82,  284,   55,  713]],\n",
       "       dtype=int64))"
      ]
     },
     "execution_count": 221,
     "metadata": {},
     "output_type": "execute_result"
    }
   ],
   "source": [
    "# возьмем теги 'scifi timetravel fun'\n",
    "test_tags = 'scifi timetravel fun'\n",
    "\n",
    "predict_tags = count_vect_tags.transform([test_tags])\n",
    "X_tfidf2_tags = tfidf_tags_transformer.transform(predict_tags)\n",
    "\n",
    "res_tags = neig_reg_tags.kneighbors(X_tfidf2_tags, return_distance=True)\n",
    "res_tags"
   ]
  },
  {
   "cell_type": "code",
   "execution_count": 222,
   "metadata": {},
   "outputs": [
    {
     "data": {
      "text/html": [
       "<div>\n",
       "<style scoped>\n",
       "    .dataframe tbody tr th:only-of-type {\n",
       "        vertical-align: middle;\n",
       "    }\n",
       "\n",
       "    .dataframe tbody tr th {\n",
       "        vertical-align: top;\n",
       "    }\n",
       "\n",
       "    .dataframe thead th {\n",
       "        text-align: right;\n",
       "    }\n",
       "</style>\n",
       "<table border=\"1\" class=\"dataframe\">\n",
       "  <thead>\n",
       "    <tr style=\"text-align: right;\">\n",
       "      <th></th>\n",
       "      <th>movieId</th>\n",
       "      <th>title</th>\n",
       "      <th>genres</th>\n",
       "      <th>tag</th>\n",
       "      <th>mean_ratings</th>\n",
       "      <th>med_ratings</th>\n",
       "      <th>var_ratings</th>\n",
       "    </tr>\n",
       "  </thead>\n",
       "  <tbody>\n",
       "    <tr>\n",
       "      <th>966</th>\n",
       "      <td>1267</td>\n",
       "      <td>Manchurian Candidate, The (1962)</td>\n",
       "      <td>Crime Thriller War</td>\n",
       "      <td>timetravel</td>\n",
       "      <td>4.250000</td>\n",
       "      <td>4.00</td>\n",
       "      <td>0.599138</td>\n",
       "    </tr>\n",
       "    <tr>\n",
       "      <th>691</th>\n",
       "      <td>909</td>\n",
       "      <td>Apartment, The (1960)</td>\n",
       "      <td>Comedy Drama Romance</td>\n",
       "      <td>timetravel</td>\n",
       "      <td>3.962963</td>\n",
       "      <td>4.00</td>\n",
       "      <td>0.921652</td>\n",
       "    </tr>\n",
       "    <tr>\n",
       "      <th>1438</th>\n",
       "      <td>1961</td>\n",
       "      <td>Rain Man (1988)</td>\n",
       "      <td>Drama</td>\n",
       "      <td>timetravel</td>\n",
       "      <td>3.807292</td>\n",
       "      <td>4.00</td>\n",
       "      <td>0.612473</td>\n",
       "    </tr>\n",
       "    <tr>\n",
       "      <th>213</th>\n",
       "      <td>249</td>\n",
       "      <td>Immortal Beloved (1994)</td>\n",
       "      <td>Drama Romance</td>\n",
       "      <td>L.A.</td>\n",
       "      <td>3.722222</td>\n",
       "      <td>4.00</td>\n",
       "      <td>0.800654</td>\n",
       "    </tr>\n",
       "    <tr>\n",
       "      <th>3398</th>\n",
       "      <td>4623</td>\n",
       "      <td>Major League (1989)</td>\n",
       "      <td>Comedy</td>\n",
       "      <td>LorettaLynn</td>\n",
       "      <td>3.575000</td>\n",
       "      <td>3.75</td>\n",
       "      <td>0.586184</td>\n",
       "    </tr>\n",
       "    <tr>\n",
       "      <th>383</th>\n",
       "      <td>440</td>\n",
       "      <td>Dave (1993)</td>\n",
       "      <td>Comedy Romance</td>\n",
       "      <td>timetravel</td>\n",
       "      <td>3.546053</td>\n",
       "      <td>4.00</td>\n",
       "      <td>0.447851</td>\n",
       "    </tr>\n",
       "    <tr>\n",
       "      <th>315</th>\n",
       "      <td>357</td>\n",
       "      <td>Four Weddings and a Funeral (1994)</td>\n",
       "      <td>Comedy Romance</td>\n",
       "      <td>timetravel</td>\n",
       "      <td>3.519417</td>\n",
       "      <td>4.00</td>\n",
       "      <td>1.239815</td>\n",
       "    </tr>\n",
       "    <tr>\n",
       "      <th>212</th>\n",
       "      <td>248</td>\n",
       "      <td>Houseguest (1994)</td>\n",
       "      <td>Comedy</td>\n",
       "      <td>timetravel</td>\n",
       "      <td>3.176471</td>\n",
       "      <td>3.00</td>\n",
       "      <td>0.998162</td>\n",
       "    </tr>\n",
       "    <tr>\n",
       "      <th>1164</th>\n",
       "      <td>1544</td>\n",
       "      <td>Lost World: Jurassic Park, The (1997)</td>\n",
       "      <td>Action Adventure SciFi Thriller</td>\n",
       "      <td>timetravel</td>\n",
       "      <td>2.753731</td>\n",
       "      <td>3.00</td>\n",
       "      <td>0.987675</td>\n",
       "    </tr>\n",
       "    <tr>\n",
       "      <th>8650</th>\n",
       "      <td>120635</td>\n",
       "      <td>Taken 3 (2015)</td>\n",
       "      <td>Action Crime Thriller</td>\n",
       "      <td>fun</td>\n",
       "      <td>2.700000</td>\n",
       "      <td>2.00</td>\n",
       "      <td>3.700000</td>\n",
       "    </tr>\n",
       "  </tbody>\n",
       "</table>\n",
       "</div>"
      ],
      "text/plain": [
       "      movieId                                  title  \\\n",
       "966      1267       Manchurian Candidate, The (1962)   \n",
       "691       909                  Apartment, The (1960)   \n",
       "1438     1961                        Rain Man (1988)   \n",
       "213       249                Immortal Beloved (1994)   \n",
       "3398     4623                    Major League (1989)   \n",
       "383       440                            Dave (1993)   \n",
       "315       357     Four Weddings and a Funeral (1994)   \n",
       "212       248                      Houseguest (1994)   \n",
       "1164     1544  Lost World: Jurassic Park, The (1997)   \n",
       "8650   120635                         Taken 3 (2015)   \n",
       "\n",
       "                               genres          tag  mean_ratings  med_ratings  \\\n",
       "966                Crime Thriller War   timetravel      4.250000         4.00   \n",
       "691              Comedy Drama Romance   timetravel      3.962963         4.00   \n",
       "1438                            Drama   timetravel      3.807292         4.00   \n",
       "213                     Drama Romance         L.A.      3.722222         4.00   \n",
       "3398                           Comedy  LorettaLynn      3.575000         3.75   \n",
       "383                    Comedy Romance   timetravel      3.546053         4.00   \n",
       "315                    Comedy Romance   timetravel      3.519417         4.00   \n",
       "212                            Comedy   timetravel      3.176471         3.00   \n",
       "1164  Action Adventure SciFi Thriller   timetravel      2.753731         3.00   \n",
       "8650            Action Crime Thriller          fun      2.700000         2.00   \n",
       "\n",
       "      var_ratings  \n",
       "966      0.599138  \n",
       "691      0.921652  \n",
       "1438     0.612473  \n",
       "213      0.800654  \n",
       "3398     0.586184  \n",
       "383      0.447851  \n",
       "315      1.239815  \n",
       "212      0.998162  \n",
       "1164     0.987675  \n",
       "8650     3.700000  "
      ]
     },
     "execution_count": 222,
     "metadata": {},
     "output_type": "execute_result"
    }
   ],
   "source": [
    "# выведем список фильмов в порядке убавания рейтинга\n",
    "movies_with_genres_tags_ratings2.iloc[res_tags[1][0]].sort_values(by=['mean_ratings'], ascending=False)"
   ]
  },
  {
   "cell_type": "markdown",
   "metadata": {},
   "source": [
    "## Оценить RMSE на тестовой выборке"
   ]
  },
  {
   "cell_type": "code",
   "execution_count": 223,
   "metadata": {},
   "outputs": [],
   "source": [
    "from sklearn.model_selection import train_test_split\n",
    "from sklearn.metrics import mean_squared_error"
   ]
  },
  {
   "cell_type": "code",
   "execution_count": 236,
   "metadata": {},
   "outputs": [
    {
     "name": "stdout",
     "output_type": "stream",
     "text": [
      "True\n"
     ]
    }
   ],
   "source": [
    "# удалим фильмы с отсуствующими рейтингами\n",
    "print(movies_with_genres_tags_ratings.mean_ratings.isna().any())\n",
    "movies_with_genres_tags_ratings3 = movies_with_genres_tags_ratings.dropna()"
   ]
  },
  {
   "cell_type": "code",
   "execution_count": 237,
   "metadata": {},
   "outputs": [],
   "source": [
    "# разделим на train, test\n",
    "X_train, X_test, y_train, y_test = train_test_split(movies_with_genres_tags_ratings3.drop(['mean_ratings'], axis=1), \n",
    "                                                    movies_with_genres_tags_ratings3.mean_ratings, test_size=0.33, \n",
    "                                                    random_state=42)\n",
    "train_df = pd.concat([X_train, y_train], axis=1)\n",
    "test_df = pd.concat([X_test, y_test], axis=1)"
   ]
  },
  {
   "cell_type": "code",
   "execution_count": 238,
   "metadata": {},
   "outputs": [
    {
     "data": {
      "text/plain": [
       "KNeighborsRegressor(metric='manhattan', n_jobs=-1, n_neighbors=10)"
      ]
     },
     "execution_count": 238,
     "metadata": {},
     "output_type": "execute_result"
    }
   ],
   "source": [
    "# обучим train\n",
    "\n",
    "train_genres_strings = train_df.genres.to_list()\n",
    "count_vect_tags = CountVectorizer()\n",
    "X_train_count4 = count_vect_tags.fit_transform(train_genres_strings)\n",
    "\n",
    "tfidf_transformer = TfidfTransformer()\n",
    "X_train_tfidf4 = tfidf_transformer.fit_transform(X_train_count4)\n",
    "\n",
    "neig4 = KNeighborsRegressor(n_neighbors=10, n_jobs=-1, metric='manhattan')\n",
    "neig4.fit(X_train_count4, train_df.mean_ratings)"
   ]
  },
  {
   "cell_type": "code",
   "execution_count": 239,
   "metadata": {},
   "outputs": [],
   "source": [
    "# предскажем test\n",
    "test_genres_strings = test_df.genres.to_list()\n",
    "\n",
    "X_test_count4 = count_vect_tags.transform(test_genres_strings)\n",
    "X_test_tfidf4 = tfidf_transformer.transform(X_test_count4)\n",
    "\n",
    "predicted = neig4.predict(X_test_count4)\n",
    "#neig4.score(pr, X_test_tfidf4)\n"
   ]
  },
  {
   "cell_type": "code",
   "execution_count": 242,
   "metadata": {},
   "outputs": [
    {
     "data": {
      "text/plain": [
       "0.21219183365297417"
      ]
     },
     "execution_count": 242,
     "metadata": {},
     "output_type": "execute_result"
    }
   ],
   "source": [
    "# получим RMSE на тестовой выборке\n",
    "mean_squared_error(test_df.mean_ratings, predicted)"
   ]
  }
 ],
 "metadata": {
  "kernelspec": {
   "display_name": "Python 3",
   "language": "python",
   "name": "python3"
  },
  "language_info": {
   "codemirror_mode": {
    "name": "ipython",
    "version": 3
   },
   "file_extension": ".py",
   "mimetype": "text/x-python",
   "name": "python",
   "nbconvert_exporter": "python",
   "pygments_lexer": "ipython3",
   "version": "3.9.4"
  },
  "toc": {
   "base_numbering": 1,
   "nav_menu": {},
   "number_sections": true,
   "sideBar": true,
   "skip_h1_title": false,
   "title_cell": "Table of Contents",
   "title_sidebar": "Contents",
   "toc_cell": false,
   "toc_position": {},
   "toc_section_display": true,
   "toc_window_display": false
  },
  "varInspector": {
   "cols": {
    "lenName": 16,
    "lenType": 16,
    "lenVar": 40
   },
   "kernels_config": {
    "python": {
     "delete_cmd_postfix": "",
     "delete_cmd_prefix": "del ",
     "library": "var_list.py",
     "varRefreshCmd": "print(var_dic_list())"
    },
    "r": {
     "delete_cmd_postfix": ") ",
     "delete_cmd_prefix": "rm(",
     "library": "var_list.r",
     "varRefreshCmd": "cat(var_dic_list()) "
    }
   },
   "types_to_exclude": [
    "module",
    "function",
    "builtin_function_or_method",
    "instance",
    "_Feature"
   ],
   "window_display": false
  }
 },
 "nbformat": 4,
 "nbformat_minor": 4
}
