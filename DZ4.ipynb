{
 "cells": [
  {
   "cell_type": "markdown",
   "metadata": {},
   "source": [
    "### ДЗ:\n",
    "Необходимо запустить практическую часть занятия, и посмотреть самому то, о чём говорили на лекции. \n",
    "\n",
    "По образу практики, попробуйте создать искусственный датасет с лишними столбцами. \n",
    "Целевую метку, при правильной обработке данных, формируйте таким образом, \n",
    "чтобы без затруднений её смогла описать линейная модель. \n",
    "\n",
    "Ориентируйтесь на то, что было показано во время занятия, и каждый шаг описывайте в markdown. \n",
    "Здесь важно видеть ваш ход мысли. Не бойтесь ошибиться или написать не то. \n",
    "\n",
    "Данное задание не имеет какого-то “правильного” решения. \n",
    "Цель - достичь базового понимания проблемы. Чем больше вы фантазируете, тем лучше :) \n",
    "Тем не менее, старайтесь представить те ситуации, которые по-вашему мнению могли бы быть в реальных данных. Успеха!"
   ]
  },
  {
   "cell_type": "code",
   "execution_count": 1,
   "metadata": {},
   "outputs": [],
   "source": [
    "import numpy as np\n",
    "import pandas as pd\n",
    "import seaborn as sns\n",
    "import matplotlib.pyplot as plt\n",
    "\n",
    "from sklearn.linear_model import LinearRegression"
   ]
  },
  {
   "cell_type": "markdown",
   "metadata": {},
   "source": [
    "## Подготовим данные для анализа"
   ]
  },
  {
   "cell_type": "code",
   "execution_count": 2,
   "metadata": {},
   "outputs": [
    {
     "data": {
      "text/html": [
       "<div>\n",
       "<style scoped>\n",
       "    .dataframe tbody tr th:only-of-type {\n",
       "        vertical-align: middle;\n",
       "    }\n",
       "\n",
       "    .dataframe tbody tr th {\n",
       "        vertical-align: top;\n",
       "    }\n",
       "\n",
       "    .dataframe thead th {\n",
       "        text-align: right;\n",
       "    }\n",
       "</style>\n",
       "<table border=\"1\" class=\"dataframe\">\n",
       "  <thead>\n",
       "    <tr style=\"text-align: right;\">\n",
       "      <th></th>\n",
       "      <th>height</th>\n",
       "      <th>salary</th>\n",
       "      <th>country</th>\n",
       "      <th>has_animals</th>\n",
       "      <th>sex</th>\n",
       "    </tr>\n",
       "  </thead>\n",
       "  <tbody>\n",
       "    <tr>\n",
       "      <th>0</th>\n",
       "      <td>166</td>\n",
       "      <td>3323</td>\n",
       "      <td>USA</td>\n",
       "      <td>1</td>\n",
       "      <td>man</td>\n",
       "    </tr>\n",
       "    <tr>\n",
       "      <th>1</th>\n",
       "      <td>183</td>\n",
       "      <td>1731</td>\n",
       "      <td>USA</td>\n",
       "      <td>0</td>\n",
       "      <td>man</td>\n",
       "    </tr>\n",
       "    <tr>\n",
       "      <th>2</th>\n",
       "      <td>173</td>\n",
       "      <td>7153</td>\n",
       "      <td>USA</td>\n",
       "      <td>0</td>\n",
       "      <td>man</td>\n",
       "    </tr>\n",
       "    <tr>\n",
       "      <th>3</th>\n",
       "      <td>171</td>\n",
       "      <td>2938</td>\n",
       "      <td>USA</td>\n",
       "      <td>0</td>\n",
       "      <td>man</td>\n",
       "    </tr>\n",
       "    <tr>\n",
       "      <th>4</th>\n",
       "      <td>168</td>\n",
       "      <td>4234</td>\n",
       "      <td>USA</td>\n",
       "      <td>0</td>\n",
       "      <td>man</td>\n",
       "    </tr>\n",
       "  </tbody>\n",
       "</table>\n",
       "</div>"
      ],
      "text/plain": [
       "   height  salary country  has_animals  sex\n",
       "0     166    3323     USA            1  man\n",
       "1     183    1731     USA            0  man\n",
       "2     173    7153     USA            0  man\n",
       "3     171    2938     USA            0  man\n",
       "4     168    4234     USA            0  man"
      ]
     },
     "execution_count": 2,
     "metadata": {},
     "output_type": "execute_result"
    }
   ],
   "source": [
    "# Создаём сэмпл\n",
    "\n",
    "# Количество мужчин, женщин в США и России\n",
    "american_man_samples = 10000\n",
    "russian_man_samples = 5000\n",
    "american_woman_samples = 4000\n",
    "russian_woman_samples = 1000\n",
    "samples = american_man_samples+russian_man_samples+american_woman_samples+russian_woman_samples\n",
    "\n",
    "#Рост мужчин и женщин\n",
    "man_height = np.random.randint(165, 196, american_man_samples+russian_man_samples)\n",
    "woman_height = np.random.randint(155, 176, american_woman_samples+russian_woman_samples)\n",
    "height = np.concatenate((man_height,woman_height), axis=0)\n",
    "\n",
    "# Зарплата мужчин и женщин в США и России\n",
    "american_man_salary = np.random.randint(1500, 7500, american_man_samples)\n",
    "russian_man_salary = np.random.randint(300, 1500, russian_man_samples)\n",
    "american_woman_salary = np.random.randint(500, 5500, american_woman_samples)\n",
    "russian_woman_salary = np.random.randint(200, 1000, russian_woman_samples)\n",
    "salary = np.concatenate((american_man_salary,russian_man_salary,\n",
    "                                       american_woman_salary, russian_woman_salary), axis=0)\n",
    "\n",
    "# Целевой признак - Мужчина/женщина\n",
    "man = pd.Series(['man'] *(american_man_samples+russian_man_samples))\n",
    "woman = pd.Series(['woman'] * (american_woman_samples+russian_woman_samples))\n",
    "sex = np.concatenate((man, woman), axis=0)\n",
    "\n",
    "# Количество населения в выборке США и России\n",
    "USA = pd.Series([ 'USA' ] * (american_man_samples+american_woman_samples))\n",
    "RUS = pd.Series([ 'RUS' ] * (russian_man_samples+russian_woman_samples))\n",
    "country = pd.concat([USA, RUS])\n",
    "\n",
    "#Лишний столбец наличие домашнего животного\n",
    "has_animals = np.random.randint(0, 2, samples)\n",
    "\n",
    "#Создаем Dataframe из данных\n",
    "data = pd.DataFrame({'height': height, 'salary': salary, 'country':country, 'has_animals':has_animals, 'sex': sex})\n",
    "data.index = pd.RangeIndex(0, len(data.index))\n",
    "data.head(5)"
   ]
  },
  {
   "cell_type": "code",
   "execution_count": 3,
   "metadata": {},
   "outputs": [],
   "source": [
    "#добавим выборочно шум в ячейках в 1% выборки\n",
    "r = np.random.choice(a=samples, size=int(samples*0.01), replace=False) \n",
    "\n",
    "for i in range(int(samples*0.01)):\n",
    "    rn = np.random.randint(0, 2)\n",
    "    data.iloc[r[i], rn] = data.iloc[r[i], rn] * 1.6"
   ]
  },
  {
   "cell_type": "code",
   "execution_count": 4,
   "metadata": {},
   "outputs": [
    {
     "name": "stdout",
     "output_type": "stream",
     "text": [
      "[16692 15949 10248 ...  1467  3086   382]\n"
     ]
    }
   ],
   "source": [
    "#Удалим выборочно значения в ячейках в 10% выборки\n",
    "r = np.random.choice(a=samples, size=int(samples*0.1), replace=False) \n",
    "print(r)\n",
    "for i in range(int(samples*0.1)):\n",
    "    data.iloc[r[i], np.random.randint(0,2)]=np.nan"
   ]
  },
  {
   "cell_type": "markdown",
   "metadata": {},
   "source": [
    "## Проводим анализ данных:\n",
    "Необходимо из представленых данных определить кто относится к мужчинам, кто к женщинам"
   ]
  },
  {
   "cell_type": "code",
   "execution_count": 5,
   "metadata": {},
   "outputs": [
    {
     "data": {
      "text/plain": [
       "(20000, 5)"
      ]
     },
     "execution_count": 5,
     "metadata": {},
     "output_type": "execute_result"
    }
   ],
   "source": [
    "#Смотрим размер данных\n",
    "data.shape"
   ]
  },
  {
   "cell_type": "code",
   "execution_count": 6,
   "metadata": {},
   "outputs": [
    {
     "name": "stdout",
     "output_type": "stream",
     "text": [
      "<class 'pandas.core.frame.DataFrame'>\n",
      "RangeIndex: 20000 entries, 0 to 19999\n",
      "Data columns (total 5 columns):\n",
      " #   Column       Non-Null Count  Dtype  \n",
      "---  ------       --------------  -----  \n",
      " 0   height       18999 non-null  float64\n",
      " 1   salary       19001 non-null  float64\n",
      " 2   country      20000 non-null  object \n",
      " 3   has_animals  20000 non-null  int32  \n",
      " 4   sex          20000 non-null  object \n",
      "dtypes: float64(2), int32(1), object(2)\n",
      "memory usage: 703.2+ KB\n"
     ]
    }
   ],
   "source": [
    "#Смотрим в каких колонках отсутствуют данные\n",
    "data.info()"
   ]
  },
  {
   "cell_type": "markdown",
   "metadata": {},
   "source": [
    "Видим, что в колонках height, salary имеются нулевые значения ( Non-Null меньше 20000). Значит будет что-то с ними делать"
   ]
  },
  {
   "cell_type": "code",
   "execution_count": 7,
   "metadata": {},
   "outputs": [
    {
     "name": "stdout",
     "output_type": "stream",
     "text": [
      "height :\n",
      " [166.  183.  173.  171.  168.  175.  176.  167.  195.  193.  194.  172.\n",
      " 177.  174.  182.  302.4 178.    nan 191.  188.  190.  181.  185.  187.\n",
      " 180.  169.  189.  179.  186.  192.  165.  184.  170.  294.4 305.6 307.2\n",
      " 275.2 270.4 310.4 267.2 288.  300.8 281.6 278.4 297.6 284.8 312.  273.6\n",
      " 299.2 289.6 291.2 272.  280.  264.  292.8 283.2 286.4 265.6 308.8 296.\n",
      " 159.  155.  156.  158.  162.  163.  161.  164.  160.  157.  249.6 268.8\n",
      " 252.8 257.6 248.  260.8]\n",
      "salary :\n",
      " [3323. 1731. 7153. ...  244.  222.  489.]\n",
      "country :\n",
      " ['USA' 'RUS']\n",
      "has_animals :\n",
      " [1 0]\n",
      "sex :\n",
      " ['man' 'woman']\n"
     ]
    }
   ],
   "source": [
    "#Смотрим из каких уникальных значений состоят признаки в колонках\n",
    "for col in data.columns:\n",
    "    print(col, ':\\n', data[col].unique())"
   ]
  },
  {
   "cell_type": "markdown",
   "metadata": {},
   "source": [
    "Видим, что country, sex - категориальный признак. Будем применять к ним OneHotEncoding"
   ]
  },
  {
   "cell_type": "markdown",
   "metadata": {},
   "source": [
    "## Разобьем выборку на test / train"
   ]
  },
  {
   "cell_type": "code",
   "execution_count": 8,
   "metadata": {},
   "outputs": [],
   "source": [
    "X = data.iloc[:, :-1]\n",
    "y = data.iloc[:, -1:]\n",
    "from sklearn.model_selection import train_test_split\n",
    "Xtrain, Xtest, ytrain, ytest = train_test_split(X, y, train_size=0.3, random_state=63, stratify=y)"
   ]
  },
  {
   "cell_type": "markdown",
   "metadata": {},
   "source": [
    "## Предобработаем данные:"
   ]
  },
  {
   "cell_type": "code",
   "execution_count": 9,
   "metadata": {},
   "outputs": [
    {
     "name": "stderr",
     "output_type": "stream",
     "text": [
      "c:\\program files\\python38\\lib\\site-packages\\pandas\\core\\indexing.py:966: SettingWithCopyWarning: \n",
      "A value is trying to be set on a copy of a slice from a DataFrame.\n",
      "Try using .loc[row_indexer,col_indexer] = value instead\n",
      "\n",
      "See the caveats in the documentation: https://pandas.pydata.org/pandas-docs/stable/user_guide/indexing.html#returning-a-view-versus-a-copy\n",
      "  self.obj[item] = s\n"
     ]
    }
   ],
   "source": [
    "# заполним нулевые значения медианным значением по столбцу\n",
    "Xtrain.loc[Xtrain[Xtrain['height'].isna()].index, 'height'] = Xtrain['height'].median()\n",
    "Xtrain.loc[Xtrain[Xtrain['salary'].isna()].index, 'salary'] = Xtrain['salary'].median()\n",
    "#Xtrain['height'].fillna(int(Xtrain['height'].median()), inplace=True)\n",
    "#Xtrain['salary'].fillna(int(Xtrain['salary'].median()), inplace=True)"
   ]
  },
  {
   "cell_type": "markdown",
   "metadata": {},
   "source": [
    "смотрим наличие выбросов по каждому признаку"
   ]
  },
  {
   "cell_type": "code",
   "execution_count": 10,
   "metadata": {},
   "outputs": [
    {
     "data": {
      "text/plain": [
       "195.0"
      ]
     },
     "execution_count": 10,
     "metadata": {},
     "output_type": "execute_result"
    },
    {
     "data": {
      "image/png": "[encoded data removed]",
      "text/plain": [
       "<Figure size 432x288 with 1 Axes>"
      ]
     },
     "metadata": {
      "needs_background": "light"
     },
     "output_type": "display_data"
    }
   ],
   "source": [
    "# смотрим наличие выбросов по росту\n",
    "\n",
    "bp = Xtrain.boxplot(['height'],vert=False, return_type='dict')\n",
    "\n",
    "# получаем правую часть верхнего уса\n",
    "high_height = bp['whiskers'][1].get_xdata()[1]\n",
    "high_height\n"
   ]
  },
  {
   "cell_type": "markdown",
   "metadata": {},
   "source": [
    "Видим выбросы по росту свыше 195 см."
   ]
  },
  {
   "cell_type": "code",
   "execution_count": 11,
   "metadata": {},
   "outputs": [
    {
     "name": "stderr",
     "output_type": "stream",
     "text": [
      "c:\\program files\\python38\\lib\\site-packages\\pandas\\core\\indexing.py:966: SettingWithCopyWarning: \n",
      "A value is trying to be set on a copy of a slice from a DataFrame.\n",
      "Try using .loc[row_indexer,col_indexer] = value instead\n",
      "\n",
      "See the caveats in the documentation: https://pandas.pydata.org/pandas-docs/stable/user_guide/indexing.html#returning-a-view-versus-a-copy\n",
      "  self.obj[item] = s\n"
     ]
    },
    {
     "data": {
      "text/plain": [
       "0"
      ]
     },
     "execution_count": 11,
     "metadata": {},
     "output_type": "execute_result"
    }
   ],
   "source": [
    "# Заменяем данные с выбросами на медианное значение\n",
    "\n",
    "Xtrain.loc[Xtrain[Xtrain['height'] > high_height].index, 'height'] = Xtrain['height'].median()\n",
    "\n",
    "Xtrain[Xtrain['height'] > high_height]['height'].count()\n"
   ]
  },
  {
   "cell_type": "code",
   "execution_count": 12,
   "metadata": {},
   "outputs": [
    {
     "data": {
      "text/plain": [
       "9772.800000000001"
      ]
     },
     "execution_count": 12,
     "metadata": {},
     "output_type": "execute_result"
    },
    {
     "data": {
      "image/png": "[encoded data removed]",
      "text/plain": [
       "<Figure size 432x288 with 1 Axes>"
      ]
     },
     "metadata": {
      "needs_background": "light"
     },
     "output_type": "display_data"
    }
   ],
   "source": [
    "# смотрим наличие выбросов по зарплате\n",
    "\n",
    "bp = Xtrain.boxplot(['salary'],vert=False, return_type='dict')\n",
    "\n",
    "# получаем правую часть верхнего уса\n",
    "high_salary = bp['whiskers'][1].get_xdata()[1]\n",
    "high_salary"
   ]
  },
  {
   "cell_type": "code",
   "execution_count": 13,
   "metadata": {},
   "outputs": [
    {
     "name": "stderr",
     "output_type": "stream",
     "text": [
      "c:\\program files\\python38\\lib\\site-packages\\pandas\\core\\indexing.py:966: SettingWithCopyWarning: \n",
      "A value is trying to be set on a copy of a slice from a DataFrame.\n",
      "Try using .loc[row_indexer,col_indexer] = value instead\n",
      "\n",
      "See the caveats in the documentation: https://pandas.pydata.org/pandas-docs/stable/user_guide/indexing.html#returning-a-view-versus-a-copy\n",
      "  self.obj[item] = s\n"
     ]
    },
    {
     "data": {
      "text/plain": [
       "0"
      ]
     },
     "execution_count": 13,
     "metadata": {},
     "output_type": "execute_result"
    }
   ],
   "source": [
    "# Заменяем данные с выбросами на медианное значение\n",
    "\n",
    "Xtrain.loc[Xtrain[Xtrain['salary'] > high_salary].index, 'salary'] = Xtrain['salary'].median()\n",
    "Xtrain[Xtrain['salary'] > high_salary]['salary'].count()"
   ]
  },
  {
   "cell_type": "code",
   "execution_count": 14,
   "metadata": {},
   "outputs": [],
   "source": [
    "from sklearn.preprocessing import OneHotEncoder\n",
    "from sklearn.preprocessing import StandardScaler"
   ]
  },
  {
   "cell_type": "code",
   "execution_count": 15,
   "metadata": {},
   "outputs": [
    {
     "data": {
      "text/plain": [
       "(6000, 5)"
      ]
     },
     "execution_count": 15,
     "metadata": {},
     "output_type": "execute_result"
    }
   ],
   "source": [
    "# Применим OneHotEncoding к обучающей выборке\n",
    "ohe = OneHotEncoder()\n",
    "df2 = pd.DataFrame(ohe.fit_transform(Xtrain[['country']]).toarray(), index=Xtrain.index)\n",
    "\n",
    "# Нормализуем обучающую выборку\n",
    "Xtrain_ohe = pd.concat([Xtrain, df2], axis=1)\n",
    "Xtrain_ohe.drop(columns=['country'], inplace=True)\n",
    "sc = StandardScaler()\n",
    "Xtrain_sc = sc.fit_transform(Xtrain_ohe)\n",
    "Xtrain_sc.shape"
   ]
  },
  {
   "cell_type": "code",
   "execution_count": 16,
   "metadata": {},
   "outputs": [
    {
     "data": {
      "text/plain": [
       "(6000,)"
      ]
     },
     "execution_count": 16,
     "metadata": {},
     "output_type": "execute_result"
    }
   ],
   "source": [
    "#2) применим к sex - Label Encoding\n",
    "from sklearn.preprocessing import LabelEncoder\n",
    "le = LabelEncoder()\n",
    "le.fit(ytrain['sex'])\n",
    "Y = le.transform(ytrain['sex'])\n",
    "Y.shape"
   ]
  },
  {
   "cell_type": "code",
   "execution_count": 17,
   "metadata": {},
   "outputs": [],
   "source": [
    "from sklearn.linear_model import LogisticRegression"
   ]
  },
  {
   "cell_type": "code",
   "execution_count": 18,
   "metadata": {},
   "outputs": [
    {
     "data": {
      "text/plain": [
       "LogisticRegression()"
      ]
     },
     "execution_count": 18,
     "metadata": {},
     "output_type": "execute_result"
    }
   ],
   "source": [
    "#Обучим модель\n",
    "lr = LogisticRegression()\n",
    "lr.fit(Xtrain_sc, Y)\n"
   ]
  },
  {
   "cell_type": "code",
   "execution_count": 19,
   "metadata": {},
   "outputs": [
    {
     "name": "stderr",
     "output_type": "stream",
     "text": [
      "c:\\program files\\python38\\lib\\site-packages\\pandas\\core\\indexing.py:966: SettingWithCopyWarning: \n",
      "A value is trying to be set on a copy of a slice from a DataFrame.\n",
      "Try using .loc[row_indexer,col_indexer] = value instead\n",
      "\n",
      "See the caveats in the documentation: https://pandas.pydata.org/pandas-docs/stable/user_guide/indexing.html#returning-a-view-versus-a-copy\n",
      "  self.obj[item] = s\n"
     ]
    }
   ],
   "source": [
    "# Заполним тестовую выборку медианными значениями\n",
    "Xtest.loc[Xtest[Xtest['height'].isna()].index, 'height'] = Xtest['height'].median()\n",
    "Xtest.loc[Xtest[Xtest['salary'].isna()].index, 'salary'] = Xtest['salary'].median()\n"
   ]
  },
  {
   "cell_type": "code",
   "execution_count": 20,
   "metadata": {},
   "outputs": [
    {
     "data": {
      "text/plain": [
       "195.0"
      ]
     },
     "execution_count": 20,
     "metadata": {},
     "output_type": "execute_result"
    },
    {
     "data": {
      "image/png": "[encoded data removed]",
      "text/plain": [
       "<Figure size 432x288 with 1 Axes>"
      ]
     },
     "metadata": {
      "needs_background": "light"
     },
     "output_type": "display_data"
    }
   ],
   "source": [
    "# строим boxplot\n",
    "bp = Xtest.boxplot(['height'], vert=False, return_type='dict')\n",
    "\n",
    "# получаем правую часть верхнего уса\n",
    "high_height = bp['whiskers'][1].get_xdata()[1]\n",
    "high_height"
   ]
  },
  {
   "cell_type": "code",
   "execution_count": 21,
   "metadata": {},
   "outputs": [
    {
     "name": "stderr",
     "output_type": "stream",
     "text": [
      "c:\\program files\\python38\\lib\\site-packages\\pandas\\core\\indexing.py:966: SettingWithCopyWarning: \n",
      "A value is trying to be set on a copy of a slice from a DataFrame.\n",
      "Try using .loc[row_indexer,col_indexer] = value instead\n",
      "\n",
      "See the caveats in the documentation: https://pandas.pydata.org/pandas-docs/stable/user_guide/indexing.html#returning-a-view-versus-a-copy\n",
      "  self.obj[item] = s\n"
     ]
    },
    {
     "data": {
      "text/plain": [
       "0"
      ]
     },
     "execution_count": 21,
     "metadata": {},
     "output_type": "execute_result"
    }
   ],
   "source": [
    "# Заменяем данные с выбросами на медианное значение\n",
    "\n",
    "Xtest.loc[Xtest[Xtest['height'] > high_height].index, 'height'] = Xtest['height'].median()\n",
    "Xtest[Xtest['height'] > high_height]['height'].count()"
   ]
  },
  {
   "cell_type": "code",
   "execution_count": 22,
   "metadata": {},
   "outputs": [
    {
     "data": {
      "text/plain": [
       "9980.800000000001"
      ]
     },
     "execution_count": 22,
     "metadata": {},
     "output_type": "execute_result"
    },
    {
     "data": {
      "image/png": "[encoded data removed]",
      "text/plain": [
       "<Figure size 432x288 with 1 Axes>"
      ]
     },
     "metadata": {
      "needs_background": "light"
     },
     "output_type": "display_data"
    }
   ],
   "source": [
    "# строим boxplot\n",
    "bp = Xtest.boxplot(['salary'], vert=False, return_type='dict')\n",
    "\n",
    "# получаем правую часть верхнего уса\n",
    "high_salary = bp['whiskers'][1].get_xdata()[1]\n",
    "high_salary"
   ]
  },
  {
   "cell_type": "code",
   "execution_count": 24,
   "metadata": {},
   "outputs": [
    {
     "name": "stderr",
     "output_type": "stream",
     "text": [
      "c:\\program files\\python38\\lib\\site-packages\\pandas\\core\\indexing.py:966: SettingWithCopyWarning: \n",
      "A value is trying to be set on a copy of a slice from a DataFrame.\n",
      "Try using .loc[row_indexer,col_indexer] = value instead\n",
      "\n",
      "See the caveats in the documentation: https://pandas.pydata.org/pandas-docs/stable/user_guide/indexing.html#returning-a-view-versus-a-copy\n",
      "  self.obj[item] = s\n"
     ]
    },
    {
     "data": {
      "text/plain": [
       "0"
      ]
     },
     "execution_count": 24,
     "metadata": {},
     "output_type": "execute_result"
    }
   ],
   "source": [
    "# Заменяем данные с выбросами на медианное значение\n",
    "\n",
    "Xtest.loc[Xtest[Xtest['salary'] > high_salary].index, 'salary'] = Xtest['salary'].median()\n",
    "Xtest[Xtest['salary'] > high_salary]['salary'].count()"
   ]
  },
  {
   "cell_type": "code",
   "execution_count": 25,
   "metadata": {},
   "outputs": [
    {
     "data": {
      "text/plain": [
       "(14000,)"
      ]
     },
     "execution_count": 25,
     "metadata": {},
     "output_type": "execute_result"
    }
   ],
   "source": [
    "# Применим OneHotEncoding к тестовой выборке\n",
    "df3 = pd.DataFrame(ohe.transform(Xtest[['country']]).toarray(), index=Xtest.index)\n",
    "\n",
    "Xtest_ohe = pd.concat([Xtest, df3], axis=1)\n",
    "Xtest_ohe.drop(columns=['country'], inplace=True)\n",
    "\n",
    "# Нормализуем тестовую выборку\n",
    "Xtest_sc = sc.transform(Xtest_ohe)\n",
    "Xtest_sc.shape\n",
    "\n",
    "Yt = le.transform(ytest['sex'])\n",
    "Yt.shape"
   ]
  },
  {
   "cell_type": "code",
   "execution_count": 26,
   "metadata": {},
   "outputs": [
    {
     "data": {
      "text/plain": [
       "0.9747142857142858"
      ]
     },
     "execution_count": 26,
     "metadata": {},
     "output_type": "execute_result"
    }
   ],
   "source": [
    "# Посмотрим рещультаты обучения модели на тествой выборке\n",
    "lr.score(Xtest_sc, Yt)"
   ]
  }
 ],
 "metadata": {
  "kernelspec": {
   "display_name": "Python 3",
   "language": "python",
   "name": "python3"
  },
  "language_info": {
   "codemirror_mode": {
    "name": "ipython",
    "version": 3
   },
   "file_extension": ".py",
   "mimetype": "text/x-python",
   "name": "python",
   "nbconvert_exporter": "python",
   "pygments_lexer": "ipython3",
   "version": "3.8.2"
  }
 },
 "nbformat": 4,
 "nbformat_minor": 4
}
