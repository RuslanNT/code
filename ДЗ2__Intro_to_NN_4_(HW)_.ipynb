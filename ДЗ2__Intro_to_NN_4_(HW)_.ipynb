{
  "nbformat": 4,
  "nbformat_minor": 0,
  "metadata": {
    "kernelspec": {
      "display_name": "Python 3",
      "language": "python",
      "name": "python3"
    },
    "language_info": {
      "codemirror_mode": {
        "name": "ipython",
        "version": 3
      },
      "file_extension": ".py",
      "mimetype": "text/x-python",
      "name": "python",
      "nbconvert_exporter": "python",
      "pygments_lexer": "ipython3",
      "version": "3.6.4"
    },
    "colab": {
      "name": "ДЗ2 \"Intro to NN 4 (HW)\"",
      "provenance": [],
      "collapsed_sections": [],
      "toc_visible": true
    },
    "accelerator": "GPU"
  },
  "cells": [
    {
      "cell_type": "markdown",
      "metadata": {
        "collapsed": true,
        "id": "l4VAzKlG8aHj"
      },
      "source": [
        "## Neural Part Of Speech Tagging\n",
        "\n",
        "_This is an optional assignment. Turn back whilst thou still can_\n",
        "_Это необязательное задание. Возвращайся, пока ты еще можешь_ \n",
        "\n",
        "We're now going to solve the same problem of POS tagging with neural networks.\n",
        "<img src=https://i.stack.imgur.com/6pdIT.png width=320>\n",
        "\n",
        "From deep learning perspective, this is a task of predicting a sequence of outputs aligned to a sequence of inputs. There are several problems that match this formulation:\n",
        "* Part Of Speech Tagging -  an auxuliary task for many NLP problems\n",
        "* Named Entity Recognition - for chat bots and web crawlers\n",
        "* Protein structure prediction - for bioinformatics\n",
        "\n",
        "\n",
        "С точки зрения глубокого обучения, это задача прогнозирования последовательности выходных данных, согласованных с последовательностью входных данных. Есть несколько проблем, которые соответствуют этой формулировке:\n",
        "\n",
        "* Часть речевых тегов - вспомогательная задача для многих проблем НЛП\n",
        "* Распознавание именованных сущностей - для чат-ботов и веб-сканеров\n",
        "* Прогнозирование структуры белков - для биоинформатики "
      ]
    },
    {
      "cell_type": "code",
      "metadata": {
        "id": "slsJcB_Jo-XP"
      },
      "source": [
        ""
      ],
      "execution_count": null,
      "outputs": []
    },
    {
      "cell_type": "code",
      "metadata": {
        "scrolled": true,
        "id": "yxFUBtb88aHq",
        "colab": {
          "base_uri": "https://localhost:8080/"
        },
        "outputId": "08b112c0-5463-4c70-b786-cd7ac102f562"
      },
      "source": [
        "%tensorflow_version 1.x\n",
        "import nltk\n",
        "import sys\n",
        "import numpy as np\n",
        "\n",
        "nltk.download('brown')\n",
        "nltk.download('universal_tagset')\n",
        "data = nltk.corpus.brown.tagged_sents(tagset='universal')\n",
        "all_tags = ['#EOS#','#UNK#','ADV', 'NOUN', 'ADP', 'PRON', 'DET', '.', 'PRT', 'VERB', 'X', 'NUM', 'CONJ', 'ADJ']\n",
        "\n",
        "data = np.array([ [(word.lower(),tag) for word,tag in sentence] for sentence in data ])"
      ],
      "execution_count": 1,
      "outputs": [
        {
          "output_type": "stream",
          "text": [
            "TensorFlow 1.x selected.\n",
            "[nltk_data] Downloading package brown to /root/nltk_data...\n",
            "[nltk_data]   Unzipping corpora/brown.zip.\n",
            "[nltk_data] Downloading package universal_tagset to /root/nltk_data...\n",
            "[nltk_data]   Unzipping taggers/universal_tagset.zip.\n"
          ],
          "name": "stdout"
        },
        {
          "output_type": "stream",
          "text": [
            "/usr/local/lib/python3.7/dist-packages/ipykernel_launcher.py:11: VisibleDeprecationWarning: Creating an ndarray from ragged nested sequences (which is a list-or-tuple of lists-or-tuples-or ndarrays with different lengths or shapes) is deprecated. If you meant to do this, you must specify 'dtype=object' when creating the ndarray\n",
            "  # This is added back by InteractiveShellApp.init_path()\n"
          ],
          "name": "stderr"
        }
      ]
    },
    {
      "cell_type": "code",
      "metadata": {
        "id": "Bq_OXuD38aHs"
      },
      "source": [
        "from sklearn.model_selection import train_test_split\n",
        "train_data, test_data = train_test_split(data, test_size=0.25, random_state=42)"
      ],
      "execution_count": 2,
      "outputs": []
    },
    {
      "cell_type": "code",
      "metadata": {
        "id": "sAlXrDmU8aHs",
        "colab": {
          "base_uri": "https://localhost:8080/",
          "height": 146
        },
        "outputId": "6423c396-f799-43c7-bb3a-ea581fd7396a"
      },
      "source": [
        "from IPython.display import HTML, display\n",
        "def draw(sentence):\n",
        "    words, tags = zip(*sentence)\n",
        "    display(HTML('<table><tr>{tags}</tr>{words}<tr></table>'.format(\n",
        "                words = '<td>{}</td>'.format('</td><td>'.join(words)),\n",
        "                tags = '<td>{}</td>'.format('</td><td>'.join(tags)))))\n",
        "    \n",
        "    \n",
        "draw(data[11])\n",
        "draw(data[10])\n",
        "draw(data[7])"
      ],
      "execution_count": 3,
      "outputs": [
        {
          "output_type": "display_data",
          "data": {
            "text/html": [
              "<table><tr><td>NOUN</td><td>ADP</td><td>NOUN</td><td>NOUN</td><td>NOUN</td><td>NOUN</td><td>VERB</td><td>ADV</td><td>VERB</td><td>ADP</td><td>DET</td><td>ADJ</td><td>NOUN</td><td>.</td></tr><td>implementation</td><td>of</td><td>georgia's</td><td>automobile</td><td>title</td><td>law</td><td>was</td><td>also</td><td>recommended</td><td>by</td><td>the</td><td>outgoing</td><td>jury</td><td>.</td><tr></table>"
            ],
            "text/plain": [
              "<IPython.core.display.HTML object>"
            ]
          },
          "metadata": {
            "tags": []
          }
        },
        {
          "output_type": "display_data",
          "data": {
            "text/html": [
              "<table><tr><td>PRON</td><td>VERB</td><td>ADP</td><td>DET</td><td>NOUN</td><td>.</td><td>VERB</td><td>NOUN</td><td>PRT</td><td>VERB</td><td>.</td><td>DET</td><td>NOUN</td><td>.</td></tr><td>it</td><td>urged</td><td>that</td><td>the</td><td>city</td><td>``</td><td>take</td><td>steps</td><td>to</td><td>remedy</td><td>''</td><td>this</td><td>problem</td><td>.</td><tr></table>"
            ],
            "text/plain": [
              "<IPython.core.display.HTML object>"
            ]
          },
          "metadata": {
            "tags": []
          }
        },
        {
          "output_type": "display_data",
          "data": {
            "text/html": [
              "<table><tr><td>NOUN</td><td>VERB</td></tr><td>merger</td><td>proposed</td><tr></table>"
            ],
            "text/plain": [
              "<IPython.core.display.HTML object>"
            ]
          },
          "metadata": {
            "tags": []
          }
        }
      ]
    },
    {
      "cell_type": "markdown",
      "metadata": {
        "id": "LAViiL2C8aHt"
      },
      "source": [
        "### Building vocabularies\n",
        "\n",
        "Just like before, we have to build a mapping from tokens to integer ids. This time around, our model operates on a word level, processing one word per RNN step. This means we'll have to deal with far larger vocabulary.\n",
        "\n",
        "Luckily for us, we only receive those words as input i.e. we don't have to predict them. This means we can have a large vocabulary for free by using word embeddings.\n",
        "\n",
        "### Создание словарей\n",
        "\n",
        "Как и раньше, нам нужно построить сопоставление токенов с целочисленными идентификаторами. На этот раз наша модель работает на уровне слов, обрабатывая одно слово за шаг RNN. Это означает, что нам придется иметь дело с гораздо большим словарным запасом.\n",
        "\n",
        "К счастью для нас, мы получаем только эти слова в качестве входных данных, т.е. нам не нужно их предсказывать. Это означает, что мы можем бесплатно иметь большой словарный запас, используя вложения слов. "
      ]
    },
    {
      "cell_type": "code",
      "metadata": {
        "collapsed": true,
        "id": "ZXK_k-mo8aHt",
        "colab": {
          "base_uri": "https://localhost:8080/"
        },
        "outputId": "deb93812-5306-4aad-f3d7-8d241c0bc2ba"
      },
      "source": [
        "from collections import Counter\n",
        "word_counts = Counter()\n",
        "for sentence in data:\n",
        "    words, tags = zip(*sentence)\n",
        "    word_counts.update(words)\n",
        "\n",
        "all_words = ['#EOS#','#UNK#'] + list(list(zip(*word_counts.most_common(10000)))[0])\n",
        "\n",
        "#let's measure what fraction of data words are in the dictionary\n",
        "# давайте измерим, какая часть слов данных находится в словаре \n",
        "print(\"Coverage = %.5f\" % (float(sum(word_counts[w] for w in all_words)) / sum(word_counts.values())))"
      ],
      "execution_count": 4,
      "outputs": [
        {
          "output_type": "stream",
          "text": [
            "Coverage = 0.92876\n"
          ],
          "name": "stdout"
        }
      ]
    },
    {
      "cell_type": "code",
      "metadata": {
        "collapsed": true,
        "id": "T0hee8L88aHt"
      },
      "source": [
        "from collections import defaultdict\n",
        "word_to_id = defaultdict(lambda:1, { word: i for i, word in enumerate(all_words) })\n",
        "tag_to_id = { tag: i for i, tag in enumerate(all_tags)}"
      ],
      "execution_count": 5,
      "outputs": []
    },
    {
      "cell_type": "markdown",
      "metadata": {
        "id": "RCmGbwpP8aHu"
      },
      "source": [
        "convert words and tags into fixed-size matrix"
      ]
    },
    {
      "cell_type": "code",
      "metadata": {
        "collapsed": true,
        "id": "X7kx6jWn8aHu"
      },
      "source": [
        "def to_matrix(lines, token_to_id, max_len=None, pad=0, dtype='int32', time_major=False):\n",
        "    \"\"\"Converts a list of names into rnn-digestable matrix with paddings added after the end\n",
        "       Преобразует список имен в удобоваримую матрицу с заполнением, добавленным после конца\"\"\"\n",
        "    \n",
        "    max_len = max_len or max(map(len,lines))\n",
        "    matrix = np.empty([len(lines), max_len],dtype)\n",
        "    matrix.fill(pad)\n",
        "\n",
        "    for i in range(len(lines)):\n",
        "        line_ix = list(map(token_to_id.__getitem__,lines[i]))[:max_len]\n",
        "        matrix[i,:len(line_ix)] = line_ix\n",
        "\n",
        "    return matrix.T if time_major else matrix\n",
        "\n"
      ],
      "execution_count": 6,
      "outputs": []
    },
    {
      "cell_type": "code",
      "metadata": {
        "collapsed": true,
        "id": "BCaE-i5u8aHu",
        "colab": {
          "base_uri": "https://localhost:8080/"
        },
        "outputId": "a96b8616-4657-437b-f0b4-d343e208e4d9"
      },
      "source": [
        "batch_words, batch_tags = zip(*[zip(*sentence) for sentence in data[-3:]])\n",
        "\n",
        "print(\"Word ids:\")\n",
        "print(to_matrix(batch_words, word_to_id))\n",
        "print(\"Tag ids:\")\n",
        "print(to_matrix(batch_tags, tag_to_id))"
      ],
      "execution_count": 7,
      "outputs": [
        {
          "output_type": "stream",
          "text": [
            "Word ids:\n",
            "[[   2 3057    5    2 2238 1334 4238 2454    3    6   19   26 1070   69\n",
            "     8 2088    6    3    1    3  266   65  342    2    1    3    2  315\n",
            "     1    9   87  216 3322   69 1558    4    0    0    0    0    0    0\n",
            "     0    0    0    0    0    0    0    0    0    0    0]\n",
            " [  45   12    8  511 8419    6   60 3246   39    2    1    1    3    2\n",
            "   845    1    3    1    3   10 9910    2    1 3470    9   43    1    1\n",
            "     3    6    2 1046  385   73 4562    3    9    2    1    1 3250    3\n",
            "    12   10    2  861 5240   12    8 8936  121    1    4]\n",
            " [  33   64   26   12  445    7 7346    9    8 3337    3    1 2811    3\n",
            "     2  463  572    2    1    1 1649   12    1    4    0    0    0    0\n",
            "     0    0    0    0    0    0    0    0    0    0    0    0    0    0\n",
            "     0    0    0    0    0    0    0    0    0    0    0]]\n",
            "Tag ids:\n",
            "[[ 6  3  4  6  3  3  9  9  7 12  4  5  9  4  6  3 12  7  9  7  9  8  4  6\n",
            "   3  7  6 13  3  4  6  3  9  4  3  7  0  0  0  0  0  0  0  0  0  0  0  0\n",
            "   0  0  0  0  0]\n",
            " [ 5  9  6  9  3 12  6  3  7  6 13  3  7  6 13  3  7 13  7  5  9  6  3  3\n",
            "   4  6 13  3  7 12  6  3  6 13  3  7  4  6  3  9  3  7  9  4  6 13  3  9\n",
            "   6  3  2 13  7]\n",
            " [ 4  6  5  9 13  4  3  4  6 13  7 13  3  7  6  3  4  6 13  3  3  9  9  7\n",
            "   0  0  0  0  0  0  0  0  0  0  0  0  0  0  0  0  0  0  0  0  0  0  0  0\n",
            "   0  0  0  0  0]]\n"
          ],
          "name": "stdout"
        }
      ]
    },
    {
      "cell_type": "markdown",
      "metadata": {
        "collapsed": true,
        "id": "_oK_i5Xa8aHv"
      },
      "source": [
        "### Build model\n",
        "\n",
        "Unlike our previous lab, this time we'll focus on a high-level keras interface to recurrent neural networks. It is as simple as you can get with RNN, allbeit somewhat constraining for complex tasks like seq2seq.\n",
        "\n",
        "By default, all keras RNNs apply to a whole sequence of inputs and produce a sequence of hidden states `(return_sequences=True` or just the last hidden state `(return_sequences=False)`. All the recurrence is happening under the hood.\n",
        "\n",
        "At the top of our model we need to apply a Dense layer to each time-step independently. As of now, by default keras.layers.Dense would apply once to all time-steps concatenated. We use __keras.layers.TimeDistributed__ to modify Dense layer so that it would apply across both batch and time axes.\n",
        "\n",
        "### Построить модель\n",
        "\n",
        "В отличие от нашей предыдущей лабораторной работы, на этот раз мы сосредоточимся на высокоуровневом интерфейсе keras для повторяющихся нейронных сетей. Это настолько просто, насколько вы можете получить с RNN, хотя и несколько ограничивает сложные задачи, такие как seq2seq.\n",
        "\n",
        "По умолчанию все keras RNN применяются ко всей последовательности входных данных и создают последовательность скрытых состояний `(return_sequences = True` или только последнее скрытое состояние` (return_sequences = False) `. Все повторения происходят под капотом.\n",
        "\n",
        "В верхней части нашей модели нам нужно применить плотный слой к каждому временному шагу независимо. На данный момент по умолчанию keras.layers.Dense будет применяться один раз ко всем объединенным временным шагам. Мы используем __keras.layers.TimeDistributed__ для изменения слоя Dense, чтобы он применялся как для пакетной, так и для временной осей. "
      ]
    },
    {
      "cell_type": "code",
      "metadata": {
        "id": "OQeb8d5j8aHv",
        "colab": {
          "base_uri": "https://localhost:8080/"
        },
        "outputId": "a0cc50f3-a7e0-418c-e4f5-c21c55333905"
      },
      "source": [
        "import keras\n",
        "import keras.layers as L\n",
        "\n",
        "model = keras.models.Sequential()\n",
        "model.add(L.InputLayer([None],dtype='int32'))\n",
        "model.add(L.Embedding(len(all_words),50))\n",
        "model.add(L.SimpleRNN(64,return_sequences=True))\n",
        "\n",
        "#add top layer that predicts tag probabilities\n",
        "stepwise_dense = L.Dense(len(all_tags),activation='softmax')\n",
        "stepwise_dense = L.TimeDistributed(stepwise_dense)\n",
        "model.add(stepwise_dense)"
      ],
      "execution_count": 8,
      "outputs": [
        {
          "output_type": "stream",
          "text": [
            "Using TensorFlow backend.\n"
          ],
          "name": "stderr"
        },
        {
          "output_type": "stream",
          "text": [
            "WARNING:tensorflow:From /tensorflow-1.15.2/python3.7/tensorflow_core/python/ops/resource_variable_ops.py:1630: calling BaseResourceVariable.__init__ (from tensorflow.python.ops.resource_variable_ops) with constraint is deprecated and will be removed in a future version.\n",
            "Instructions for updating:\n",
            "If using Keras pass *_constraint arguments to layers.\n"
          ],
          "name": "stdout"
        }
      ]
    },
    {
      "cell_type": "markdown",
      "metadata": {
        "id": "lQbJqM2n8aHv"
      },
      "source": [
        "__Training:__ in this case we don't want to prepare the whole training dataset in advance. The main cause is that the length of every batch depends on the maximum sentence length within the batch. This leaves us two options: use custom training code as in previous seminar or use generators.\n",
        "\n",
        "Keras models have a __`model.fit_generator`__ method that accepts a python generator yielding one batch at a time. But first we need to implement such generator:\n",
        "\n",
        "__Training: __ в этом случае мы не хотим заранее готовить весь набор обучающих данных. Основная причина заключается в том, что длина каждого пакета зависит от максимальной длины предложения в пакете. Это оставляет нам два варианта: использовать специальный обучающий код, как на предыдущем семинаре, или использовать генераторы.\n",
        "\n",
        "В моделях Keras есть метод __`model.fit_generator`__, который принимает генератор Python, выдающий по одной партии за раз. Но для начала нам нужно реализовать такой генератор: "
      ]
    },
    {
      "cell_type": "code",
      "metadata": {
        "collapsed": true,
        "id": "kpeMsDi18aHw"
      },
      "source": [
        "from keras.utils.np_utils import to_categorical\n",
        "BATCH_SIZE=32\n",
        "def generate_batches(sentences,batch_size=BATCH_SIZE,max_len=None,pad=0):\n",
        "    assert isinstance(sentences,np.ndarray),\"Make sure sentences is q numpy array\"\n",
        "    \n",
        "    while True:\n",
        "        indices = np.random.permutation(np.arange(len(sentences)))\n",
        "        for start in range(0,len(indices)-1,batch_size):\n",
        "            batch_indices = indices[start:start+batch_size]\n",
        "            batch_words,batch_tags = [],[]\n",
        "            for sent in sentences[batch_indices]:\n",
        "                words,tags = zip(*sent)\n",
        "                batch_words.append(words)\n",
        "                batch_tags.append(tags)\n",
        "\n",
        "            batch_words = to_matrix(batch_words,word_to_id,max_len,pad)\n",
        "            batch_tags = to_matrix(batch_tags,tag_to_id,max_len,pad)\n",
        "\n",
        "            batch_tags_1hot = to_categorical(batch_tags,len(all_tags)).reshape(batch_tags.shape+(-1,))\n",
        "            yield batch_words,batch_tags_1hot\n",
        "        "
      ],
      "execution_count": 9,
      "outputs": []
    },
    {
      "cell_type": "markdown",
      "metadata": {
        "id": "zYoR9vgn8aHw"
      },
      "source": [
        "__Callbacks:__ Another thing we need is to measure model performance. The tricky part is not to count accuracy after sentence ends (on padding) and making sure we count all the validation data exactly once.\n",
        "\n",
        "While it isn't impossible to persuade Keras to do all of that, we may as well write our own callback that does that.\n",
        "Keras callbacks allow you to write a custom code to be ran once every epoch or every minibatch. We'll define one via LambdaCallback\n",
        "\n",
        "__Callbacks:__ Еще нам нужно измерить производительность модели. Сложность состоит в том, чтобы не подсчитывать точность после окончания предложения (при заполнении) и не просчитывать все проверочные данные ровно один раз.\n",
        "\n",
        "Хотя убедить Кераса сделать все это не невозможно, мы также можем написать собственный обратный вызов, который сделает это.\n",
        "Обратные вызовы Keras позволяют вам написать собственный код, который будет запускаться один раз в каждую эпоху или каждый мини-пакет. Мы определим один через LambdaCallback "
      ]
    },
    {
      "cell_type": "code",
      "metadata": {
        "collapsed": true,
        "id": "CC8woNtV8aHx"
      },
      "source": [
        "def compute_test_accuracy(model):\n",
        "    test_words,test_tags = zip(*[zip(*sentence) for sentence in test_data])\n",
        "    test_words,test_tags = to_matrix(test_words, word_to_id), to_matrix(test_tags, tag_to_id)\n",
        "\n",
        "    #predict tag probabilities of shape [batch, time, n_tags]\n",
        "    predicted_tag_probabilities = model.predict(test_words, verbose=1)\n",
        "    predicted_tags = predicted_tag_probabilities.argmax(axis=-1)\n",
        "\n",
        "    #compute accurary excluding padding\n",
        "    numerator = np.sum(np.logical_and((predicted_tags == test_tags), (test_words != 0)))\n",
        "    denominator = np.sum(test_words != 0)\n",
        "    return float(numerator)/denominator\n",
        "\n",
        "\n",
        "class EvaluateAccuracy(keras.callbacks.Callback):\n",
        "    def on_epoch_end(self,epoch,logs=None):\n",
        "        sys.stdout.flush()\n",
        "        print(\"\\nMeasuring validation accuracy...\")\n",
        "        acc = compute_test_accuracy(self.model)\n",
        "        print(\"\\nValidation accuracy: %.5f\\n\"%acc)\n",
        "        sys.stdout.flush()\n",
        "        "
      ],
      "execution_count": 10,
      "outputs": []
    },
    {
      "cell_type": "code",
      "metadata": {
        "id": "5eJGEWu58aHx",
        "colab": {
          "base_uri": "https://localhost:8080/"
        },
        "outputId": "eed404e0-2191-4e87-c512-a2d348b324dc"
      },
      "source": [
        "model.compile('adam','categorical_crossentropy')\n",
        "\n",
        "model.fit_generator(generate_batches(train_data), len(train_data)/BATCH_SIZE,\n",
        "                    callbacks=[EvaluateAccuracy()], epochs=5,)"
      ],
      "execution_count": null,
      "outputs": [
        {
          "output_type": "stream",
          "text": [
            "Epoch 1/5\n",
            "1344/1343 [==============================] - 23s 17ms/step - loss: 0.2484\n",
            "\n",
            "Measuring validation accuracy...\n",
            "14335/14335 [==============================] - 4s 301us/step\n",
            "\n",
            "Validation accuracy: 0.94049\n",
            "\n",
            "Epoch 2/5\n",
            "1344/1343 [==============================] - 23s 17ms/step - loss: 0.0580\n",
            "\n",
            "Measuring validation accuracy...\n",
            "14335/14335 [==============================] - 4s 288us/step\n",
            "\n",
            "Validation accuracy: 0.94416\n",
            "\n",
            "Epoch 3/5\n",
            "1344/1343 [==============================] - 23s 17ms/step - loss: 0.0512\n",
            "\n",
            "Measuring validation accuracy...\n",
            "14335/14335 [==============================] - 4s 290us/step\n",
            "\n",
            "Validation accuracy: 0.94551\n",
            "\n",
            "Epoch 4/5\n",
            "1344/1343 [==============================] - 23s 17ms/step - loss: 0.0467\n",
            "\n",
            "Measuring validation accuracy...\n",
            "14335/14335 [==============================] - 4s 291us/step\n",
            "\n",
            "Validation accuracy: 0.94499\n",
            "\n",
            "Epoch 5/5\n",
            "1344/1343 [==============================] - 23s 17ms/step - loss: 0.0427\n",
            "\n",
            "Measuring validation accuracy...\n",
            "14335/14335 [==============================] - 4s 287us/step\n",
            "\n",
            "Validation accuracy: 0.94393\n",
            "\n"
          ],
          "name": "stdout"
        },
        {
          "output_type": "execute_result",
          "data": {
            "text/plain": [
              "<keras.callbacks.callbacks.History at 0x7fdc87b06910>"
            ]
          },
          "metadata": {
            "tags": []
          },
          "execution_count": 22
        }
      ]
    },
    {
      "cell_type": "markdown",
      "metadata": {
        "id": "TTN7C34V8aHy"
      },
      "source": [
        "Measure final accuracy on the whole test set.\n",
        "Измерьте конечную точность на всем испытательном наборе. "
      ]
    },
    {
      "cell_type": "code",
      "metadata": {
        "id": "tHgxnYB68aHy",
        "colab": {
          "base_uri": "https://localhost:8080/"
        },
        "outputId": "ca2f1d7d-9de0-412c-cbb3-2c7a74464106"
      },
      "source": [
        "acc = compute_test_accuracy(model)\n",
        "print(\"Final accuracy: %.5f\"%acc)\n",
        "\n",
        "assert acc>0.94, \"Keras has gone on a rampage again, please contact course staff.\""
      ],
      "execution_count": null,
      "outputs": [
        {
          "output_type": "stream",
          "text": [
            "14335/14335 [==============================] - 4s 290us/step\n",
            "Final accuracy: 0.94393\n"
          ],
          "name": "stdout"
        }
      ]
    },
    {
      "cell_type": "markdown",
      "metadata": {
        "id": "5L5Prr4I8aHy"
      },
      "source": [
        "### Going bidirectional\n",
        "\n",
        "Since we're analyzing a full sequence, it's legal for us to look into future data.\n",
        "\n",
        "A simple way to achieve that is to go both directions at once, making a __bidirectional RNN__.\n",
        "\n",
        "In Keras you can achieve that both manually (using two LSTMs and Concatenate) and by using __`keras.layers.Bidirectional`__. \n",
        "\n",
        "This one works just as `TimeDistributed` we saw before: you wrap it around a recurrent layer (SimpleRNN now and LSTM/GRU later) and it actually creates two layers under the hood.\n",
        "\n",
        "Your first task is to use such a layer our POS-tagger.\n",
        "\n",
        "### Двунаправленный\n",
        "\n",
        "Поскольку мы анализируем полную последовательность, нам разрешено заглядывать в будущие данные.\n",
        "\n",
        "Простой способ добиться этого - пойти в обоих направлениях одновременно, создав __bidirectional RNN__.\n",
        "\n",
        "В Keras вы можете добиться этого как вручную (используя два LSTM и Concatenate), так и используя __`keras.layers.Bidirectional`__.\n",
        "\n",
        "Он работает так же, как TimeDistributed, который мы видели раньше: вы обертываете его вокруг повторяющегося слоя (SimpleRNN сейчас и LSTM / GRU позже), и он фактически создает два слоя под капотом.\n",
        "\n",
        "Ваша первая задача - использовать такой слой в нашем POS-tagger. "
      ]
    },
    {
      "cell_type": "code",
      "metadata": {
        "collapsed": true,
        "id": "xWfCrbh-8aHy"
      },
      "source": [
        "#Define a model that utilizes bidirectional SimpleRNN\n",
        "model = keras.models.Sequential()\n",
        "\n",
        "\n",
        "model.add(L.InputLayer([None], dtype='int32'))\n",
        "model.add(L.Embedding(len(all_words), 50))\n",
        "model.add(L.Bidirectional(L.SimpleRNN(64, return_sequences=True)))\n",
        "\n",
        "#add top layer that predicts tag probabilities\n",
        "stepwise_dense = L.Dense(len(all_tags), activation='softmax')\n",
        "#stepwise_dense = L.TimeDistributed(stepwise_dense)\n",
        "model.add(stepwise_dense)\n"
      ],
      "execution_count": 51,
      "outputs": []
    },
    {
      "cell_type": "code",
      "metadata": {
        "id": "Ort64W348aHz",
        "colab": {
          "base_uri": "https://localhost:8080/"
        },
        "outputId": "656a8884-4e27-446b-8d17-fa8d167b599e"
      },
      "source": [
        "model.compile('adam','categorical_crossentropy')\n",
        "\n",
        "model.fit_generator(generate_batches(train_data),len(train_data)/BATCH_SIZE,\n",
        "                    callbacks=[EvaluateAccuracy()], epochs=5,)"
      ],
      "execution_count": 52,
      "outputs": [
        {
          "output_type": "stream",
          "text": [
            "Epoch 1/5\n",
            "1344/1343 [==============================] - 69s 51ms/step - loss: 0.1919\n",
            "\n",
            "Measuring validation accuracy...\n",
            "14335/14335 [==============================] - 12s 837us/step\n",
            "\n",
            "Validation accuracy: 0.95551\n",
            "\n",
            "Epoch 2/5\n",
            "1344/1343 [==============================] - 66s 49ms/step - loss: 0.0424\n",
            "\n",
            "Measuring validation accuracy...\n",
            "14335/14335 [==============================] - 11s 767us/step\n",
            "\n",
            "Validation accuracy: 0.96078\n",
            "\n",
            "Epoch 3/5\n",
            "1344/1343 [==============================] - 67s 50ms/step - loss: 0.0347\n",
            "\n",
            "Measuring validation accuracy...\n",
            "14335/14335 [==============================] - 11s 779us/step\n",
            "\n",
            "Validation accuracy: 0.96213\n",
            "\n",
            "Epoch 4/5\n",
            "1344/1343 [==============================] - 67s 50ms/step - loss: 0.0295\n",
            "\n",
            "Measuring validation accuracy...\n",
            "14335/14335 [==============================] - 11s 776us/step\n",
            "\n",
            "Validation accuracy: 0.96266\n",
            "\n",
            "Epoch 5/5\n",
            "1344/1343 [==============================] - 67s 50ms/step - loss: 0.0252\n",
            "\n",
            "Measuring validation accuracy...\n",
            "14335/14335 [==============================] - 12s 808us/step\n",
            "\n",
            "Validation accuracy: 0.96235\n",
            "\n"
          ],
          "name": "stdout"
        },
        {
          "output_type": "execute_result",
          "data": {
            "text/plain": [
              "<keras.callbacks.callbacks.History at 0x7ff8469b7cd0>"
            ]
          },
          "metadata": {
            "tags": []
          },
          "execution_count": 52
        }
      ]
    },
    {
      "cell_type": "code",
      "metadata": {
        "id": "iWHSkF648aHz",
        "colab": {
          "base_uri": "https://localhost:8080/"
        },
        "outputId": "7eed6fe1-6a53-43ec-8eed-5ff380e754bb"
      },
      "source": [
        "acc = compute_test_accuracy(model)\n",
        "print(\"\\nFinal accuracy: %.5f\"%acc)\n",
        "\n",
        "assert acc>0.96, \"Bidirectional RNNs are better than this!\"\n",
        "print(\"Well done!\")"
      ],
      "execution_count": null,
      "outputs": [
        {
          "output_type": "stream",
          "text": [
            "14335/14335 [==============================] - 8s 534us/step\n",
            "\n",
            "Final accuracy: 0.96139\n",
            "Well done!\n"
          ],
          "name": "stdout"
        }
      ]
    },
    {
      "cell_type": "markdown",
      "metadata": {
        "id": "_UwePmFg8aHz"
      },
      "source": [
        "**Не делаем**\n",
        "Task I: The great battle between neural networks vs everything else (bonus points)\n",
        "\n",
        "You guesses it. We're now gonna ask you to apply your neural network to the the POS tagging problem from `./data`.\n",
        "\n",
        "In the minimal example, you can use words as the only input for the model. You can also try using the same features you used for statistical tagger - just concatenate them with word embedding.\n",
        "\n",
        "There's also a number of things you can try.\n",
        "\n",
        "\n",
        "### Задача I: великая битва между нейронными сетями и всем остальным (бонусные баллы) \n",
        "Вы уже догадались. Теперь мы попросим вас применить вашу нейронную сеть к проблеме тегов POS из ./data.\n",
        "\n",
        "В минимальном примере вы можете использовать слова как единственный вход для модели. Вы также можете попробовать использовать те же функции, которые вы использовали для статистических тегов, - просто объедините их с помощью встраивания слов.\n",
        "\n",
        "Есть также ряд вещей, которые вы можете попробовать. "
      ]
    },
    {
      "cell_type": "markdown",
      "metadata": {
        "id": "VW_nFppS8aH0"
      },
      "source": [
        "### Task II: Structured loss functions (more bonus points)\n",
        "\n",
        "Since we're tagging the whole sequence at once, we might as well train our network to do so. Remember linear CRF from the lecture? You can also use it as a loss function for your RNN\n",
        "\n",
        "\n",
        "  * There's more than one way to do so, but we'd recommend starting with [Conditional Random Fields](http://blog.echen.me/2012/01/03/introduction-to-conditional-random-fields/)\n",
        "  * You can plug CRF as a loss function and still train by backprop. There's even some neat tensorflow [implementation](https://www.tensorflow.org/api_guides/python/contrib.crf) for you.\n",
        "  * Alternatively, you can condition your model on previous tags (make it autoregressive) and perform __beam search__ over that model.\n",
        "\n",
        "### Задача II: Структурированные функции потерь (больше бонусных баллов)\n",
        "\n",
        "Поскольку мы маркируем сразу всю последовательность, мы могли бы также обучить нашу сеть этому. Помните линейный CRF из лекции? Вы также можете использовать его как функцию потерь для своей RNN.\n",
        "\n",
        "\n",
        "   * Есть несколько способов сделать это, но мы рекомендуем начать с [Условные случайные поля] (http://blog.echen.me/2012/01/03/introduction-to-conditional-random-fields/)\n",
        "   * Вы можете подключить CRF как функцию потерь и по-прежнему тренироваться по обратному каналу Есть даже интересная [реализация] тензорного потока (https://www.tensorflow.org/api_guides/python/contrib.crf) для вас.\n",
        "   * В качестве альтернативы вы можете обусловить свою модель предыдущими тегами (сделать ее авторегрессионной) и выполнить поиск __beam__ по этой модели. "
      ]
    },
    {
      "cell_type": "code",
      "metadata": {
        "colab": {
          "base_uri": "https://localhost:8080/"
        },
        "id": "i_9pzyJF3kxK",
        "outputId": "66996f7f-86a7-4f69-d9a5-d03f03ac04ab"
      },
      "source": [
        "!pip install git+https://www.github.com/keras-team/keras-contrib.git"
      ],
      "execution_count": 11,
      "outputs": [
        {
          "output_type": "stream",
          "text": [
            "Collecting git+https://www.github.com/keras-team/keras-contrib.git\n",
            "  Cloning https://www.github.com/keras-team/keras-contrib.git to /tmp/pip-req-build-yc24brc_\n",
            "  Running command git clone -q https://www.github.com/keras-team/keras-contrib.git /tmp/pip-req-build-yc24brc_\n",
            "Requirement already satisfied: keras in /tensorflow-1.15.2/python3.7 (from keras-contrib==2.0.8) (2.3.1)\n",
            "Requirement already satisfied: six>=1.9.0 in /usr/local/lib/python3.7/dist-packages (from keras->keras-contrib==2.0.8) (1.15.0)\n",
            "Requirement already satisfied: keras-applications>=1.0.6 in /tensorflow-1.15.2/python3.7 (from keras->keras-contrib==2.0.8) (1.0.8)\n",
            "Requirement already satisfied: keras-preprocessing>=1.0.5 in /usr/local/lib/python3.7/dist-packages (from keras->keras-contrib==2.0.8) (1.1.2)\n",
            "Requirement already satisfied: pyyaml in /usr/local/lib/python3.7/dist-packages (from keras->keras-contrib==2.0.8) (3.13)\n",
            "Requirement already satisfied: numpy>=1.9.1 in /usr/local/lib/python3.7/dist-packages (from keras->keras-contrib==2.0.8) (1.19.5)\n",
            "Requirement already satisfied: scipy>=0.14 in /usr/local/lib/python3.7/dist-packages (from keras->keras-contrib==2.0.8) (1.4.1)\n",
            "Requirement already satisfied: h5py in /usr/local/lib/python3.7/dist-packages (from keras->keras-contrib==2.0.8) (2.10.0)\n",
            "Building wheels for collected packages: keras-contrib\n",
            "  Building wheel for keras-contrib (setup.py) ... \u001b[?25l\u001b[?25hdone\n",
            "  Created wheel for keras-contrib: filename=keras_contrib-2.0.8-cp37-none-any.whl size=101065 sha256=eb01ce23b2c95e5b93ca85fd61f118029a61624ee4ab4aaa09fe3d4bddfad307\n",
            "  Stored in directory: /tmp/pip-ephem-wheel-cache-xvv1g0r0/wheels/11/27/c8/4ed56de7b55f4f61244e2dc6ef3cdbaff2692527a2ce6502ba\n",
            "Successfully built keras-contrib\n",
            "Installing collected packages: keras-contrib\n",
            "Successfully installed keras-contrib-2.0.8\n"
          ],
          "name": "stdout"
        }
      ]
    },
    {
      "cell_type": "code",
      "metadata": {
        "colab": {
          "base_uri": "https://localhost:8080/"
        },
        "id": "TCY5AkZxqrTC",
        "outputId": "3d642680-034b-4c64-83b0-aefbf86da20c"
      },
      "source": [
        "\n",
        "from keras.layers import Embedding, Input\n",
        "from keras.models import Model\n",
        "#from keras_crf import CRF\n",
        "from keras_contrib.layers import CRF\n",
        "from keras_contrib.losses import crf_loss\n",
        "from keras_contrib.metrics import crf_marginal_accuracy\n",
        "from keras_contrib.metrics import crf_viterbi_accuracy\n",
        "\n",
        "model = keras.models.Sequential()\n",
        "model.add(L.InputLayer([None], dtype='int32'))\n",
        "model.add(L.Embedding(len(all_words), 50))\n",
        "model.add(L.Bidirectional(L.SimpleRNN(64, return_sequences=True)))\n",
        "\n",
        "# #add top layer that predicts tag probabilities\n",
        "#stepwise_dense = L.Dense(len(all_tags), activation='softmax')\n",
        "#stepwise_dense = L.TimeDistributed(stepwise_dense)\n",
        "#model.add(stepwise_dense)\n",
        "\n",
        "crf = CRF(units=len(all_tags), sparse_target=False)\n",
        "model.add(crf)\n",
        "model.summary()\n",
        "model.compile('adam', loss=crf_loss)\n"
      ],
      "execution_count": 48,
      "outputs": [
        {
          "output_type": "stream",
          "text": [
            "Model: \"sequential_22\"\n",
            "_________________________________________________________________\n",
            "Layer (type)                 Output Shape              Param #   \n",
            "=================================================================\n",
            "embedding_22 (Embedding)     (None, None, 50)          500100    \n",
            "_________________________________________________________________\n",
            "bidirectional_9 (Bidirection (None, None, 128)         14720     \n",
            "_________________________________________________________________\n",
            "crf_21 (CRF)                 (None, None, 14)          2030      \n",
            "=================================================================\n",
            "Total params: 516,850\n",
            "Trainable params: 516,850\n",
            "Non-trainable params: 0\n",
            "_________________________________________________________________\n"
          ],
          "name": "stdout"
        }
      ]
    },
    {
      "cell_type": "code",
      "metadata": {
        "id": "lBeLd2WTrkhh",
        "colab": {
          "base_uri": "https://localhost:8080/"
        },
        "outputId": "738c3bdd-8c8c-4c07-c7a5-535e06e28f75"
      },
      "source": [
        "model.fit_generator(generate_batches(train_data), len(train_data)/BATCH_SIZE,\n",
        "                    callbacks=[EvaluateAccuracy()], epochs=5)"
      ],
      "execution_count": 49,
      "outputs": [
        {
          "output_type": "stream",
          "text": [
            "Epoch 1/5\n",
            "1344/1343 [==============================] - 119s 89ms/step - loss: 0.1918\n",
            "\n",
            "Measuring validation accuracy...\n",
            "14335/14335 [==============================] - 53s 4ms/step\n",
            "\n",
            "Validation accuracy: 0.95663\n",
            "\n",
            "Epoch 2/5\n",
            "1344/1343 [==============================] - 119s 89ms/step - loss: 0.0366\n",
            "\n",
            "Measuring validation accuracy...\n",
            "14335/14335 [==============================] - 53s 4ms/step\n",
            "\n",
            "Validation accuracy: 0.96168\n",
            "\n",
            "Epoch 3/5\n",
            "1344/1343 [==============================] - 120s 89ms/step - loss: 0.0094\n",
            "\n",
            "Measuring validation accuracy...\n",
            "14335/14335 [==============================] - 53s 4ms/step\n",
            "\n",
            "Validation accuracy: 0.96270\n",
            "\n",
            "Epoch 4/5\n",
            "1344/1343 [==============================] - 119s 88ms/step - loss: -0.0188\n",
            "\n",
            "Measuring validation accuracy...\n",
            "14335/14335 [==============================] - 52s 4ms/step\n",
            "\n",
            "Validation accuracy: 0.96212\n",
            "\n",
            "Epoch 5/5\n",
            "1344/1343 [==============================] - 118s 88ms/step - loss: -0.0476\n",
            "\n",
            "Measuring validation accuracy...\n",
            "14335/14335 [==============================] - 52s 4ms/step\n",
            "\n",
            "Validation accuracy: 0.96145\n",
            "\n"
          ],
          "name": "stdout"
        },
        {
          "output_type": "execute_result",
          "data": {
            "text/plain": [
              "<keras.callbacks.callbacks.History at 0x7ff848978c90>"
            ]
          },
          "metadata": {
            "tags": []
          },
          "execution_count": 49
        }
      ]
    },
    {
      "cell_type": "code",
      "metadata": {
        "id": "uXEj1Nm98aH0",
        "colab": {
          "base_uri": "https://localhost:8080/"
        },
        "outputId": "08494db6-c6b2-493e-a47e-488424c6e836"
      },
      "source": [
        "acc = compute_test_accuracy(model)\n",
        "print(\"\\nFinal accuracy: %.5f\"%acc)\n",
        "\n",
        "assert acc>0.96, \"Bidirectional RNNs are better than this!\"\n",
        "print(\"Well done!\")"
      ],
      "execution_count": 50,
      "outputs": [
        {
          "output_type": "stream",
          "text": [
            "14335/14335 [==============================] - 52s 4ms/step\n",
            "\n",
            "Final accuracy: 0.96145\n",
            "Well done!\n"
          ],
          "name": "stdout"
        }
      ]
    },
    {
      "cell_type": "markdown",
      "metadata": {
        "id": "kED2cCYS3_98"
      },
      "source": [
        "Интересно, что с 4-й эпохи loss стал отрицательный и accuracy снижается"
      ]
    },
    {
      "cell_type": "markdown",
      "metadata": {
        "id": "AG_wuMVf8aH0"
      },
      "source": [
        "#### Some tips\n",
        "Here there are a few more tips on how to improve training that are a bit trickier to impliment. We strongly suggest that you try them _after_ you've got a good initial model.\n",
        "* __Use pre-trained embeddings__: you can use pre-trained weights from [there](http://ahogrammer.com/2017/01/20/the-list-of-pretrained-word-embeddings/) to kickstart your Embedding layer.\n",
        "  * Embedding layer has a matrix W (layer.W) which contains word embeddings for each word in the dictionary. You can just overwrite them with tf.assign.\n",
        "  * When using pre-trained embeddings, pay attention to the fact that model's dictionary is different from your own.\n",
        "  * You may want to switch trainable=False for embedding layer in first few epochs as in regular fine-tuning.  \n",
        "* __Go beyond SimpleRNN__: there's `keras.layers.LSTM` and `keras.layers.GRU`\n",
        "  * If you want to use a custom recurrent Cell, read [this](https://keras.io/layers/recurrent/#rnn)\n",
        "  * You can also use 1D Convolutions (`keras.layers.Conv1D`). They are often as good as recurrent layers but with less overfitting.\n",
        "* __Stack more layers__: if there is a common motif to this course it's about stacking layers\n",
        "  * You can just add recurrent and 1dconv layers on top of one another and keras will understand it\n",
        "  * Just remember that bigger networks may need more epochs to train\n",
        "* __Regularization__: you can apply dropouts as usual but also in an RNN-specific way\n",
        "  * `keras.layers.Dropout` works inbetween RNN layers\n",
        "  * Recurrent layers also have `recurrent_dropout` parameter\n",
        "* __Gradient clipping__: If your training isn't as stable as you'd like, set `clipnorm` in your optimizer.\n",
        "  * Which is to say, it's a good idea to watch over your loss curve at each minibatch. Try tensorboard callback or something similar.\n",
        "* __Word Dropout__: tl;dr randomly replace words with UNK during training. \n",
        "  * This can also simulate increased amount of unknown words in the test set\n",
        "* __Larger vocabulary__: You can obtain greater performance by expanding your model's input dictionary from 5000 to up to every single word!\n",
        "  * Just make sure your model doesn't overfit due to so many parameters.\n",
        "  * Combined with regularizers or pre-trained word-vectors this could be really good cuz right now our model is blind to >5% of words.  \n",
        "* __More efficient batching__: right now TF spends a lot of time iterating over \"0\"s\n",
        "  * This happens because batch is always padded to the length of a longest sentence\n",
        "  * You can speed things up by pre-generating batches of similar lengths and feeding it with randomly chosen pre-generated batch.\n",
        "  * This technically breaks the i.i.d. assumption, but it works unless you come up with some insane rnn architectures.\n",
        "* __The most important advice__: don't cram in everything at once!\n",
        "  * If you stuff in a lot of modiffications, some of them almost inevitably gonna be detrimental and you'll never know which of them are.\n",
        "  * Try to instead go in small iterations and record experiment results to guide further search.\n",
        "    \n",
        "Good hunting!\n",
        "\n",
        "#### Несколько советов\n",
        "Вот еще несколько советов о том, как улучшить тренировку, которые немного сложнее реализовать. Мы настоятельно рекомендуем вам попробовать их _после__ того, как у вас будет хорошая начальная модель.\n",
        "* __Используйте предварительно обученные вложения __: вы можете использовать предварительно обученные веса из [там] (http://ahogrammer.com/2017/01/20/the-list-of-pretrained-word-embeddings/), чтобы начать внедрение. слой.\n",
        "  * Встраиваемый слой имеет матрицу W (layer.W), которая содержит вложения слов для каждого слова в словаре. Вы можете просто перезаписать их с помощью tf.assign.\n",
        "  * При использовании предварительно обученных эмбеддингов обратите внимание на то, что словарь модели отличается от вашего собственного.\n",
        "  * Вы можете переключить trainable = False для встраивания слоя в первые несколько эпох, как при обычной тонкой настройке.\n",
        "* __Войдите за пределы SimpleRNN__: есть `keras.layers.LSTM` и` keras.layers.GRU`\n",
        "  * Если вы хотите использовать настраиваемую повторяющуюся ячейку, прочтите [это] (https://keras.io/layers/recurrent/#rnn)\n",
        "  * Вы также можете использовать одномерные свертки (`keras.layers.Conv1D`). Часто они не уступают повторяющимся слоям, но с меньшим количеством переобучений.\n",
        "* __Складывайте больше слоев__: если у этого курса есть общий мотив, то он о наложении слоев\n",
        "  * Вы можете просто добавить повторяющиеся слои и слои 1dconv друг на друга, и keras поймет это\n",
        "  * Просто помните, что для более крупных сетей может потребоваться больше эпох для обучения\n",
        "* __Regularization__: отсев можно применять как обычно, но также и специфичным для RNN способом.\n",
        "  * `keras.layers.Dropout` работает между слоями RNN\n",
        "  * Рекуррентные слои также имеют параметр recurrent_dropout\n",
        "* __Gradient clipping__: Если ваше обучение не так стабильно, как хотелось бы, установите clipnorm в оптимизаторе.\n",
        "  * Другими словами, рекомендуется следить за кривой потерь на каждой мини-партии. Попробуйте обратный вызов tenorboard или что-то подобное.\n",
        "* __Word Dropout__: tl; dr случайным образом заменяет слова на UNK во время обучения.\n",
        "  * Это также может имитировать увеличенное количество неизвестных слов в тестовом наборе\n",
        "* __Больше словаря__: вы можете добиться большей производительности, расширив входной словарь вашей модели с 5000 до каждого отдельного слова!\n",
        "  * Просто убедитесь, что ваша модель не переоснащается из-за такого количества параметров.\n",
        "  * В сочетании с регуляризаторами или предварительно обученными векторами слов это может быть действительно хорошо, потому что сейчас наша модель слепа к> 5% слов.\n",
        "* __Более эффективное пакетирование__: сейчас TF тратит много времени на итерацию по \"0\" сек.\n",
        "  * Это происходит потому, что партия всегда дополняется до длины самого длинного предложения.\n",
        "  * Вы можете ускорить процесс, предварительно сгенерировав пакеты одинаковой длины и загрузив их случайно выбранными предварительно созданными пакетами.\n",
        "  * Это технически нарушает i.i.d. предположение, но это работает, если вы не придумаете какие-то безумные архитектуры rnn.\n",
        "* __Самый главный совет__: не впихивайте все сразу!\n",
        "  * Если вы добавите много модификаций, некоторые из них почти неизбежно будут вредными, и вы никогда не узнаете, какие из них.\n",
        "  * Вместо этого попробуйте проводить небольшие итерации и записывать результаты экспериментов, чтобы направлять дальнейший поиск.\n",
        "    \n",
        "Удачной охоты! "
      ]
    }
  ]
}