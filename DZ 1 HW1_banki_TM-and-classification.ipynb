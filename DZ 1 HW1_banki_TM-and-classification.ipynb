{
 "cells": [
  {
   "cell_type": "code",
   "execution_count": 1,
   "metadata": {
    "scrolled": true
   },
   "outputs": [],
   "source": [
    "import json\n",
    "from collections import Counter\n",
    "import bz2\n",
    "import regex\n",
    "from tqdm import tqdm\n",
    "from scipy import sparse\n",
    "import pickle"
   ]
  },
  {
   "cell_type": "code",
   "execution_count": 2,
   "metadata": {},
   "outputs": [
    {
     "name": "stdout",
     "output_type": "stream",
     "text": [
      "Populating the interactive namespace from numpy and matplotlib\n"
     ]
    }
   ],
   "source": [
    "import pandas as pd\n",
    "import numpy as np\n",
    "import nltk\n",
    "\n",
    "import matplotlib.pyplot as plt\n",
    "import seaborn as sns\n",
    "%matplotlib inline\n",
    "%pylab inline"
   ]
  },
  {
   "cell_type": "code",
   "execution_count": null,
   "metadata": {},
   "outputs": [],
   "source": [
    "nltk.download('stopwords')"
   ]
  },
  {
   "cell_type": "code",
   "execution_count": 5,
   "metadata": {
    "scrolled": true
   },
   "outputs": [
    {
     "name": "stderr",
     "output_type": "stream",
     "text": [
      "201030it [01:40, 1993.35it/s]\n"
     ]
    }
   ],
   "source": [
    "responses = []\n",
    "with bz2.BZ2File('banki_responses.json.bz2', 'r') as thefile:\n",
    "    for row in tqdm(thefile):\n",
    "        resp = json.loads(row)\n",
    "        if not resp['rating_not_checked'] and (len(resp['text'].split()) > 0):\n",
    "            responses.append(resp)"
   ]
  },
  {
   "cell_type": "markdown",
   "metadata": {},
   "source": [
    "#  Домашнее задание по NLP # 1 [100 баллов]\n",
    "## Классификация по тональности \n",
    "\n",
    "В этом домашнем задании вам предстоит классифицировать по тональности отзывы на банки с сайта banki.ru.\n",
    "\n",
    "Данные содержат непосредственно тексты отзывов, некоторую дополнительную информацию, а также оценку по шкале от 1 до 5. \n",
    "\n",
    "Тексты хранятся в json-ах в массиве responses.\n",
    "\n",
    "Посмотрим на пример отзыва:"
   ]
  },
  {
   "cell_type": "code",
   "execution_count": 4,
   "metadata": {},
   "outputs": [
    {
     "data": {
      "text/plain": [
       "{'city': 'г. Саратов',\n",
       " 'rating_not_checked': False,\n",
       " 'title': 'Карта ко вкладу',\n",
       " 'num_comments': 0,\n",
       " 'bank_license': 'лицензия № 880',\n",
       " 'author': 'ronnichka',\n",
       " 'bank_name': 'Югра',\n",
       " 'datetime': '2015-06-03 20:56:57',\n",
       " 'text': 'Здравствуйте! Хотела написать, что мне месяц не выдают карту ко вкладу, ссылаясь на \"нам же их из Самары везут\" (на секундочку 5 часов езды от нашего города). Но! Прочитала, что людям 3,5 месяцев не выдают карту, и поняла, что у меня все хорошо, пока что. И подарок мне дали, и кулер в отделении есть. Так что я, конечно, готова ждать. Правда хотелось бы не очень долго.',\n",
       " 'rating_grade': 3}"
      ]
     },
     "execution_count": 4,
     "metadata": {},
     "output_type": "execute_result"
    }
   ],
   "source": [
    "responses[99]"
   ]
  },
  {
   "cell_type": "markdown",
   "metadata": {},
   "source": [
    "## Часть 1. Анализ текстов [40/100]\n",
    "\n",
    "1. Посчитайте количество отзывов в разных городах и на разные банки\n",
    "2. Постройте гистограмы длин слов в символах и в словах\n",
    "3. Найдите 10 самых частых:\n",
    "    * слов\n",
    "    * слов без стоп-слов\n",
    "    * лемм \n",
    "* существительных\n",
    "4. Постройте кривые Ципфа и Хипса\n",
    "5. Ответьте на следующие вопросы:\n",
    "    * какое слово встречается чаще, \"сотрудник\" или \"клиент\"?\n",
    "    * сколько раз встречается слова \"мошенничество\" и \"доверие\"?\n",
    "6. В поле \"rating_grade\" записана оценка отзыва по шкале от 1 до 5. Используйте меру $tf-idf$, для того, чтобы найти ключевые слова и биграмы для положительных отзывов (с оценкой 5) и отрицательных отзывов (с оценкой 1)"
   ]
  },
  {
   "cell_type": "markdown",
   "metadata": {},
   "source": [
    "### 1.1 Посчитайте количество отзывов в разных городах и на разные банки"
   ]
  },
  {
   "cell_type": "code",
   "execution_count": 53,
   "metadata": {},
   "outputs": [],
   "source": [
    "cities = []\n",
    "banks = []\n",
    "for response in responses:\n",
    "    cities.append(response['city'])\n",
    "    banks.append(response['bank_name'])"
   ]
  },
  {
   "cell_type": "code",
   "execution_count": 54,
   "metadata": {},
   "outputs": [],
   "source": [
    "responses_cities = Counter(cities)\n",
    "responses_banks = Counter(banks)"
   ]
  },
  {
   "cell_type": "code",
   "execution_count": 55,
   "metadata": {},
   "outputs": [
    {
     "name": "stdout",
     "output_type": "stream",
     "text": [
      "('г. Москва', 55354)\n",
      "(None, 15174)\n",
      "('г. Санкт-Петербург', 14342)\n",
      "('г. Екатеринбург', 2337)\n",
      "('г. Новосибирск', 2300)\n",
      "('г. Нижний Новгород', 1976)\n",
      "('г. Ростов-на-Дону', 1891)\n",
      "('г. Самара', 1731)\n",
      "('г. Челябинск', 1507)\n",
      "('г. Казань', 1440)\n"
     ]
    }
   ],
   "source": [
    "for i in responses_cities.most_common(10):\n",
    "    print(i)"
   ]
  },
  {
   "cell_type": "code",
   "execution_count": 56,
   "metadata": {},
   "outputs": [
    {
     "name": "stdout",
     "output_type": "stream",
     "text": [
      "('Сбербанк России', 26327)\n",
      "('Альфа-Банк', 10224)\n",
      "('ВТБ 24', 8185)\n",
      "('Русский Стандарт', 7943)\n",
      "('Хоум Кредит Банк', 7549)\n",
      "('Тинькофф Банк', 5387)\n",
      "('Национальный Банк «Траст»', 4607)\n",
      "('Ренессанс Кредит', 3849)\n",
      "('Связной Банк', 3775)\n",
      "('ОТП Банк', 3237)\n"
     ]
    }
   ],
   "source": [
    "for i in responses_banks.most_common(10):\n",
    "    print(i)"
   ]
  },
  {
   "cell_type": "markdown",
   "metadata": {},
   "source": [
    "### 1.2. Постройте гистограмы длин слов в символах и в словах"
   ]
  },
  {
   "cell_type": "markdown",
   "metadata": {},
   "source": [
    "#### Построим гистограмы длин слов в символах (больше 10 символов)"
   ]
  },
  {
   "cell_type": "code",
   "execution_count": 4,
   "metadata": {},
   "outputs": [
    {
     "name": "stderr",
     "output_type": "stream",
     "text": [
      "100%|████████████████████████████████████████████████████████████████████████| 153499/153499 [00:19<00:00, 7766.09it/s]\n"
     ]
    }
   ],
   "source": [
    "max_word =''\n",
    "words=[]\n",
    "for response in tqdm(responses):  \n",
    "    for word in response['text'].split():\n",
    "        if len(word)> 10:\n",
    "            words.append([word, len(word)])"
   ]
  },
  {
   "cell_type": "code",
   "execution_count": 14,
   "metadata": {},
   "outputs": [],
   "source": [
    "w, l = zip(*words)"
   ]
  },
  {
   "cell_type": "code",
   "execution_count": 18,
   "metadata": {},
   "outputs": [
    {
     "name": "stdout",
     "output_type": "stream",
     "text": [
      "Wall time: 6min 3s\n"
     ]
    }
   ],
   "source": [
    "%%time\n",
    "df = pd.DataFrame([w, l]).transpose()"
   ]
  },
  {
   "cell_type": "markdown",
   "metadata": {},
   "source": [
    "#### выведем ТОП-10 длинных слов"
   ]
  },
  {
   "cell_type": "code",
   "execution_count": 84,
   "metadata": {},
   "outputs": [
    {
     "data": {
      "text/html": [
       "<div>\n",
       "<style scoped>\n",
       "    .dataframe tbody tr th:only-of-type {\n",
       "        vertical-align: middle;\n",
       "    }\n",
       "\n",
       "    .dataframe tbody tr th {\n",
       "        vertical-align: top;\n",
       "    }\n",
       "\n",
       "    .dataframe thead th {\n",
       "        text-align: right;\n",
       "    }\n",
       "</style>\n",
       "<table border=\"1\" class=\"dataframe\">\n",
       "  <thead>\n",
       "    <tr style=\"text-align: right;\">\n",
       "      <th></th>\n",
       "      <th>0</th>\n",
       "      <th>1</th>\n",
       "    </tr>\n",
       "  </thead>\n",
       "  <tbody>\n",
       "    <tr>\n",
       "      <th>1068016</th>\n",
       "      <td>https://lh6.googleusercontent.com/-WzZ4rjBGzF4...</td>\n",
       "      <td>841</td>\n",
       "    </tr>\n",
       "    <tr>\n",
       "      <th>1068018</th>\n",
       "      <td>https://lh4.googleusercontent.com/-Bc0TG98kq2o...</td>\n",
       "      <td>827</td>\n",
       "    </tr>\n",
       "    <tr>\n",
       "      <th>1068017</th>\n",
       "      <td>https://lh5.googleusercontent.com/-c43qBWsTDYo...</td>\n",
       "      <td>827</td>\n",
       "    </tr>\n",
       "    <tr>\n",
       "      <th>1068019</th>\n",
       "      <td>https://lh5.googleusercontent.com/-0pEwr4EYYdI...</td>\n",
       "      <td>826</td>\n",
       "    </tr>\n",
       "    <tr>\n",
       "      <th>1068015</th>\n",
       "      <td>https://lh3.googleusercontent.com/-mnQjZF7m5uI...</td>\n",
       "      <td>797</td>\n",
       "    </tr>\n",
       "    <tr>\n",
       "      <th>1068014</th>\n",
       "      <td>https://lh6.googleusercontent.com/-DSPLatw_OYc...</td>\n",
       "      <td>796</td>\n",
       "    </tr>\n",
       "    <tr>\n",
       "      <th>1068025</th>\n",
       "      <td>https://lh6.googleusercontent.com/-pxOJwsPu68w...</td>\n",
       "      <td>539</td>\n",
       "    </tr>\n",
       "    <tr>\n",
       "      <th>1068010</th>\n",
       "      <td>https://lh5.googleusercontent.com/-jqJzUE4aETw...</td>\n",
       "      <td>448</td>\n",
       "    </tr>\n",
       "    <tr>\n",
       "      <th>1068022</th>\n",
       "      <td>https://lh6.googleusercontent.com/-JDKbeenWU8s...</td>\n",
       "      <td>406</td>\n",
       "    </tr>\n",
       "    <tr>\n",
       "      <th>1295751</th>\n",
       "      <td>https://www.dropbox.com/s/s8qfdm42d6zstnv/%D0%...</td>\n",
       "      <td>254</td>\n",
       "    </tr>\n",
       "  </tbody>\n",
       "</table>\n",
       "</div>"
      ],
      "text/plain": [
       "                                                         0    1\n",
       "1068016  https://lh6.googleusercontent.com/-WzZ4rjBGzF4...  841\n",
       "1068018  https://lh4.googleusercontent.com/-Bc0TG98kq2o...  827\n",
       "1068017  https://lh5.googleusercontent.com/-c43qBWsTDYo...  827\n",
       "1068019  https://lh5.googleusercontent.com/-0pEwr4EYYdI...  826\n",
       "1068015  https://lh3.googleusercontent.com/-mnQjZF7m5uI...  797\n",
       "1068014  https://lh6.googleusercontent.com/-DSPLatw_OYc...  796\n",
       "1068025  https://lh6.googleusercontent.com/-pxOJwsPu68w...  539\n",
       "1068010  https://lh5.googleusercontent.com/-jqJzUE4aETw...  448\n",
       "1068022  https://lh6.googleusercontent.com/-JDKbeenWU8s...  406\n",
       "1295751  https://www.dropbox.com/s/s8qfdm42d6zstnv/%D0%...  254"
      ]
     },
     "execution_count": 84,
     "metadata": {},
     "output_type": "execute_result"
    }
   ],
   "source": [
    "df.sort_values(1, ascending=False)[:10]"
   ]
  },
  {
   "cell_type": "code",
   "execution_count": 122,
   "metadata": {},
   "outputs": [
    {
     "data": {
      "text/plain": [
       "<AxesSubplot:>"
      ]
     },
     "execution_count": 122,
     "metadata": {},
     "output_type": "execute_result"
    },
    {
     "data": {
      "image/png": "[encoded data removed]",
      "text/plain": [
       "<Figure size 864x360 with 1 Axes>"
      ]
     },
     "metadata": {
      "needs_background": "light"
     },
     "output_type": "display_data"
    }
   ],
   "source": [
    "df[1].astype(int).hist(figsize=(12,5))"
   ]
  },
  {
   "cell_type": "markdown",
   "metadata": {},
   "source": [
    "#### Построим гистограмы длин слов в словах"
   ]
  },
  {
   "cell_type": "code",
   "execution_count": 100,
   "metadata": {},
   "outputs": [
    {
     "name": "stderr",
     "output_type": "stream",
     "text": [
      "100%|███████████████████████████████████████████████████████████████████████| 153499/153499 [00:05<00:00, 26492.08it/s]\n"
     ]
    }
   ],
   "source": [
    "max_sentence =''\n",
    "sentences=[]\n",
    "for response in tqdm(responses):  \n",
    "    if len(response['text'].split())> 1000:\n",
    "        sentences.append([response['text'], len(response['text'].split())])"
   ]
  },
  {
   "cell_type": "code",
   "execution_count": 102,
   "metadata": {},
   "outputs": [],
   "source": [
    "s, l = zip(*sentences)"
   ]
  },
  {
   "cell_type": "code",
   "execution_count": 103,
   "metadata": {},
   "outputs": [
    {
     "name": "stdout",
     "output_type": "stream",
     "text": [
      "Wall time: 216 ms\n"
     ]
    }
   ],
   "source": [
    "%%time\n",
    "df_sentenses = pd.DataFrame([s, l]).transpose()"
   ]
  },
  {
   "cell_type": "markdown",
   "metadata": {},
   "source": [
    "#### выведем ТОП-10 длинных предложений"
   ]
  },
  {
   "cell_type": "code",
   "execution_count": 112,
   "metadata": {},
   "outputs": [
    {
     "data": {
      "text/html": [
       "<div>\n",
       "<style scoped>\n",
       "    .dataframe tbody tr th:only-of-type {\n",
       "        vertical-align: middle;\n",
       "    }\n",
       "\n",
       "    .dataframe tbody tr th {\n",
       "        vertical-align: top;\n",
       "    }\n",
       "\n",
       "    .dataframe thead th {\n",
       "        text-align: right;\n",
       "    }\n",
       "</style>\n",
       "<table border=\"1\" class=\"dataframe\">\n",
       "  <thead>\n",
       "    <tr style=\"text-align: right;\">\n",
       "      <th></th>\n",
       "      <th>0</th>\n",
       "      <th>1</th>\n",
       "    </tr>\n",
       "  </thead>\n",
       "  <tbody>\n",
       "    <tr>\n",
       "      <th>386</th>\n",
       "      <td>Доброго времени суток. Я, Ливанцов Денис Анато...</td>\n",
       "      <td>5000</td>\n",
       "    </tr>\n",
       "    <tr>\n",
       "      <th>1172</th>\n",
       "      <td>Весь пост (крайне объёмный) опубликован мной в...</td>\n",
       "      <td>4305</td>\n",
       "    </tr>\n",
       "    <tr>\n",
       "      <th>294</th>\n",
       "      <td>Введение оно же вывод. Данный отзыв содержит к...</td>\n",
       "      <td>4192</td>\n",
       "    </tr>\n",
       "    <tr>\n",
       "      <th>771</th>\n",
       "      <td>История за 10 лет... Напишу кратко (это действ...</td>\n",
       "      <td>4012</td>\n",
       "    </tr>\n",
       "    <tr>\n",
       "      <th>195</th>\n",
       "      <td>Как и обещал в своем предыдущем отзыве от 29 о...</td>\n",
       "      <td>3879</td>\n",
       "    </tr>\n",
       "    <tr>\n",
       "      <th>219</th>\n",
       "      <td>Представьте себе такую ситуацию:  Вы, ежедневн...</td>\n",
       "      <td>3614</td>\n",
       "    </tr>\n",
       "    <tr>\n",
       "      <th>1225</th>\n",
       "      <td>Данное письмо разместил по просьбе автора, и о...</td>\n",
       "      <td>3416</td>\n",
       "    </tr>\n",
       "    <tr>\n",
       "      <th>1366</th>\n",
       "      <td>Подсадили нас на Сбербанк в организации. Орган...</td>\n",
       "      <td>3308</td>\n",
       "    </tr>\n",
       "    <tr>\n",
       "      <th>1338</th>\n",
       "      <td>Добрый вечер всем. Являюсь клиентом Филиала ОО...</td>\n",
       "      <td>3281</td>\n",
       "    </tr>\n",
       "    <tr>\n",
       "      <th>663</th>\n",
       "      <td>Это мой первый отзыв на портале, посему прошу ...</td>\n",
       "      <td>3228</td>\n",
       "    </tr>\n",
       "  </tbody>\n",
       "</table>\n",
       "</div>"
      ],
      "text/plain": [
       "                                                      0     1\n",
       "386   Доброго времени суток. Я, Ливанцов Денис Анато...  5000\n",
       "1172  Весь пост (крайне объёмный) опубликован мной в...  4305\n",
       "294   Введение оно же вывод. Данный отзыв содержит к...  4192\n",
       "771   История за 10 лет... Напишу кратко (это действ...  4012\n",
       "195   Как и обещал в своем предыдущем отзыве от 29 о...  3879\n",
       "219   Представьте себе такую ситуацию:  Вы, ежедневн...  3614\n",
       "1225  Данное письмо разместил по просьбе автора, и о...  3416\n",
       "1366  Подсадили нас на Сбербанк в организации. Орган...  3308\n",
       "1338  Добрый вечер всем. Являюсь клиентом Филиала ОО...  3281\n",
       "663   Это мой первый отзыв на портале, посему прошу ...  3228"
      ]
     },
     "execution_count": 112,
     "metadata": {},
     "output_type": "execute_result"
    }
   ],
   "source": [
    "df_sentenses.sort_values(1, ascending=False)[:10]"
   ]
  },
  {
   "cell_type": "markdown",
   "metadata": {},
   "source": [
    "#### видно ограничение в 5000 слов на сайте"
   ]
  },
  {
   "cell_type": "markdown",
   "metadata": {},
   "source": [
    "#### Выведем гистограмму длин сообщений длиной от 1000 слов"
   ]
  },
  {
   "cell_type": "code",
   "execution_count": 121,
   "metadata": {},
   "outputs": [
    {
     "data": {
      "text/plain": [
       "<AxesSubplot:>"
      ]
     },
     "execution_count": 121,
     "metadata": {},
     "output_type": "execute_result"
    },
    {
     "data": {
      "image/png": "[encoded data removed]",
      "text/plain": [
       "<Figure size 864x360 with 1 Axes>"
      ]
     },
     "metadata": {
      "needs_background": "light"
     },
     "output_type": "display_data"
    }
   ],
   "source": [
    "df_sentenses[1].astype(int).hist(figsize=(12,5))"
   ]
  },
  {
   "cell_type": "markdown",
   "metadata": {},
   "source": [
    "### 1.3. Найдите 10 самых частых:\n",
    "### * слов\n",
    "### * слов без стоп-слов\n",
    "### * лемм\n",
    "### * существительных\n"
   ]
  },
  {
   "cell_type": "markdown",
   "metadata": {},
   "source": [
    "### Найдите 10 самых частых слов"
   ]
  },
  {
   "cell_type": "code",
   "execution_count": 58,
   "metadata": {},
   "outputs": [],
   "source": [
    "import re\n",
    "regex = re.compile(\"[А-Яа-яA-Za-z]+\")"
   ]
  },
  {
   "cell_type": "code",
   "execution_count": 49,
   "metadata": {},
   "outputs": [],
   "source": [
    "from nltk.corpus import stopwords\n",
    "mystopwords = stopwords.words('russian') + ['это', 'наш' , 'тыс', 'млн', 'млрд', 'также',  'т', 'д']\n"
   ]
  },
  {
   "cell_type": "code",
   "execution_count": 59,
   "metadata": {},
   "outputs": [],
   "source": [
    "def words_only(text, regex=regex):\n",
    "    return \" \".join(regex.findall(text))\n",
    "\n",
    "def remove_stopwords(text, mystopwords = mystopwords):\n",
    "    try:\n",
    "        return \" \".join([token for token in text.split() if not token in mystopwords])\n",
    "    except:\n",
    "        return \"\""
   ]
  },
  {
   "cell_type": "code",
   "execution_count": 128,
   "metadata": {},
   "outputs": [
    {
     "name": "stderr",
     "output_type": "stream",
     "text": [
      "100%|████████████████████████████████████████████████████████████████████████| 153499/153499 [00:25<00:00, 5958.20it/s]\n"
     ]
    },
    {
     "data": {
      "text/plain": [
       "35674152"
      ]
     },
     "execution_count": 128,
     "metadata": {},
     "output_type": "execute_result"
    }
   ],
   "source": [
    "words = []\n",
    "for response in tqdm(responses):\n",
    "    text = response['text'].lower()\n",
    "    text = words_only(text)\n",
    "    words.extend(text.split(' '))\n",
    "\n",
    "len(words)"
   ]
  },
  {
   "cell_type": "code",
   "execution_count": 129,
   "metadata": {},
   "outputs": [
    {
     "name": "stdout",
     "output_type": "stream",
     "text": [
      "('в', 1330535)\n",
      "('и', 1058982)\n",
      "('не', 855332)\n",
      "('на', 707931)\n",
      "('что', 640057)\n",
      "('я', 577484)\n",
      "('с', 463754)\n",
      "('по', 372765)\n",
      "('мне', 320958)\n",
      "('банка', 275899)\n"
     ]
    }
   ],
   "source": [
    "words_counter = Counter(words)\n",
    "for i in words_counter.most_common(10):\n",
    "    print(i)"
   ]
  },
  {
   "cell_type": "markdown",
   "metadata": {},
   "source": [
    "### Найдите 10 самых частых слов без стоп-слов"
   ]
  },
  {
   "cell_type": "code",
   "execution_count": 60,
   "metadata": {},
   "outputs": [
    {
     "name": "stderr",
     "output_type": "stream",
     "text": [
      "100%|████████████████████████████████████████████████████████████████████████| 153499/153499 [02:09<00:00, 1189.83it/s]\n"
     ]
    },
    {
     "data": {
      "text/plain": [
       "22251313"
      ]
     },
     "execution_count": 60,
     "metadata": {},
     "output_type": "execute_result"
    }
   ],
   "source": [
    "words = []\n",
    "for response in tqdm(responses):\n",
    "    text = response['text'].lower()\n",
    "    text = words_only(text)\n",
    "    text = remove_stopwords(text)\n",
    "    words.extend(text.split(' '))\n",
    "\n",
    "len(words)"
   ]
  },
  {
   "cell_type": "code",
   "execution_count": 61,
   "metadata": {},
   "outputs": [
    {
     "data": {
      "text/plain": [
       "[('банка', 275899),\n",
       " ('банк', 215411),\n",
       " ('деньги', 131200),\n",
       " ('карту', 105827),\n",
       " ('карты', 101821),\n",
       " ('кредит', 81119),\n",
       " ('день', 76552),\n",
       " ('банке', 72162),\n",
       " ('заявление', 70423),\n",
       " ('очень', 66824)]"
      ]
     },
     "execution_count": 61,
     "metadata": {},
     "output_type": "execute_result"
    }
   ],
   "source": [
    "words_counter = Counter(words)\n",
    "words_counter.most_common(10)"
   ]
  },
  {
   "cell_type": "markdown",
   "metadata": {},
   "source": [
    "### Найдите 10 самых частых лемм"
   ]
  },
  {
   "cell_type": "code",
   "execution_count": 133,
   "metadata": {},
   "outputs": [],
   "source": [
    "from pymystem3 import Mystem\n",
    "m = Mystem()"
   ]
  },
  {
   "cell_type": "code",
   "execution_count": 134,
   "metadata": {
    "scrolled": true
   },
   "outputs": [],
   "source": [
    "def lemmatize(text, mystem=m):\n",
    "    try:\n",
    "        return \"\".join(m.lemmatize(text)).strip()  \n",
    "    except:\n",
    "        return \" \""
   ]
  },
  {
   "cell_type": "code",
   "execution_count": 63,
   "metadata": {},
   "outputs": [
    {
     "name": "stderr",
     "output_type": "stream",
     "text": [
      "100%|████████████████████████████████████████████████████████████████████████████████| 111/111 [29:56<00:00, 16.18s/it]"
     ]
    },
    {
     "name": "stdout",
     "output_type": "stream",
     "text": [
      "Wall time: 29min 56s\n"
     ]
    },
    {
     "name": "stderr",
     "output_type": "stream",
     "text": [
      "\n"
     ]
    },
    {
     "data": {
      "text/plain": [
       "177973995"
      ]
     },
     "execution_count": 63,
     "metadata": {},
     "output_type": "execute_result"
    }
   ],
   "source": [
    "%%time\n",
    "lemmatized_text = ''\n",
    "step =200000\n",
    "for i in tqdm(range(0, len(words), step)):\n",
    "    words_str = ' '.join(words[i:i+step])\n",
    "    text_to_lematize = lemmatize(words_str)\n",
    "    if i ==0:\n",
    "        lemmatized_text = text_to_lematize\n",
    "    else:\n",
    "        lemmatized_text = ' '.join([lemmatized_text, text_to_lematize])\n",
    "len(lemmatized_text)"
   ]
  },
  {
   "cell_type": "code",
   "execution_count": 7,
   "metadata": {},
   "outputs": [],
   "source": [
    "lemmata = lemmatized_text.split()"
   ]
  },
  {
   "cell_type": "code",
   "execution_count": 8,
   "metadata": {},
   "outputs": [],
   "source": [
    "lemmata_counter = Counter(lemmata)"
   ]
  },
  {
   "cell_type": "code",
   "execution_count": 9,
   "metadata": {},
   "outputs": [
    {
     "data": {
      "text/plain": [
       "[('банк', 621048),\n",
       " ('карта', 334998),\n",
       " ('деньги', 179734),\n",
       " ('день', 173065),\n",
       " ('кредит', 156177),\n",
       " ('отделение', 144050),\n",
       " ('весь', 144041),\n",
       " ('клиент', 136892),\n",
       " ('сотрудник', 134168),\n",
       " ('счет', 126894)]"
      ]
     },
     "execution_count": 9,
     "metadata": {},
     "output_type": "execute_result"
    }
   ],
   "source": [
    "lemmata_counter.most_common(10)\n"
   ]
  },
  {
   "cell_type": "markdown",
   "metadata": {},
   "source": [
    "### Найдите 10 самых частых существительных"
   ]
  },
  {
   "cell_type": "code",
   "execution_count": 4,
   "metadata": {},
   "outputs": [],
   "source": [
    "from ufal.udpipe import Model, Pipeline"
   ]
  },
  {
   "cell_type": "code",
   "execution_count": 5,
   "metadata": {},
   "outputs": [],
   "source": [
    "model = Model.load(\"russian-ud-2.0-170801.udpipe\") # path to the model"
   ]
  },
  {
   "cell_type": "code",
   "execution_count": 20,
   "metadata": {},
   "outputs": [],
   "source": [
    "TOP_100_lemm_with_counts = lemmata_counter.most_common(100)\n",
    "TOP_100_lemm_list = list(zip(*TOP_100_lemm_with_counts))[0]\n",
    "TOP_100_lemm = ' '.join(TOP_100_lemm_list)"
   ]
  },
  {
   "cell_type": "code",
   "execution_count": 22,
   "metadata": {},
   "outputs": [],
   "source": [
    "pipeline = Pipeline(model, 'generic_tokenizer', '', '', '')\n",
    "example = \"Если бы мне платили каждый раз. Каждый раз, когда я думаю о тебе.\"\n",
    "parsed = pipeline.process(TOP_100_lemm)\n"
   ]
  },
  {
   "cell_type": "code",
   "execution_count": 24,
   "metadata": {},
   "outputs": [],
   "source": [
    "nouns = ''\n",
    "for l in parsed.split('\\n'):\n",
    "    if l.find('NOUN') != -1:\n",
    "        nouns = ' '.join([nouns, l.split('\\t')[2].lower()])"
   ]
  },
  {
   "cell_type": "code",
   "execution_count": 26,
   "metadata": {},
   "outputs": [
    {
     "data": {
      "text/plain": [
       "['банк',\n",
       " 'карта',\n",
       " 'деньги',\n",
       " 'день',\n",
       " 'отделение',\n",
       " 'клиент',\n",
       " 'сотрудник',\n",
       " 'сумма',\n",
       " 'заявление',\n",
       " 'год']"
      ]
     },
     "execution_count": 26,
     "metadata": {},
     "output_type": "execute_result"
    }
   ],
   "source": [
    "nouns.split()[:10]"
   ]
  },
  {
   "cell_type": "markdown",
   "metadata": {},
   "source": [
    "### 1.4. Постройте кривые Ципфа и Хипса\n"
   ]
  },
  {
   "cell_type": "code",
   "execution_count": 38,
   "metadata": {},
   "outputs": [
    {
     "data": {
      "image/png": "[encoded data removed]",
      "text/plain": [
       "<Figure size 432x288 with 1 Axes>"
      ]
     },
     "metadata": {
      "needs_background": "light"
     },
     "output_type": "display_data"
    }
   ],
   "source": [
    "freqs = list(lemmata_counter.values())\n",
    "freqs = sorted(freqs, reverse = True)\n",
    "\n",
    "fig, ax = plt.subplots()\n",
    "ax.plot(freqs[:300], range(300))\n",
    "ax.set_title('кривая Ципфа')\n",
    "plt.show()"
   ]
  },
  {
   "cell_type": "code",
   "execution_count": 19,
   "metadata": {},
   "outputs": [],
   "source": [
    "from string import punctuation\n",
    "from nltk.tokenize import word_tokenize\n",
    "# nltk.download('punkt')"
   ]
  },
  {
   "cell_type": "code",
   "execution_count": 60,
   "metadata": {},
   "outputs": [
    {
     "name": "stderr",
     "output_type": "stream",
     "text": [
      "100%|█████████████████████████████████████████████████████████████████████████| 153499/153499 [22:53<00:00, 111.72it/s]\n"
     ]
    }
   ],
   "source": [
    "cnt = Counter()\n",
    "n_words = []\n",
    "n_tokens = []\n",
    "tokens = []\n",
    "for index, row in tqdm(df_responses.iterrows(), total = len(df_responses)):\n",
    "    tokens = word_tokenize(row['text'])\n",
    "    cnt.update([token for token in tokens if token not in punctuation])\n",
    "    n_words.append(len(cnt))\n",
    "    n_tokens.append(sum(list(cnt.values())))"
   ]
  },
  {
   "cell_type": "code",
   "execution_count": 61,
   "metadata": {},
   "outputs": [
    {
     "data": {
      "image/png": "[encoded data removed]",
      "text/plain": [
       "<Figure size 432x288 with 1 Axes>"
      ]
     },
     "metadata": {
      "needs_background": "light"
     },
     "output_type": "display_data"
    }
   ],
   "source": [
    "fig, ax = plt.subplots()\n",
    "ax.plot(n_tokens, n_words)\n",
    "ax.set_title('кривая Хипса')\n",
    "plt.show()"
   ]
  },
  {
   "cell_type": "markdown",
   "metadata": {},
   "source": [
    "### 1.5. Ответьте на следующие вопросы:\n",
    "    * какое слово встречается чаще, \"сотрудник\" или \"клиент\"?\n",
    "    * сколько раз встречается слова \"мошенничество\" и \"доверие\"?"
   ]
  },
  {
   "cell_type": "code",
   "execution_count": 18,
   "metadata": {},
   "outputs": [
    {
     "name": "stdout",
     "output_type": "stream",
     "text": [
      "сотрудник: 61348\n",
      "клиент: 69852\n",
      "мошенничество: 2652\n",
      "доверие: 2148\n"
     ]
    }
   ],
   "source": [
    "print(f'сотрудник: {sum(df_responses.text.str.contains(\"сотрудник\"))}')\n",
    "print(f'клиент: {sum(df_responses.text.str.contains(\"клиент\"))}')\n",
    "print(f'мошенничество: {sum(df_responses.text.str.contains(\"мошенничество\"))}')\n",
    "print(f'доверие: {sum(df_responses.text.str.contains(\"доверие\"))}')                 "
   ]
  },
  {
   "cell_type": "markdown",
   "metadata": {},
   "source": [
    "### 1.6. В поле \"rating_grade\" записана оценка отзыва по шкале от 1 до 5. Используйте меру  𝑡𝑓−𝑖𝑑𝑓 , для того, чтобы найти ключевые слова и биграмы для положительных отзывов (с оценкой 5) и отрицательных отзывов (с оценкой 1)"
   ]
  },
  {
   "cell_type": "code",
   "execution_count": 24,
   "metadata": {},
   "outputs": [],
   "source": [
    "df_responses2 = df_responses[df_responses.rating_grade.notnull()].copy()"
   ]
  },
  {
   "cell_type": "markdown",
   "metadata": {},
   "source": [
    "#### Разделим на положительные и отрицательные"
   ]
  },
  {
   "cell_type": "code",
   "execution_count": 30,
   "metadata": {},
   "outputs": [],
   "source": [
    "poz = df_responses2[df_responses2.rating_grade==5].copy()\n",
    "neg = df_responses2[df_responses2.rating_grade==1].copy()"
   ]
  },
  {
   "cell_type": "code",
   "execution_count": 32,
   "metadata": {},
   "outputs": [
    {
     "data": {
      "text/plain": [
       "((14713, 10), (47387, 10))"
      ]
     },
     "execution_count": 32,
     "metadata": {},
     "output_type": "execute_result"
    }
   ],
   "source": [
    "poz.shape, neg.shape"
   ]
  },
  {
   "cell_type": "code",
   "execution_count": 3,
   "metadata": {},
   "outputs": [],
   "source": [
    "from sklearn.feature_extraction.text import TfidfVectorizer"
   ]
  },
  {
   "cell_type": "markdown",
   "metadata": {},
   "source": [
    "#### Положительные униграммы"
   ]
  },
  {
   "cell_type": "code",
   "execution_count": 48,
   "metadata": {},
   "outputs": [
    {
     "data": {
      "text/plain": [
       "[('досрочно', 6965),\n",
       " ('закрывать', 8265),\n",
       " ('вклад', 3530),\n",
       " ('отпуск', 19219),\n",
       " ('жена', 7611),\n",
       " ('заказывать', 8187),\n",
       " ('заранее', 8597),\n",
       " ('забывать', 7869),\n",
       " ('сотрудник', 28574),\n",
       " ('банк', 1404),\n",
       " ('спб', 28663),\n",
       " ('ленсовет', 12661),\n",
       " ('наталья', 15550),\n",
       " ('отказывать', 19041),\n",
       " ('хотя', 32833),\n",
       " ('сумма', 29514),\n",
       " ('значительный', 9086),\n",
       " ('работать', 24800),\n",
       " ('быстро', 2762),\n",
       " ('профессионально', 24380)]"
      ]
     },
     "execution_count": 48,
     "metadata": {},
     "output_type": "execute_result"
    }
   ],
   "source": [
    "poz_vec = TfidfVectorizer(ngram_range=(1, 1))\n",
    "poz_bow = poz_vec.fit_transform(poz.text)\n",
    "list(poz_vec.vocabulary_.items())[:20]"
   ]
  },
  {
   "cell_type": "markdown",
   "metadata": {},
   "source": [
    "#### Отрицательные униграммы"
   ]
  },
  {
   "cell_type": "code",
   "execution_count": 49,
   "metadata": {},
   "outputs": [
    {
     "data": {
      "text/plain": [
       "[('открывать', 30276),\n",
       " ('вклад', 5476),\n",
       " ('счет', 47006),\n",
       " ('плюс', 33126),\n",
       " ('зарплатный', 13707),\n",
       " ('карта', 16567),\n",
       " ('рубль', 41795),\n",
       " ('сегодня', 43138),\n",
       " ('приходить', 37534),\n",
       " ('указанный', 49603),\n",
       " ('отделение', 30110),\n",
       " ('цель', 52180),\n",
       " ('пополнять', 35208),\n",
       " ('долларовый', 10744),\n",
       " ('сч', 46990),\n",
       " ('давать', 9150),\n",
       " ('операционист', 29272),\n",
       " ('паспорт', 31412),\n",
       " ('окошко', 28972),\n",
       " ('написать', 24008)]"
      ]
     },
     "execution_count": 49,
     "metadata": {},
     "output_type": "execute_result"
    }
   ],
   "source": [
    "neg_vec = TfidfVectorizer(ngram_range=(1, 1))\n",
    "neg_bow = neg_vec.fit_transform(neg.text)\n",
    "list(neg_vec.vocabulary_.items())[:20]"
   ]
  },
  {
   "cell_type": "markdown",
   "metadata": {},
   "source": [
    "#### Положительные биграммы"
   ]
  },
  {
   "cell_type": "code",
   "execution_count": 50,
   "metadata": {},
   "outputs": [
    {
     "data": {
      "text/plain": [
       "[('досрочно закрывать', 161053),\n",
       " ('закрывать вклад', 187900),\n",
       " ('вклад отпуск', 67581),\n",
       " ('отпуск жена', 431380),\n",
       " ('жена заказывать', 175937),\n",
       " ('заказывать заранее', 186294),\n",
       " ('заранее забывать', 196189),\n",
       " ('забывать заказывать', 180256),\n",
       " ('заказывать сотрудник', 186508),\n",
       " ('сотрудник банк', 675091),\n",
       " ('банк спб', 22573),\n",
       " ('спб ленсовет', 680725),\n",
       " ('ленсовет наталья', 280700),\n",
       " ('наталья отказывать', 336409),\n",
       " ('отказывать хотя', 423533),\n",
       " ('хотя сумма', 776192),\n",
       " ('сумма значительный', 706380),\n",
       " ('значительный работать', 209600),\n",
       " ('работать быстро', 586271),\n",
       " ('быстро профессионально', 46029)]"
      ]
     },
     "execution_count": 50,
     "metadata": {},
     "output_type": "execute_result"
    }
   ],
   "source": [
    "poz_vec = TfidfVectorizer(ngram_range=(2, 2))\n",
    "poz_bow = poz_vec.fit_transform(poz.text)\n",
    "list(poz_vec.vocabulary_.items())[:20]"
   ]
  },
  {
   "cell_type": "markdown",
   "metadata": {},
   "source": [
    "#### Отрицательные биграммы"
   ]
  },
  {
   "cell_type": "code",
   "execution_count": 51,
   "metadata": {},
   "outputs": [
    {
     "data": {
      "text/plain": [
       "[('открывать вклад', 1064439),\n",
       " ('вклад счет', 158298),\n",
       " ('счет плюс', 1785077),\n",
       " ('плюс зарплатный', 1176218),\n",
       " ('зарплатный карта', 488720),\n",
       " ('карта рубль', 601843),\n",
       " ('рубль сегодня', 1549870),\n",
       " ('сегодня приходить', 1596767),\n",
       " ('приходить указанный', 1381882),\n",
       " ('указанный отделение', 1872859),\n",
       " ('отделение цель', 1053291),\n",
       " ('цель пополнять', 1955660),\n",
       " ('пополнять долларовый', 1272377),\n",
       " ('долларовый сч', 381540),\n",
       " ('сч давать', 1780252),\n",
       " ('давать операционист', 298329),\n",
       " ('операционист паспорт', 1003827),\n",
       " ('паспорт зарплатный', 1118559),\n",
       " ('карта окошко', 600062),\n",
       " ('окошко написать', 991883)]"
      ]
     },
     "execution_count": 51,
     "metadata": {},
     "output_type": "execute_result"
    }
   ],
   "source": [
    "neg_vec = TfidfVectorizer(ngram_range=(2, 2))\n",
    "neg_bow = neg_vec.fit_transform(neg.text)\n",
    "list(neg_vec.vocabulary_.items())[:20]"
   ]
  },
  {
   "cell_type": "markdown",
   "metadata": {},
   "source": [
    "### Лемматизируем"
   ]
  },
  {
   "cell_type": "markdown",
   "metadata": {},
   "source": [
    "## Часть 2. Тематическое моделирование [20/100]\n",
    "\n",
    "1. Постройте несколько тематических моделей коллекции документов с разным числом тем. Приведите примеры понятных (интерпретируемых) тем.\n",
    "2. Найдите темы, в которых упомянуты конкретные банки (Сбербанк, ВТБ, другой банк). Можете ли вы их прокомментировать / объяснить?\n",
    "\n",
    "Эта часть задания может быть сделана с использованием gensim. "
   ]
  },
  {
   "cell_type": "markdown",
   "metadata": {},
   "source": [
    "### Предобработаем данные"
   ]
  },
  {
   "cell_type": "code",
   "execution_count": 8,
   "metadata": {},
   "outputs": [],
   "source": [
    "df_responses = pd.DataFrame(responses)"
   ]
  },
  {
   "cell_type": "code",
   "execution_count": 158,
   "metadata": {},
   "outputs": [],
   "source": [
    "mystopwords = stopwords.words('russian') + [\n",
    "    'это', 'наш' , 'тыс', 'млн', 'млрд', 'также',  'т', 'д', 'р', 'руб', 'сумма',\n",
    "    'который','прошлый','сей', 'свой', 'наш', 'ваш', 'мочь', 'такой', 'номер'\n",
    "]\n",
    "ru_words = re.compile(\"[А-Яа-я]+\")\n",
    "\n",
    "\n",
    "def words_only(text):\n",
    "    return \" \".join(ru_words.findall(text))\n",
    "\n",
    "\n",
    "def lemmatize(text, mystem=m):\n",
    "    try:\n",
    "        return \"\".join(m.lemmatize(text)).strip()  \n",
    "    except:\n",
    "        return \" \"\n",
    "\n",
    "\n",
    "def remove_stopwords(text, mystopwords = mystopwords):\n",
    "    try:\n",
    "        return \" \".join([token for token in text.split() if not token in mystopwords])\n",
    "    except:\n",
    "        return \"\"\n",
    "\n",
    "    \n",
    "def preprocess(text):\n",
    "    return remove_stopwords(lemmatize(words_only(text.lower())))"
   ]
  },
  {
   "cell_type": "code",
   "execution_count": 159,
   "metadata": {},
   "outputs": [
    {
     "name": "stderr",
     "output_type": "stream",
     "text": [
      "100%|████████████████████████████████████████████████████████████████████████| 153499/153499 [01:26<00:00, 1776.46it/s]\n"
     ]
    },
    {
     "name": "stdout",
     "output_type": "stream",
     "text": [
      "Wall time: 1min 26s\n"
     ]
    }
   ],
   "source": [
    "%%time\n",
    "df_responses.text = df_responses.text.progress_apply(remove_stopwords)"
   ]
  },
  {
   "cell_type": "markdown",
   "metadata": {},
   "source": [
    "### Построим модели с 5 и 30 темами"
   ]
  },
  {
   "cell_type": "code",
   "execution_count": 6,
   "metadata": {},
   "outputs": [],
   "source": [
    "from gensim.corpora import Dictionary\n",
    "from gensim.models import TfidfModel\n",
    "from gensim import similarities"
   ]
  },
  {
   "cell_type": "code",
   "execution_count": 160,
   "metadata": {},
   "outputs": [
    {
     "name": "stdout",
     "output_type": "stream",
     "text": [
      "Wall time: 1min\n"
     ]
    }
   ],
   "source": [
    "%%time\n",
    "texts = [text.split() for text in df_responses.text]\n",
    "dictionary = Dictionary(texts)\n",
    "corpus = [dictionary.doc2bow(text) for text in texts]"
   ]
  },
  {
   "cell_type": "code",
   "execution_count": 161,
   "metadata": {},
   "outputs": [],
   "source": [
    "tfidf = TfidfModel(corpus)\n",
    "corpus_tfidf = tfidf[corpus]"
   ]
  },
  {
   "cell_type": "code",
   "execution_count": 11,
   "metadata": {},
   "outputs": [],
   "source": [
    "from gensim.models import lsimodel"
   ]
  },
  {
   "cell_type": "code",
   "execution_count": 162,
   "metadata": {},
   "outputs": [
    {
     "name": "stdout",
     "output_type": "stream",
     "text": [
      "Wall time: 6min 57s\n"
     ]
    }
   ],
   "source": [
    "%%time\n",
    "lsi_5 = lsimodel.LsiModel(corpus=corpus_tfidf, id2word=dictionary, num_topics=5)\n",
    "lsi_30 = lsimodel.LsiModel(corpus=corpus_tfidf, id2word=dictionary, num_topics=30)"
   ]
  },
  {
   "cell_type": "code",
   "execution_count": 71,
   "metadata": {},
   "outputs": [],
   "source": [
    "def custom_key(num): \n",
    "    return num[1]\n"
   ]
  },
  {
   "cell_type": "code",
   "execution_count": 163,
   "metadata": {},
   "outputs": [],
   "source": [
    "topic_list_5 = []\n",
    "for topic in lsi_5.show_topics():\n",
    "    items = []\n",
    "    for item in topic[1].split(' + '):\n",
    "        if float(item.split('*')[0]) >0:\n",
    "            k = [item.split('*')[1].replace('\"',''), float(item.split('*')[0])]\n",
    "            items.append(k)\n",
    "    items.sort(key=custom_key, reverse=True)\n",
    "    topic_list_5.append(items)\n"
   ]
  },
  {
   "cell_type": "markdown",
   "metadata": {},
   "source": [
    "### Выведем темы со словами с наимольшим весом"
   ]
  },
  {
   "cell_type": "markdown",
   "metadata": {},
   "source": [
    "#### для 5-ти тем"
   ]
  },
  {
   "cell_type": "code",
   "execution_count": 164,
   "metadata": {},
   "outputs": [
    {
     "data": {
      "text/plain": [
       "0       [карта, 0.2]\n",
       "1    [кредит, 0.366]\n",
       "2     [карта, 0.252]\n",
       "3     [вклад, 0.313]\n",
       "4    [звонок, 0.298]\n",
       "Name: 0, dtype: object"
      ]
     },
     "execution_count": 164,
     "metadata": {},
     "output_type": "execute_result"
    }
   ],
   "source": [
    "pd.DataFrame(topic_list_5)[0]"
   ]
  },
  {
   "cell_type": "markdown",
   "metadata": {},
   "source": [
    "#### для 30-ти тем"
   ]
  },
  {
   "cell_type": "code",
   "execution_count": 165,
   "metadata": {},
   "outputs": [],
   "source": [
    "topic_list = []\n",
    "for topic in lsi_30.show_topics():\n",
    "    items = []\n",
    "    for item in topic[1].split(' + '):\n",
    "        if float(item.split('*')[0]) >0:\n",
    "            k = [item.split('*')[1].replace('\"',''), float(item.split('*')[0])]\n",
    "            items.append(k)\n",
    "    items.sort(key=custom_key, reverse=True)\n",
    "    topic_list.append(items)"
   ]
  },
  {
   "cell_type": "code",
   "execution_count": 166,
   "metadata": {},
   "outputs": [
    {
     "data": {
      "text/plain": [
       "0           [карта, 0.2]\n",
       "1      [банкомат, 0.275]\n",
       "2      [банкомат, 0.219]\n",
       "3         [вклад, 0.338]\n",
       "4      [банкомат, 0.479]\n",
       "5        [звонок, 0.242]\n",
       "6      [сбербанк, 0.249]\n",
       "7        [перевод, 0.27]\n",
       "8      [банкомат, 0.332]\n",
       "9     [страховка, 0.266]\n",
       "10      [справка, 0.164]\n",
       "11     [сбербанк, 0.429]\n",
       "12     [терминал, 0.331]\n",
       "13      [кошелек, 0.197]\n",
       "14     [комиссия, 0.284]\n",
       "15      [банкомат, 0.27]\n",
       "16          [смс, 0.312]\n",
       "17       [кредит, 0.307]\n",
       "18      [договор, 0.281]\n",
       "19     [комиссия, 0.362]\n",
       "20     [терминал, 0.209]\n",
       "21      [справка, 0.188]\n",
       "22     [комиссия, 0.261]\n",
       "23         [счет, 0.254]\n",
       "24        [линия, 0.223]\n",
       "25         [курс, 0.292]\n",
       "26    [страховка, 0.345]\n",
       "27       [звонок, 0.182]\n",
       "28       [заявка, 0.198]\n",
       "29    [заявление, 0.282]\n",
       "Name: 0, dtype: object"
      ]
     },
     "execution_count": 166,
     "metadata": {},
     "output_type": "execute_result"
    }
   ],
   "source": [
    "pd.DataFrame(topic_list)[0]"
   ]
  },
  {
   "cell_type": "markdown",
   "metadata": {},
   "source": [
    "#### В модели с 5-ю темами сами темы сильно различаются, в модели с 30-ю темами темы пересекаются. Возможно из-за того, что при большем количестве тем веса слов сильнее размываются."
   ]
  },
  {
   "cell_type": "markdown",
   "metadata": {},
   "source": [
    "#### Темы легко интерпретируемы и связаны с различными направлениями банковской деятельности: карточные операции, кредитование, вклады, звонки - это реклама либо мошенничество."
   ]
  },
  {
   "cell_type": "markdown",
   "metadata": {},
   "source": [
    "#### Тема со сбербанком встречается часто, т.к. это самый большй банк"
   ]
  },
  {
   "cell_type": "markdown",
   "metadata": {},
   "source": [
    "## Часть 3. Классификация текстов [40/100]\n",
    "\n",
    "Сформулируем для простоты задачу бинарной классификации: будем классифицировать на два класса, то есть, различать резко отрицательные отзывы (с оценкой 1) и положительные отзывы (с оценкой 5). \n",
    "\n",
    "1.  Составьте обучающее и тестовое множество: выберите из всего набора данных N1 отзывов с оценкой 1 и N2 отзывов с оценкой 5 (значение N1 и N2 – на ваше усмотрение). Используйте ```sklearn.model_selection.train_test_split``` для разделения множества отобранных документов на обучающее и тестовое. \n",
    "2. Используйте любой известный вам алгоритм классификации текстов для решения задачи и получите baseline. Сравните разные варианты векторизации текста: использование только униграм, пар или троек слов или с использованием символьных $n$-грам. \n",
    "3. Сравните, как изменяется качество решения задачи при использовании скрытых тем в качестве признаков:\n",
    "* 1-ый вариант: $tf-idf$ преобразование (```sklearn.feature_extraction.text.TfidfTransformer```) и сингулярное разложение (оно же – латентый семантический анализ) (```sklearn.decomposition.TruncatedSVD```), \n",
    "* 2-ой вариант: тематические модели LDA (```sklearn.decomposition.LatentDirichletAllocation```). \n",
    "\n",
    "Используйте accuracy и F-measure для оценки качества классификации. \n",
    "\n",
    "Ниже написан примерный Pipeline для классификации текстов. \n",
    "\n",
    "Эта часть задания может быть сделана с использованием sklearn. "
   ]
  },
  {
   "cell_type": "markdown",
   "metadata": {},
   "source": [
    "#### Объединим в один Датасет положительные и отрицательные отзывы"
   ]
  },
  {
   "cell_type": "code",
   "execution_count": 90,
   "metadata": {},
   "outputs": [],
   "source": [
    "poz_neg_df = poz.append(neg)"
   ]
  },
  {
   "cell_type": "code",
   "execution_count": 8,
   "metadata": {},
   "outputs": [],
   "source": [
    "from sklearn.model_selection import train_test_split\n",
    "from sklearn.linear_model import LogisticRegression\n",
    "from sklearn.metrics import *"
   ]
  },
  {
   "cell_type": "code",
   "execution_count": 9,
   "metadata": {},
   "outputs": [],
   "source": [
    "x_train, x_test, y_train, y_test = train_test_split(poz_neg_df.text, poz_neg_df.rating_grade)"
   ]
  },
  {
   "cell_type": "code",
   "execution_count": 12,
   "metadata": {},
   "outputs": [],
   "source": [
    "from sklearn.feature_extraction.text import TfidfTransformer\n",
    "from sklearn.decomposition import TruncatedSVD\n",
    "from sklearn.decomposition import LatentDirichletAllocation\n",
    "from sklearn.pipeline import Pipeline\n",
    "from sklearn.feature_extraction.text import CountVectorizer"
   ]
  },
  {
   "cell_type": "markdown",
   "metadata": {},
   "source": [
    "### 1-ый вариант:  𝑡𝑓−𝑖𝑑𝑓  преобразование (sklearn.feature_extraction.text.TfidfTransformer) и сингулярное разложение (оно же – латентый семантический анализ) (sklearn.decomposition.TruncatedSVD),"
   ]
  },
  {
   "cell_type": "markdown",
   "metadata": {},
   "source": [
    "#### с униграммами"
   ]
  },
  {
   "cell_type": "code",
   "execution_count": 92,
   "metadata": {},
   "outputs": [
    {
     "data": {
      "text/plain": [
       "(0.7614170692431562, 0.8644391988489368)"
      ]
     },
     "execution_count": 92,
     "metadata": {},
     "output_type": "execute_result"
    }
   ],
   "source": [
    "clf = Pipeline([\n",
    "    ('vect', CountVectorizer(ngram_range=(1,1))),\n",
    "    ('tfidf', TfidfTransformer()), \n",
    "    ('tm', TruncatedSVD()), \n",
    "    ('clf', LogisticRegression(random_state=42, max_iter=1000))\n",
    "])\n",
    "\n",
    "clf.fit(x_train, y_train)\n",
    "pred = clf.predict(x_test)\n",
    "accuracy_score(pred, y_test), f1_score(pred, y_test, average='weighted')"
   ]
  },
  {
   "cell_type": "markdown",
   "metadata": {},
   "source": [
    "#### с биграммами"
   ]
  },
  {
   "cell_type": "code",
   "execution_count": 93,
   "metadata": {},
   "outputs": [
    {
     "name": "stdout",
     "output_type": "stream",
     "text": [
      "Wall time: 51.6 s\n"
     ]
    },
    {
     "data": {
      "text/plain": [
       "(0.7615458937198067, 0.8646336112329969)"
      ]
     },
     "execution_count": 93,
     "metadata": {},
     "output_type": "execute_result"
    }
   ],
   "source": [
    "%%time\n",
    "clf = Pipeline([\n",
    "    ('vect', CountVectorizer(ngram_range=(2,2))),\n",
    "    ('tfidf', TfidfTransformer()), \n",
    "    ('tm', TruncatedSVD()), \n",
    "    ('clf', LogisticRegression(random_state=42, max_iter=1000))\n",
    "])\n",
    "\n",
    "clf.fit(x_train, y_train)\n",
    "pred = clf.predict(x_test)\n",
    "accuracy_score(pred, y_test), f1_score(pred, y_test, average='weighted')"
   ]
  },
  {
   "cell_type": "markdown",
   "metadata": {},
   "source": [
    "#### с триграммами"
   ]
  },
  {
   "cell_type": "code",
   "execution_count": 94,
   "metadata": {},
   "outputs": [
    {
     "name": "stdout",
     "output_type": "stream",
     "text": [
      "Wall time: 1min 25s\n"
     ]
    },
    {
     "data": {
      "text/plain": [
       "(0.7615458937198067, 0.8646336112329969)"
      ]
     },
     "execution_count": 94,
     "metadata": {},
     "output_type": "execute_result"
    }
   ],
   "source": [
    "%%time\n",
    "clf = Pipeline([\n",
    "    ('vect', CountVectorizer(ngram_range=(3,3))),\n",
    "    ('tfidf', TfidfTransformer()), \n",
    "    ('tm', TruncatedSVD()), \n",
    "    ('clf', LogisticRegression(random_state=42, max_iter=1000))\n",
    "])\n",
    "\n",
    "clf.fit(x_train, y_train)\n",
    "pred = clf.predict(x_test)\n",
    "accuracy_score(pred, y_test), f1_score(pred, y_test, average='weighted')"
   ]
  },
  {
   "cell_type": "markdown",
   "metadata": {},
   "source": [
    "#### с символьными униграммами"
   ]
  },
  {
   "cell_type": "code",
   "execution_count": 95,
   "metadata": {},
   "outputs": [
    {
     "name": "stdout",
     "output_type": "stream",
     "text": [
      "Wall time: 28.8 s\n"
     ]
    },
    {
     "data": {
      "text/plain": [
       "(0.7613526570048309, 0.8604182194287306)"
      ]
     },
     "execution_count": 95,
     "metadata": {},
     "output_type": "execute_result"
    }
   ],
   "source": [
    "%%time\n",
    "clf = Pipeline([\n",
    "    ('vect', CountVectorizer(analyzer = 'char', ngram_range=(1,1))),\n",
    "    ('tfidf', TfidfTransformer()), \n",
    "    ('tm', TruncatedSVD()), \n",
    "    ('clf', LogisticRegression(random_state=42, max_iter=1000))\n",
    "])\n",
    "\n",
    "clf.fit(x_train, y_train)\n",
    "pred = clf.predict(x_test)\n",
    "accuracy_score(pred, y_test), f1_score(pred, y_test, average='weighted')"
   ]
  },
  {
   "cell_type": "markdown",
   "metadata": {},
   "source": [
    "### 2-ой вариант: тематические модели LDA (sklearn.decomposition.LatentDirichletAllocation)."
   ]
  },
  {
   "cell_type": "markdown",
   "metadata": {},
   "source": [
    "#### с униграммами"
   ]
  },
  {
   "cell_type": "code",
   "execution_count": 98,
   "metadata": {},
   "outputs": [
    {
     "name": "stdout",
     "output_type": "stream",
     "text": [
      "Wall time: 16min 46s\n"
     ]
    },
    {
     "data": {
      "text/plain": [
       "(0.8690499194847021, 0.872639985954322)"
      ]
     },
     "execution_count": 98,
     "metadata": {},
     "output_type": "execute_result"
    }
   ],
   "source": [
    "%%time \n",
    "clf = Pipeline([\n",
    "    ('vect', CountVectorizer(ngram_range=(1,1))),\n",
    "    ('LDA', LatentDirichletAllocation(n_components=5, random_state=42, n_jobs=-1)), \n",
    "    ('clf', LogisticRegression(random_state=42, max_iter=1000))\n",
    "])\n",
    "\n",
    "clf.fit(x_train, y_train)\n",
    "pred = clf.predict(x_test)\n",
    "accuracy_score(pred, y_test), f1_score(pred, y_test, average='weighted')"
   ]
  },
  {
   "cell_type": "markdown",
   "metadata": {},
   "source": [
    "#### с биграммами"
   ]
  },
  {
   "cell_type": "code",
   "execution_count": 99,
   "metadata": {},
   "outputs": [
    {
     "name": "stdout",
     "output_type": "stream",
     "text": [
      "Wall time: 5min 55s\n"
     ]
    },
    {
     "data": {
      "text/plain": [
       "(0.7615458937198067, 0.8646336112329969)"
      ]
     },
     "execution_count": 99,
     "metadata": {},
     "output_type": "execute_result"
    }
   ],
   "source": [
    "%%time \n",
    "clf = Pipeline([\n",
    "    ('vect', CountVectorizer(ngram_range=(2,2))),\n",
    "    ('LDA', LatentDirichletAllocation(n_components=5, random_state=42, n_jobs=-1)), \n",
    "    ('clf', LogisticRegression(random_state=42, max_iter=1000))\n",
    "])\n",
    "\n",
    "clf.fit(x_train, y_train)\n",
    "pred = clf.predict(x_test)\n",
    "accuracy_score(pred, y_test), f1_score(pred, y_test, average='weighted')"
   ]
  },
  {
   "cell_type": "markdown",
   "metadata": {},
   "source": [
    "#### с триграммами"
   ]
  },
  {
   "cell_type": "code",
   "execution_count": 14,
   "metadata": {},
   "outputs": [
    {
     "name": "stdout",
     "output_type": "stream",
     "text": [
      "Wall time: 6min 34s\n"
     ]
    },
    {
     "data": {
      "text/plain": [
       "(0.7605797101449275, 0.8640105367138623)"
      ]
     },
     "execution_count": 14,
     "metadata": {},
     "output_type": "execute_result"
    }
   ],
   "source": [
    "%%time \n",
    "clf = Pipeline([\n",
    "    ('vect', CountVectorizer(ngram_range=(3,3))),\n",
    "    ('LDA', LatentDirichletAllocation(n_components=5, random_state=42, n_jobs=2)), \n",
    "    ('clf', LogisticRegression(random_state=42, max_iter=1000))\n",
    "])\n",
    "\n",
    "clf.fit(x_train, y_train)\n",
    "pred = clf.predict(x_test)\n",
    "accuracy_score(pred, y_test), f1_score(pred, y_test, average='weighted')"
   ]
  },
  {
   "cell_type": "markdown",
   "metadata": {},
   "source": [
    "#### с символьными униграммами"
   ]
  },
  {
   "cell_type": "code",
   "execution_count": 101,
   "metadata": {},
   "outputs": [
    {
     "name": "stdout",
     "output_type": "stream",
     "text": [
      "Wall time: 12min 59s\n"
     ]
    },
    {
     "data": {
      "text/plain": [
       "(0.7747504025764895, 0.8280900209477671)"
      ]
     },
     "execution_count": 101,
     "metadata": {},
     "output_type": "execute_result"
    }
   ],
   "source": [
    "%%time\n",
    "clf = Pipeline([\n",
    "    ('vect', CountVectorizer(analyzer = 'char', ngram_range=(1,1))),\n",
    "    ('LDA', LatentDirichletAllocation(n_components=5, random_state=42, n_jobs=-1)), \n",
    "    ('clf', LogisticRegression(random_state=42, max_iter=1000))\n",
    "])\n",
    "\n",
    "clf.fit(x_train, y_train)\n",
    "pred = clf.predict(x_test)\n",
    "accuracy_score(pred, y_test), f1_score(pred, y_test, average='weighted')"
   ]
  }
 ],
 "metadata": {
  "kernelspec": {
   "display_name": "Python 3",
   "language": "python",
   "name": "python3"
  },
  "language_info": {
   "codemirror_mode": {
    "name": "ipython",
    "version": 3
   },
   "file_extension": ".py",
   "mimetype": "text/x-python",
   "name": "python",
   "nbconvert_exporter": "python",
   "pygments_lexer": "ipython3",
   "version": "3.9.4"
  }
 },
 "nbformat": 4,
 "nbformat_minor": 2
}
