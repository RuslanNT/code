{
 "cells": [
  {
   "cell_type": "markdown",
   "metadata": {},
   "source": [
    "Задание\n",
    "\n",
    "Потренируем навыки, полученные на практическом занятии. \n",
    "Пользуясь новыми знаниями, проведите эксплоративный анализ данных на данных недвижимости Бостона, \n",
    "и попытайтесь обучить линейную модель наиболее качественно. \n",
    "Все ваши действия и решения описывайте в markdown.\n",
    "\n",
    "Данные вы сможете получить исполнив следующий код:\n",
    "from sklearn.datasets import load_boston\n",
    "import pandas as pd\n",
    "data = pd.read_csv(load_boston()[‘filename’], skiprows=1)\n",
    "\n",
    "Переменная, которую надо предсказать - ’MEDV’.\n",
    "Прочитать информацию о содержимом датасета:\n",
    "print(load_boston()[‘DESCR’])\n",
    "\n",
    "Если вы неудовлетворенны результатом, но лучшего решения предложить не можете, то высылайте задание на проверку.\n",
    "Цель задания - закрепить полученные навыки."
   ]
  },
  {
   "cell_type": "code",
   "execution_count": 1,
   "metadata": {
    "id": "2vsEyCovznsR"
   },
   "outputs": [],
   "source": [
    "import pandas as pd\n",
    "import numpy as np\n",
    "\n",
    " \n",
    "from matplotlib import pyplot as plt\n",
    " \n",
    "from sklearn.linear_model import LinearRegression\n",
    "from sklearn.model_selection import train_test_split\n",
    "import seaborn as sns"
   ]
  },
  {
   "cell_type": "code",
   "execution_count": 2,
   "metadata": {
    "id": "d-T-PPpZcFzy"
   },
   "outputs": [
    {
     "data": {
      "text/html": [
       "<div>\n",
       "<style scoped>\n",
       "    .dataframe tbody tr th:only-of-type {\n",
       "        vertical-align: middle;\n",
       "    }\n",
       "\n",
       "    .dataframe tbody tr th {\n",
       "        vertical-align: top;\n",
       "    }\n",
       "\n",
       "    .dataframe thead th {\n",
       "        text-align: right;\n",
       "    }\n",
       "</style>\n",
       "<table border=\"1\" class=\"dataframe\">\n",
       "  <thead>\n",
       "    <tr style=\"text-align: right;\">\n",
       "      <th></th>\n",
       "      <th>CRIM</th>\n",
       "      <th>ZN</th>\n",
       "      <th>INDUS</th>\n",
       "      <th>CHAS</th>\n",
       "      <th>NOX</th>\n",
       "      <th>RM</th>\n",
       "      <th>AGE</th>\n",
       "      <th>DIS</th>\n",
       "      <th>RAD</th>\n",
       "      <th>TAX</th>\n",
       "      <th>PTRATIO</th>\n",
       "      <th>B</th>\n",
       "      <th>LSTAT</th>\n",
       "      <th>MEDV</th>\n",
       "    </tr>\n",
       "  </thead>\n",
       "  <tbody>\n",
       "    <tr>\n",
       "      <th>0</th>\n",
       "      <td>0.00632</td>\n",
       "      <td>18.0</td>\n",
       "      <td>2.31</td>\n",
       "      <td>0</td>\n",
       "      <td>0.538</td>\n",
       "      <td>6.575</td>\n",
       "      <td>65.2</td>\n",
       "      <td>4.0900</td>\n",
       "      <td>1</td>\n",
       "      <td>296</td>\n",
       "      <td>15.3</td>\n",
       "      <td>396.90</td>\n",
       "      <td>4.98</td>\n",
       "      <td>24.0</td>\n",
       "    </tr>\n",
       "    <tr>\n",
       "      <th>1</th>\n",
       "      <td>0.02731</td>\n",
       "      <td>0.0</td>\n",
       "      <td>7.07</td>\n",
       "      <td>0</td>\n",
       "      <td>0.469</td>\n",
       "      <td>6.421</td>\n",
       "      <td>78.9</td>\n",
       "      <td>4.9671</td>\n",
       "      <td>2</td>\n",
       "      <td>242</td>\n",
       "      <td>17.8</td>\n",
       "      <td>396.90</td>\n",
       "      <td>9.14</td>\n",
       "      <td>21.6</td>\n",
       "    </tr>\n",
       "    <tr>\n",
       "      <th>2</th>\n",
       "      <td>0.02729</td>\n",
       "      <td>0.0</td>\n",
       "      <td>7.07</td>\n",
       "      <td>0</td>\n",
       "      <td>0.469</td>\n",
       "      <td>7.185</td>\n",
       "      <td>61.1</td>\n",
       "      <td>4.9671</td>\n",
       "      <td>2</td>\n",
       "      <td>242</td>\n",
       "      <td>17.8</td>\n",
       "      <td>392.83</td>\n",
       "      <td>4.03</td>\n",
       "      <td>34.7</td>\n",
       "    </tr>\n",
       "    <tr>\n",
       "      <th>3</th>\n",
       "      <td>0.03237</td>\n",
       "      <td>0.0</td>\n",
       "      <td>2.18</td>\n",
       "      <td>0</td>\n",
       "      <td>0.458</td>\n",
       "      <td>6.998</td>\n",
       "      <td>45.8</td>\n",
       "      <td>6.0622</td>\n",
       "      <td>3</td>\n",
       "      <td>222</td>\n",
       "      <td>18.7</td>\n",
       "      <td>394.63</td>\n",
       "      <td>2.94</td>\n",
       "      <td>33.4</td>\n",
       "    </tr>\n",
       "    <tr>\n",
       "      <th>4</th>\n",
       "      <td>0.06905</td>\n",
       "      <td>0.0</td>\n",
       "      <td>2.18</td>\n",
       "      <td>0</td>\n",
       "      <td>0.458</td>\n",
       "      <td>7.147</td>\n",
       "      <td>54.2</td>\n",
       "      <td>6.0622</td>\n",
       "      <td>3</td>\n",
       "      <td>222</td>\n",
       "      <td>18.7</td>\n",
       "      <td>396.90</td>\n",
       "      <td>5.33</td>\n",
       "      <td>36.2</td>\n",
       "    </tr>\n",
       "  </tbody>\n",
       "</table>\n",
       "</div>"
      ],
      "text/plain": [
       "      CRIM    ZN  INDUS  CHAS    NOX     RM   AGE     DIS  RAD  TAX  PTRATIO  \\\n",
       "0  0.00632  18.0   2.31     0  0.538  6.575  65.2  4.0900    1  296     15.3   \n",
       "1  0.02731   0.0   7.07     0  0.469  6.421  78.9  4.9671    2  242     17.8   \n",
       "2  0.02729   0.0   7.07     0  0.469  7.185  61.1  4.9671    2  242     17.8   \n",
       "3  0.03237   0.0   2.18     0  0.458  6.998  45.8  6.0622    3  222     18.7   \n",
       "4  0.06905   0.0   2.18     0  0.458  7.147  54.2  6.0622    3  222     18.7   \n",
       "\n",
       "        B  LSTAT  MEDV  \n",
       "0  396.90   4.98  24.0  \n",
       "1  396.90   9.14  21.6  \n",
       "2  392.83   4.03  34.7  \n",
       "3  394.63   2.94  33.4  \n",
       "4  396.90   5.33  36.2  "
      ]
     },
     "execution_count": 2,
     "metadata": {},
     "output_type": "execute_result"
    }
   ],
   "source": [
    "from sklearn.datasets import load_boston\n",
    "import pandas as pd\n",
    "data = pd.read_csv(load_boston()['filename'], skiprows=1)\n",
    "data.head()"
   ]
  },
  {
   "cell_type": "code",
   "execution_count": 3,
   "metadata": {},
   "outputs": [
    {
     "name": "stdout",
     "output_type": "stream",
     "text": [
      ".. _boston_dataset:\n",
      "\n",
      "Boston house prices dataset\n",
      "---------------------------\n",
      "\n",
      "**Data Set Characteristics:**  \n",
      "\n",
      "    :Number of Instances: 506 \n",
      "\n",
      "    :Number of Attributes: 13 numeric/categorical predictive. Median Value (attribute 14) is usually the target.\n",
      "\n",
      "    :Attribute Information (in order):\n",
      "        - CRIM     per capita crime rate by town\n",
      "        - ZN       proportion of residential land zoned for lots over 25,000 sq.ft.\n",
      "        - INDUS    proportion of non-retail business acres per town\n",
      "        - CHAS     Charles River dummy variable (= 1 if tract bounds river; 0 otherwise)\n",
      "        - NOX      nitric oxides concentration (parts per 10 million)\n",
      "        - RM       average number of rooms per dwelling\n",
      "        - AGE      proportion of owner-occupied units built prior to 1940\n",
      "        - DIS      weighted distances to five Boston employment centres\n",
      "        - RAD      index of accessibility to radial highways\n",
      "        - TAX      full-value property-tax rate per $10,000\n",
      "        - PTRATIO  pupil-teacher ratio by town\n",
      "        - B        1000(Bk - 0.63)^2 where Bk is the proportion of blacks by town\n",
      "        - LSTAT    % lower status of the population\n",
      "        - MEDV     Median value of owner-occupied homes in $1000's\n",
      "\n",
      "    :Missing Attribute Values: None\n",
      "\n",
      "    :Creator: Harrison, D. and Rubinfeld, D.L.\n",
      "\n",
      "This is a copy of UCI ML housing dataset.\n",
      "https://archive.ics.uci.edu/ml/machine-learning-databases/housing/\n",
      "\n",
      "\n",
      "This dataset was taken from the StatLib library which is maintained at Carnegie Mellon University.\n",
      "\n",
      "The Boston house-price data of Harrison, D. and Rubinfeld, D.L. 'Hedonic\n",
      "prices and the demand for clean air', J. Environ. Economics & Management,\n",
      "vol.5, 81-102, 1978.   Used in Belsley, Kuh & Welsch, 'Regression diagnostics\n",
      "...', Wiley, 1980.   N.B. Various transformations are used in the table on\n",
      "pages 244-261 of the latter.\n",
      "\n",
      "The Boston house-price data has been used in many machine learning papers that address regression\n",
      "problems.   \n",
      "     \n",
      ".. topic:: References\n",
      "\n",
      "   - Belsley, Kuh & Welsch, 'Regression diagnostics: Identifying Influential Data and Sources of Collinearity', Wiley, 1980. 244-261.\n",
      "   - Quinlan,R. (1993). Combining Instance-Based and Model-Based Learning. In Proceedings on the Tenth International Conference of Machine Learning, 236-243, University of Massachusetts, Amherst. Morgan Kaufmann.\n",
      "\n"
     ]
    }
   ],
   "source": [
    "print(load_boston()['DESCR'])"
   ]
  },
  {
   "cell_type": "code",
   "execution_count": 4,
   "metadata": {},
   "outputs": [],
   "source": [
    "# функция получения accuracy модели\n",
    "#Будем использовать линейную регрессию для тестирования качества данных\n",
    "def get_score(X,y, random_seed=63, model=None):\n",
    "    if model is None:\n",
    "        model = LinearRegression()\n",
    "        X_train, X_test, y_train, y_test = train_test_split(X, y, train_size=0.7, random_state=63 )  \n",
    "        model.fit(X_train, y_train)\n",
    "    return model.score(X_test, y_test)\n",
    "\n",
    "# функция преобразования категориальных признаков в числовые\n",
    "def get_one_hot(X, cols):\n",
    "    for col in cols:\n",
    "        dummies = pd.get_dummies(X[col], prefix=col, drop_first=False)\n",
    "        X = pd.concat([X, dummies], axis=1)\n",
    "    return X"
   ]
  },
  {
   "cell_type": "code",
   "execution_count": 5,
   "metadata": {},
   "outputs": [
    {
     "data": {
      "text/html": [
       "<div>\n",
       "<style scoped>\n",
       "    .dataframe tbody tr th:only-of-type {\n",
       "        vertical-align: middle;\n",
       "    }\n",
       "\n",
       "    .dataframe tbody tr th {\n",
       "        vertical-align: top;\n",
       "    }\n",
       "\n",
       "    .dataframe thead th {\n",
       "        text-align: right;\n",
       "    }\n",
       "</style>\n",
       "<table border=\"1\" class=\"dataframe\">\n",
       "  <thead>\n",
       "    <tr style=\"text-align: right;\">\n",
       "      <th></th>\n",
       "      <th>CRIM</th>\n",
       "      <th>ZN</th>\n",
       "      <th>INDUS</th>\n",
       "      <th>CHAS</th>\n",
       "      <th>NOX</th>\n",
       "      <th>RM</th>\n",
       "      <th>AGE</th>\n",
       "      <th>DIS</th>\n",
       "      <th>RAD</th>\n",
       "      <th>TAX</th>\n",
       "      <th>PTRATIO</th>\n",
       "      <th>B</th>\n",
       "      <th>LSTAT</th>\n",
       "      <th>MEDV</th>\n",
       "    </tr>\n",
       "  </thead>\n",
       "  <tbody>\n",
       "    <tr>\n",
       "      <th>count</th>\n",
       "      <td>506.000000</td>\n",
       "      <td>506.000000</td>\n",
       "      <td>506.000000</td>\n",
       "      <td>506.000000</td>\n",
       "      <td>506.000000</td>\n",
       "      <td>506.000000</td>\n",
       "      <td>506.000000</td>\n",
       "      <td>506.000000</td>\n",
       "      <td>506.000000</td>\n",
       "      <td>506.000000</td>\n",
       "      <td>506.000000</td>\n",
       "      <td>506.000000</td>\n",
       "      <td>506.000000</td>\n",
       "      <td>506.000000</td>\n",
       "    </tr>\n",
       "    <tr>\n",
       "      <th>mean</th>\n",
       "      <td>3.613524</td>\n",
       "      <td>11.363636</td>\n",
       "      <td>11.136779</td>\n",
       "      <td>0.069170</td>\n",
       "      <td>0.554695</td>\n",
       "      <td>6.284634</td>\n",
       "      <td>68.574901</td>\n",
       "      <td>3.795043</td>\n",
       "      <td>9.549407</td>\n",
       "      <td>408.237154</td>\n",
       "      <td>18.455534</td>\n",
       "      <td>356.674032</td>\n",
       "      <td>12.653063</td>\n",
       "      <td>22.532806</td>\n",
       "    </tr>\n",
       "    <tr>\n",
       "      <th>std</th>\n",
       "      <td>8.601545</td>\n",
       "      <td>23.322453</td>\n",
       "      <td>6.860353</td>\n",
       "      <td>0.253994</td>\n",
       "      <td>0.115878</td>\n",
       "      <td>0.702617</td>\n",
       "      <td>28.148861</td>\n",
       "      <td>2.105710</td>\n",
       "      <td>8.707259</td>\n",
       "      <td>168.537116</td>\n",
       "      <td>2.164946</td>\n",
       "      <td>91.294864</td>\n",
       "      <td>7.141062</td>\n",
       "      <td>9.197104</td>\n",
       "    </tr>\n",
       "    <tr>\n",
       "      <th>min</th>\n",
       "      <td>0.006320</td>\n",
       "      <td>0.000000</td>\n",
       "      <td>0.460000</td>\n",
       "      <td>0.000000</td>\n",
       "      <td>0.385000</td>\n",
       "      <td>3.561000</td>\n",
       "      <td>2.900000</td>\n",
       "      <td>1.129600</td>\n",
       "      <td>1.000000</td>\n",
       "      <td>187.000000</td>\n",
       "      <td>12.600000</td>\n",
       "      <td>0.320000</td>\n",
       "      <td>1.730000</td>\n",
       "      <td>5.000000</td>\n",
       "    </tr>\n",
       "    <tr>\n",
       "      <th>25%</th>\n",
       "      <td>0.082045</td>\n",
       "      <td>0.000000</td>\n",
       "      <td>5.190000</td>\n",
       "      <td>0.000000</td>\n",
       "      <td>0.449000</td>\n",
       "      <td>5.885500</td>\n",
       "      <td>45.025000</td>\n",
       "      <td>2.100175</td>\n",
       "      <td>4.000000</td>\n",
       "      <td>279.000000</td>\n",
       "      <td>17.400000</td>\n",
       "      <td>375.377500</td>\n",
       "      <td>6.950000</td>\n",
       "      <td>17.025000</td>\n",
       "    </tr>\n",
       "    <tr>\n",
       "      <th>50%</th>\n",
       "      <td>0.256510</td>\n",
       "      <td>0.000000</td>\n",
       "      <td>9.690000</td>\n",
       "      <td>0.000000</td>\n",
       "      <td>0.538000</td>\n",
       "      <td>6.208500</td>\n",
       "      <td>77.500000</td>\n",
       "      <td>3.207450</td>\n",
       "      <td>5.000000</td>\n",
       "      <td>330.000000</td>\n",
       "      <td>19.050000</td>\n",
       "      <td>391.440000</td>\n",
       "      <td>11.360000</td>\n",
       "      <td>21.200000</td>\n",
       "    </tr>\n",
       "    <tr>\n",
       "      <th>75%</th>\n",
       "      <td>3.677082</td>\n",
       "      <td>12.500000</td>\n",
       "      <td>18.100000</td>\n",
       "      <td>0.000000</td>\n",
       "      <td>0.624000</td>\n",
       "      <td>6.623500</td>\n",
       "      <td>94.075000</td>\n",
       "      <td>5.188425</td>\n",
       "      <td>24.000000</td>\n",
       "      <td>666.000000</td>\n",
       "      <td>20.200000</td>\n",
       "      <td>396.225000</td>\n",
       "      <td>16.955000</td>\n",
       "      <td>25.000000</td>\n",
       "    </tr>\n",
       "    <tr>\n",
       "      <th>max</th>\n",
       "      <td>88.976200</td>\n",
       "      <td>100.000000</td>\n",
       "      <td>27.740000</td>\n",
       "      <td>1.000000</td>\n",
       "      <td>0.871000</td>\n",
       "      <td>8.780000</td>\n",
       "      <td>100.000000</td>\n",
       "      <td>12.126500</td>\n",
       "      <td>24.000000</td>\n",
       "      <td>711.000000</td>\n",
       "      <td>22.000000</td>\n",
       "      <td>396.900000</td>\n",
       "      <td>37.970000</td>\n",
       "      <td>50.000000</td>\n",
       "    </tr>\n",
       "  </tbody>\n",
       "</table>\n",
       "</div>"
      ],
      "text/plain": [
       "             CRIM          ZN       INDUS        CHAS         NOX          RM  \\\n",
       "count  506.000000  506.000000  506.000000  506.000000  506.000000  506.000000   \n",
       "mean     3.613524   11.363636   11.136779    0.069170    0.554695    6.284634   \n",
       "std      8.601545   23.322453    6.860353    0.253994    0.115878    0.702617   \n",
       "min      0.006320    0.000000    0.460000    0.000000    0.385000    3.561000   \n",
       "25%      0.082045    0.000000    5.190000    0.000000    0.449000    5.885500   \n",
       "50%      0.256510    0.000000    9.690000    0.000000    0.538000    6.208500   \n",
       "75%      3.677082   12.500000   18.100000    0.000000    0.624000    6.623500   \n",
       "max     88.976200  100.000000   27.740000    1.000000    0.871000    8.780000   \n",
       "\n",
       "              AGE         DIS         RAD         TAX     PTRATIO           B  \\\n",
       "count  506.000000  506.000000  506.000000  506.000000  506.000000  506.000000   \n",
       "mean    68.574901    3.795043    9.549407  408.237154   18.455534  356.674032   \n",
       "std     28.148861    2.105710    8.707259  168.537116    2.164946   91.294864   \n",
       "min      2.900000    1.129600    1.000000  187.000000   12.600000    0.320000   \n",
       "25%     45.025000    2.100175    4.000000  279.000000   17.400000  375.377500   \n",
       "50%     77.500000    3.207450    5.000000  330.000000   19.050000  391.440000   \n",
       "75%     94.075000    5.188425   24.000000  666.000000   20.200000  396.225000   \n",
       "max    100.000000   12.126500   24.000000  711.000000   22.000000  396.900000   \n",
       "\n",
       "            LSTAT        MEDV  \n",
       "count  506.000000  506.000000  \n",
       "mean    12.653063   22.532806  \n",
       "std      7.141062    9.197104  \n",
       "min      1.730000    5.000000  \n",
       "25%      6.950000   17.025000  \n",
       "50%     11.360000   21.200000  \n",
       "75%     16.955000   25.000000  \n",
       "max     37.970000   50.000000  "
      ]
     },
     "execution_count": 5,
     "metadata": {},
     "output_type": "execute_result"
    }
   ],
   "source": [
    "#Изучаем данные\n",
    "data.describe()"
   ]
  },
  {
   "cell_type": "markdown",
   "metadata": {},
   "source": [
    "Видим, что у CRIM, ZN, INDUS, CHAS, AGE, DIS, RAD сильное отклонение от среднего,\n",
    "значит имеются выбросы"
   ]
  },
  {
   "cell_type": "code",
   "execution_count": 6,
   "metadata": {},
   "outputs": [
    {
     "name": "stdout",
     "output_type": "stream",
     "text": [
      "CRIM :\t 504\n",
      "ZN :\t 26\n",
      "INDUS :\t 76\n",
      "CHAS :\t 2\n",
      "NOX :\t 81\n",
      "RM :\t 446\n",
      "AGE :\t 356\n",
      "DIS :\t 412\n",
      "RAD :\t 9\n",
      "TAX :\t 66\n",
      "PTRATIO :\t 46\n",
      "B :\t 357\n",
      "LSTAT :\t 455\n",
      "MEDV :\t 229\n"
     ]
    }
   ],
   "source": [
    "#Смотрим из каких уникальных значений состоят признаки в колонках\n",
    "for col in data.columns:\n",
    "    print(col, ':\\t', len(data[col].unique()))"
   ]
  },
  {
   "cell_type": "markdown",
   "metadata": {},
   "source": [
    "RAD, CHAS, ZN скорее всего категориальные признаки. RAD, CHAS переведем в числовые"
   ]
  },
  {
   "cell_type": "code",
   "execution_count": 7,
   "metadata": {},
   "outputs": [
    {
     "name": "stdout",
     "output_type": "stream",
     "text": [
      "RAD :\t [ 1  2  3  5  4  8  6  7 24]\n",
      "CHAS :\t [0 1]\n",
      "ZN :\t [ 18.    0.   12.5  75.   21.   90.   85.  100.   25.   17.5  80.   28.\n",
      "  45.   60.   95.   82.5  30.   22.   20.   40.   55.   52.5  70.   34.\n",
      "  33.   35. ]\n"
     ]
    }
   ],
   "source": [
    "#Смотрим из каких уникальных значений состоят признаки в колонках\n",
    "for col in ['RAD', 'CHAS', 'ZN']:\n",
    "    print(col, ':\\t', data[col].unique())"
   ]
  },
  {
   "cell_type": "code",
   "execution_count": 8,
   "metadata": {},
   "outputs": [
    {
     "data": {
      "text/plain": [
       "CRIM      -0.388305\n",
       "ZN         0.360445\n",
       "INDUS     -0.483725\n",
       "CHAS       0.175260\n",
       "NOX       -0.427321\n",
       "RM         0.695360\n",
       "AGE       -0.376955\n",
       "DIS        0.249929\n",
       "RAD       -0.381626\n",
       "TAX       -0.468536\n",
       "PTRATIO   -0.507787\n",
       "B          0.333461\n",
       "LSTAT     -0.737663\n",
       "MEDV       1.000000\n",
       "Name: MEDV, dtype: float64"
      ]
     },
     "execution_count": 8,
     "metadata": {},
     "output_type": "execute_result"
    }
   ],
   "source": [
    "# Смотрим на колелляцию признаков с таргетной переменной\n",
    "data.corr()['MEDV']"
   ]
  },
  {
   "cell_type": "markdown",
   "metadata": {},
   "source": [
    "имеется корелляция с 'RM', 'LSTAT':\n",
    "\n",
    "'RM' - чем больше комнат в квартире, \n",
    "тем большая доля, что там проживают собственники жилья.\n",
    "\n",
    "'LSTAT' - чем больше доля низших слоев населения а районе, \n",
    "тем ниже доля домов, в которых проживают собственники жилья.\n",
    "\n",
    "По остальным признакам корелляция с целевой переменной несущественная"
   ]
  },
  {
   "cell_type": "code",
   "execution_count": 51,
   "metadata": {},
   "outputs": [],
   "source": [
    "# Разделим датасет на данные с признаками X и целевой переменной y\n",
    "X = data.iloc[:, :-1]\n",
    "y = data.iloc[:, -1:]"
   ]
  },
  {
   "cell_type": "code",
   "execution_count": 52,
   "metadata": {},
   "outputs": [
    {
     "data": {
      "text/plain": [
       "0.6826784431236101"
      ]
     },
     "execution_count": 52,
     "metadata": {},
     "output_type": "execute_result"
    }
   ],
   "source": [
    "# получаем первичный скор\n",
    "get_score(X, y)"
   ]
  },
  {
   "cell_type": "code",
   "execution_count": 53,
   "metadata": {},
   "outputs": [
    {
     "data": {
      "text/plain": [
       "(['LSTAT', 'RM', 'PTRATIO', 'DIS', 'NOX', 'B'], 0.7160361874957366)"
      ]
     },
     "execution_count": 53,
     "metadata": {},
     "output_type": "execute_result"
    }
   ],
   "source": [
    "# посмотрим с какими признаками accuracy имеет наибольшее значение\n",
    "\n",
    "# Создаем функцию, колонки с признаками, дающими лучший score\n",
    "def best_score(X, y):\n",
    "    cols = X.columns\n",
    "    features = []\n",
    "    score = 0\n",
    "\n",
    "    for i in range(len(cols)):\n",
    "        temp_cols = list(set(cols) - set(features))\n",
    "        temp_col = ''\n",
    "        temp_features = []\n",
    "        temp_features.extend(features)\n",
    "        for col in temp_cols:\n",
    "            temp_features.append(col)\n",
    "            temp_score = get_score(X[temp_features], y)\n",
    "            temp_features.remove(col)\n",
    "            if score < temp_score:\n",
    "                score = temp_score\n",
    "                temp_col = col\n",
    "\n",
    "        if len(temp_col) > 0: \n",
    "            features.append(temp_col)\n",
    "            #print(features, score)\n",
    "    return features, score\n",
    "\n",
    "best_score(X, y)"
   ]
  },
  {
   "cell_type": "markdown",
   "metadata": {},
   "source": [
    "Результат best_score лучше, чем get_score(X, y)"
   ]
  },
  {
   "cell_type": "code",
   "execution_count": 54,
   "metadata": {},
   "outputs": [
    {
     "data": {
      "text/plain": [
       "(['LSTAT', 'RM', 'PTRATIO', 'DIS', 'NOX', 'B'], 0.7160361874957368)"
      ]
     },
     "execution_count": 54,
     "metadata": {},
     "output_type": "execute_result"
    }
   ],
   "source": [
    "# Посмотрим score с нормалиованными данными\n",
    "from sklearn.preprocessing import StandardScaler\n",
    "sc = StandardScaler()\n",
    "Xtrain_sc = sc.fit_transform(X)\n",
    "best_score(pd.DataFrame(Xtrain_sc, columns=X.columns), y)"
   ]
  },
  {
   "cell_type": "markdown",
   "metadata": {},
   "source": [
    "Результат одинаковый, можно не нормализовывать"
   ]
  },
  {
   "cell_type": "code",
   "execution_count": 55,
   "metadata": {},
   "outputs": [],
   "source": [
    "# Применим OneHotEncoding\n",
    "X_ohe = get_one_hot(X, ['RAD', 'ZN'])\n",
    "X_ohe.drop(['RAD', 'ZN'], axis=1, inplace=True)"
   ]
  },
  {
   "cell_type": "code",
   "execution_count": 59,
   "metadata": {},
   "outputs": [
    {
     "data": {
      "text/plain": [
       "(['LSTAT',\n",
       "  'RM',\n",
       "  'PTRATIO',\n",
       "  'RAD_3',\n",
       "  'DIS',\n",
       "  'NOX',\n",
       "  'ZN_95.0',\n",
       "  'B',\n",
       "  'ZN_22.0',\n",
       "  'RAD_8',\n",
       "  'ZN_20.0',\n",
       "  'ZN_28.0',\n",
       "  'RAD_1',\n",
       "  'ZN_40.0',\n",
       "  'ZN_60.0',\n",
       "  'ZN_80.0',\n",
       "  'ZN_45.0',\n",
       "  'ZN_82.5',\n",
       "  'ZN_21.0',\n",
       "  'ZN_85.0',\n",
       "  'ZN_52.5',\n",
       "  'ZN_25.0'],\n",
       " 0.7460269993341546)"
      ]
     },
     "execution_count": 59,
     "metadata": {},
     "output_type": "execute_result"
    }
   ],
   "source": [
    "# Посмотрим score с OneHotEncoding\n",
    "best_score(X_ohe, y)"
   ]
  },
  {
   "cell_type": "markdown",
   "metadata": {},
   "source": [
    "Score улучшился"
   ]
  },
  {
   "cell_type": "markdown",
   "metadata": {},
   "source": [
    "Посмотрим на выбросы в ['LSTAT', 'RM', 'PTRATIO', 'DIS', 'NOX', 'B']:"
   ]
  },
  {
   "cell_type": "code",
   "execution_count": 63,
   "metadata": {},
   "outputs": [
    {
     "data": {
      "text/plain": [
       "30.81"
      ]
     },
     "execution_count": 63,
     "metadata": {},
     "output_type": "execute_result"
    },
    {
     "data": {
      "image/png": "[encoded data removed]",
      "text/plain": [
       "<Figure size 432x288 with 1 Axes>"
      ]
     },
     "metadata": {
      "needs_background": "light"
     },
     "output_type": "display_data"
    }
   ],
   "source": [
    "bp = X_ohe.boxplot(['LSTAT'], vert=False, return_type='dict')\n",
    "# получаем крайнюю правую часть уса\n",
    "high_LSTAT = bp['whiskers'][1].get_xdata()[1]\n",
    "high_LSTAT\n"
   ]
  },
  {
   "cell_type": "code",
   "execution_count": 61,
   "metadata": {},
   "outputs": [],
   "source": [
    "# Заменим значения с выбросами на медиану\n",
    "\n",
    "X_ohe_lstat = X_ohe.copy()\n",
    "X_ohe_lstat.loc[X_ohe_lstat[X_ohe_lstat['LSTAT'] > high_LSTAT].index, 'LSTAT'] = X_ohe_lstat['LSTAT'].median()"
   ]
  },
  {
   "cell_type": "code",
   "execution_count": 62,
   "metadata": {},
   "outputs": [
    {
     "data": {
      "text/plain": [
       "(['LSTAT',\n",
       "  'RM',\n",
       "  'PTRATIO',\n",
       "  'B',\n",
       "  'RAD_1',\n",
       "  'RAD_3',\n",
       "  'DIS',\n",
       "  'NOX',\n",
       "  'ZN_95.0',\n",
       "  'CRIM',\n",
       "  'ZN_0.0',\n",
       "  'ZN_28.0',\n",
       "  'ZN_90.0',\n",
       "  'ZN_22.0',\n",
       "  'RAD_8',\n",
       "  'ZN_80.0',\n",
       "  'ZN_60.0',\n",
       "  'ZN_25.0',\n",
       "  'ZN_21.0',\n",
       "  'ZN_34.0',\n",
       "  'RAD_6',\n",
       "  'ZN_30.0',\n",
       "  'ZN_82.5',\n",
       "  'ZN_55.0',\n",
       "  'ZN_45.0'],\n",
       " 0.764809275760405)"
      ]
     },
     "execution_count": 62,
     "metadata": {},
     "output_type": "execute_result"
    }
   ],
   "source": [
    "best_score(X_ohe_lstat, y)"
   ]
  },
  {
   "cell_type": "markdown",
   "metadata": {},
   "source": [
    "Score улучшился"
   ]
  },
  {
   "cell_type": "code",
   "execution_count": 67,
   "metadata": {},
   "outputs": [
    {
     "data": {
      "text/plain": [
       "(4.88, 7.691)"
      ]
     },
     "execution_count": 67,
     "metadata": {},
     "output_type": "execute_result"
    },
    {
     "data": {
      "image/png": "[encoded data removed]",
      "text/plain": [
       "<Figure size 432x288 with 1 Axes>"
      ]
     },
     "metadata": {
      "needs_background": "light"
     },
     "output_type": "display_data"
    }
   ],
   "source": [
    "bp = X_ohe.boxplot(['RM'], vert=False, return_type='dict')\n",
    "# получаем крайние части уса\n",
    "low_RM = bp['whiskers'][0].get_xdata()[1]\n",
    "high_RM = bp['whiskers'][1].get_xdata()[1]\n",
    "low_RM, high_RM"
   ]
  },
  {
   "cell_type": "code",
   "execution_count": 70,
   "metadata": {},
   "outputs": [],
   "source": [
    "X_ohe_ls_rm = X_ohe_lstat.copy()\n",
    "X_ohe_ls_rm.loc[X_ohe_ls_rm[X_ohe_ls_rm['RM'] > high_RM].index, 'RM'] = X_ohe_ls_rm['RM'].median()\n",
    "X_ohe_ls_rm.loc[X_ohe_ls_rm[X_ohe_ls_rm['RM'] < low_RM].index, 'RM'] = X_ohe_ls_rm['RM'].median()"
   ]
  },
  {
   "cell_type": "code",
   "execution_count": 71,
   "metadata": {},
   "outputs": [
    {
     "data": {
      "text/plain": [
       "(['LSTAT',\n",
       "  'PTRATIO',\n",
       "  'DIS',\n",
       "  'NOX',\n",
       "  'ZN_95.0',\n",
       "  'CRIM',\n",
       "  'RM',\n",
       "  'ZN_20.0',\n",
       "  'ZN_90.0',\n",
       "  'RAD_1',\n",
       "  'B',\n",
       "  'ZN_28.0',\n",
       "  'RAD_5',\n",
       "  'RAD_6',\n",
       "  'ZN_22.0',\n",
       "  'INDUS',\n",
       "  'ZN_21.0',\n",
       "  'ZN_34.0',\n",
       "  'ZN_0.0',\n",
       "  'ZN_60.0',\n",
       "  'RAD_3',\n",
       "  'ZN_30.0',\n",
       "  'ZN_80.0',\n",
       "  'ZN_45.0'],\n",
       " 0.7108324792426159)"
      ]
     },
     "execution_count": 71,
     "metadata": {},
     "output_type": "execute_result"
    }
   ],
   "source": [
    "best_score(X_ohe_ls_rm, y)"
   ]
  },
  {
   "cell_type": "markdown",
   "metadata": {},
   "source": [
    "Score снизился, не применяем по RM замену выбросов"
   ]
  },
  {
   "cell_type": "code",
   "execution_count": 72,
   "metadata": {},
   "outputs": [
    {
     "data": {
      "text/plain": [
       "13.6"
      ]
     },
     "execution_count": 72,
     "metadata": {},
     "output_type": "execute_result"
    },
    {
     "data": {
      "image/png": "[encoded data removed]",
      "text/plain": [
       "<Figure size 432x288 with 1 Axes>"
      ]
     },
     "metadata": {
      "needs_background": "light"
     },
     "output_type": "display_data"
    }
   ],
   "source": [
    "bp = X_ohe.boxplot(['PTRATIO'], vert=False, return_type='dict')\n",
    "# получаем крайнюю левую часть уса\n",
    "low_pt = bp['whiskers'][0].get_xdata()[1]\n",
    "low_pt"
   ]
  },
  {
   "cell_type": "code",
   "execution_count": 73,
   "metadata": {},
   "outputs": [],
   "source": [
    "X_ohe_ls_pt = X_ohe_lstat.copy()\n",
    "X_ohe_ls_pt.loc[X_ohe_ls_pt[X_ohe_ls_pt['PTRATIO'] < low_pt].index, 'PTRATIO'] = X_ohe_ls_pt['PTRATIO'].median()"
   ]
  },
  {
   "cell_type": "code",
   "execution_count": 74,
   "metadata": {
    "scrolled": true
   },
   "outputs": [
    {
     "data": {
      "text/plain": [
       "(['LSTAT',\n",
       "  'RM',\n",
       "  'CRIM',\n",
       "  'ZN_20.0',\n",
       "  'ZN_95.0',\n",
       "  'DIS',\n",
       "  'PTRATIO',\n",
       "  'NOX',\n",
       "  'RAD_1',\n",
       "  'ZN_90.0',\n",
       "  'ZN_80.0',\n",
       "  'B',\n",
       "  'ZN_28.0',\n",
       "  'ZN_22.0',\n",
       "  'RAD_8',\n",
       "  'RAD_3',\n",
       "  'ZN_0.0',\n",
       "  'ZN_60.0',\n",
       "  'ZN_25.0',\n",
       "  'ZN_34.0',\n",
       "  'ZN_21.0',\n",
       "  'ZN_52.5',\n",
       "  'ZN_82.5',\n",
       "  'ZN_45.0',\n",
       "  'ZN_85.0'],\n",
       " 0.7619349960546407)"
      ]
     },
     "execution_count": 74,
     "metadata": {},
     "output_type": "execute_result"
    }
   ],
   "source": [
    "best_score(X_ohe_ls_pt, y)"
   ]
  },
  {
   "cell_type": "markdown",
   "metadata": {},
   "source": [
    "Score снизился, не применяем по PTRATIO замену выбросов"
   ]
  },
  {
   "cell_type": "code",
   "execution_count": 78,
   "metadata": {},
   "outputs": [
    {
     "data": {
      "text/plain": [
       "9.2229"
      ]
     },
     "execution_count": 78,
     "metadata": {},
     "output_type": "execute_result"
    },
    {
     "data": {
      "image/png": "[encoded data removed]",
      "text/plain": [
       "<Figure size 432x288 with 1 Axes>"
      ]
     },
     "metadata": {
      "needs_background": "light"
     },
     "output_type": "display_data"
    }
   ],
   "source": [
    "bp = X.boxplot(['DIS'], vert=False, return_type='dict')\n",
    "# получаем крайнюю правую часть уса\n",
    "high_d = bp['whiskers'][1].get_xdata()[1]\n",
    "high_d\n"
   ]
  },
  {
   "cell_type": "code",
   "execution_count": 77,
   "metadata": {},
   "outputs": [],
   "source": [
    "X_ohe_ls_d = X_ohe_lstat.copy()\n",
    "X_ohe_ls_d.loc[X_ohe_ls_d[X_ohe_ls_d['DIS'] > high_d].index, 'DIS'] = X_ohe_ls_d['DIS'].median()"
   ]
  },
  {
   "cell_type": "code",
   "execution_count": 79,
   "metadata": {},
   "outputs": [
    {
     "data": {
      "text/plain": [
       "(['LSTAT',\n",
       "  'RM',\n",
       "  'PTRATIO',\n",
       "  'B',\n",
       "  'DIS',\n",
       "  'NOX',\n",
       "  'RAD_3',\n",
       "  'ZN_95.0',\n",
       "  'CRIM',\n",
       "  'ZN_22.0',\n",
       "  'RAD_8',\n",
       "  'TAX',\n",
       "  'ZN_20.0',\n",
       "  'ZN_90.0',\n",
       "  'ZN_28.0',\n",
       "  'RAD_1',\n",
       "  'ZN_40.0',\n",
       "  'ZN_80.0',\n",
       "  'ZN_45.0',\n",
       "  'ZN_82.5',\n",
       "  'ZN_85.0',\n",
       "  'ZN_52.5'],\n",
       " 0.7626756747615573)"
      ]
     },
     "execution_count": 79,
     "metadata": {},
     "output_type": "execute_result"
    }
   ],
   "source": [
    "best_score(X_ohe_ls_d, y)"
   ]
  },
  {
   "cell_type": "markdown",
   "metadata": {},
   "source": [
    "Score снизился, не применяем по DIS замену выбросов"
   ]
  },
  {
   "cell_type": "code",
   "execution_count": 80,
   "metadata": {},
   "outputs": [
    {
     "data": {
      "text/plain": [
       "0.385"
      ]
     },
     "execution_count": 80,
     "metadata": {},
     "output_type": "execute_result"
    },
    {
     "data": {
      "image/png": "[encoded data removed]",
      "text/plain": [
       "<Figure size 432x288 with 1 Axes>"
      ]
     },
     "metadata": {
      "needs_background": "light"
     },
     "output_type": "display_data"
    }
   ],
   "source": [
    "bp = X.boxplot(['NOX'], vert=False, return_type='dict')\n",
    "# получаем крайнюю левую часть уса\n",
    "high_d = bp['whiskers'][0].get_xdata()[1]\n",
    "high_d"
   ]
  },
  {
   "cell_type": "markdown",
   "metadata": {},
   "source": [
    "NOX без выбросов, не меняем"
   ]
  },
  {
   "cell_type": "code",
   "execution_count": 81,
   "metadata": {},
   "outputs": [
    {
     "data": {
      "text/plain": [
       "344.91"
      ]
     },
     "execution_count": 81,
     "metadata": {},
     "output_type": "execute_result"
    },
    {
     "data": {
      "image/png": "[encoded data removed]",
      "text/plain": [
       "<Figure size 432x288 with 1 Axes>"
      ]
     },
     "metadata": {
      "needs_background": "light"
     },
     "output_type": "display_data"
    }
   ],
   "source": [
    "bp = X.boxplot(['B'], vert=False, return_type='dict')\n",
    "# получаем крайнюю левую часть уса\n",
    "low_B = bp['whiskers'][0].get_xdata()[1]\n",
    "low_B\n"
   ]
  },
  {
   "cell_type": "code",
   "execution_count": 82,
   "metadata": {},
   "outputs": [],
   "source": [
    "X_ohe_ls_b = X_ohe_lstat.copy()\n",
    "X_ohe_ls_b.loc[X_ohe_ls_b[X_ohe_ls_b['B'] < low_B].index, 'B'] = X_ohe_ls_b['B'].median()"
   ]
  },
  {
   "cell_type": "code",
   "execution_count": 83,
   "metadata": {},
   "outputs": [
    {
     "data": {
      "text/plain": [
       "(['LSTAT',\n",
       "  'RM',\n",
       "  'PTRATIO',\n",
       "  'RAD_1',\n",
       "  'RAD_3',\n",
       "  'CRIM',\n",
       "  'DIS',\n",
       "  'NOX',\n",
       "  'B',\n",
       "  'ZN_95.0',\n",
       "  'ZN_0.0',\n",
       "  'ZN_28.0',\n",
       "  'ZN_90.0',\n",
       "  'RAD_8',\n",
       "  'ZN_22.0',\n",
       "  'ZN_80.0',\n",
       "  'ZN_60.0',\n",
       "  'ZN_34.0',\n",
       "  'ZN_85.0',\n",
       "  'ZN_20.0',\n",
       "  'ZN_45.0',\n",
       "  'ZN_82.5',\n",
       "  'ZN_21.0',\n",
       "  'ZN_55.0'],\n",
       " 0.7670548235027472)"
      ]
     },
     "execution_count": 83,
     "metadata": {},
     "output_type": "execute_result"
    }
   ],
   "source": [
    "best_score(X_ohe_ls_b, y)"
   ]
  },
  {
   "cell_type": "markdown",
   "metadata": {},
   "source": [
    "Score повысился.\n",
    "### ИТОГ \n",
    "##### начальный score: 0.6826784431236101\n",
    "##### итоговый score : 0.7670548235027472\n",
    "Отличный результат!"
   ]
  }
 ],
 "metadata": {
  "colab": {
   "collapsed_sections": [],
   "name": "Основная практика2.ipynb",
   "provenance": []
  },
  "kernelspec": {
   "display_name": "Python 3",
   "language": "python",
   "name": "python3"
  },
  "language_info": {
   "codemirror_mode": {
    "name": "ipython",
    "version": 3
   },
   "file_extension": ".py",
   "mimetype": "text/x-python",
   "name": "python",
   "nbconvert_exporter": "python",
   "pygments_lexer": "ipython3",
   "version": "3.8.2"
  }
 },
 "nbformat": 4,
 "nbformat_minor": 1
}
