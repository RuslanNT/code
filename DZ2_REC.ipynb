{
  "nbformat": 4,
  "nbformat_minor": 0,
  "metadata": {
    "colab": {
      "name": "DZ2 REC.ipynb",
      "provenance": [],
      "toc_visible": true
    },
    "kernelspec": {
      "display_name": "Python 3",
      "language": "python",
      "name": "python3"
    },
    "language_info": {
      "codemirror_mode": {
        "name": "ipython",
        "version": 3
      },
      "file_extension": ".py",
      "mimetype": "text/x-python",
      "name": "python",
      "nbconvert_exporter": "python",
      "pygments_lexer": "ipython3",
      "version": "3.9.4"
    }
  },
  "cells": [
    {
      "cell_type": "markdown",
      "metadata": {
        "id": "cLLpHaorynhX"
      },
      "source": [
        "ПАКЕТ SURPRISE\n",
        "\n",
        "- используйте данные MovieLens 1M\n",
        "- можно использовать любые модели из пакета\n",
        "- получите RMSE на тестовом сете 0.87 и ниже\n",
        "\n",
        "Комментарий преподавателя :\n",
        "\n",
        "В ДЗ на датасет 1М может не хватить RAM. Можно сделать на 100K. Качество RMSE предлагаю считать на основе CrossValidation (5 фолдов), а не отложенном датасете."
      ]
    },
    {
      "cell_type": "code",
      "metadata": {
        "colab": {
          "base_uri": "https://localhost:8080/"
        },
        "id": "zA6NRPDxcMGX",
        "outputId": "b8e355a9-03f4-4676-bc45-c49a3e3c06a1"
      },
      "source": [
        "!pip install surprise"
      ],
      "execution_count": 2,
      "outputs": [
        {
          "output_type": "stream",
          "text": [
            "Collecting surprise\n",
            "  Downloading https://files.pythonhosted.org/packages/61/de/e5cba8682201fcf9c3719a6fdda95693468ed061945493dea2dd37c5618b/surprise-0.1-py2.py3-none-any.whl\n",
            "Collecting scikit-surprise\n",
            "\u001b[?25l  Downloading https://files.pythonhosted.org/packages/97/37/5d334adaf5ddd65da99fc65f6507e0e4599d092ba048f4302fe8775619e8/scikit-surprise-1.1.1.tar.gz (11.8MB)\n",
            "\u001b[K     |████████████████████████████████| 11.8MB 8.5MB/s \n",
            "\u001b[?25hRequirement already satisfied: joblib>=0.11 in /usr/local/lib/python3.7/dist-packages (from scikit-surprise->surprise) (1.0.1)\n",
            "Requirement already satisfied: numpy>=1.11.2 in /usr/local/lib/python3.7/dist-packages (from scikit-surprise->surprise) (1.19.5)\n",
            "Requirement already satisfied: scipy>=1.0.0 in /usr/local/lib/python3.7/dist-packages (from scikit-surprise->surprise) (1.4.1)\n",
            "Requirement already satisfied: six>=1.10.0 in /usr/local/lib/python3.7/dist-packages (from scikit-surprise->surprise) (1.15.0)\n",
            "Building wheels for collected packages: scikit-surprise\n",
            "  Building wheel for scikit-surprise (setup.py) ... \u001b[?25l\u001b[?25hdone\n",
            "  Created wheel for scikit-surprise: filename=scikit_surprise-1.1.1-cp37-cp37m-linux_x86_64.whl size=1617603 sha256=408ce562e3bb67ca9e138db661f896b9a76e8a576572a5a78c0ee82fffc5e50c\n",
            "  Stored in directory: /root/.cache/pip/wheels/78/9c/3d/41b419c9d2aff5b6e2b4c0fc8d25c538202834058f9ed110d0\n",
            "Successfully built scikit-surprise\n",
            "Installing collected packages: scikit-surprise, surprise\n",
            "Successfully installed scikit-surprise-1.1.1 surprise-0.1\n"
          ],
          "name": "stdout"
        }
      ]
    },
    {
      "cell_type": "code",
      "metadata": {
        "id": "NOBReFQrcB5_"
      },
      "source": [
        "from surprise import KNNWithMeans, KNNBasic, KNNWithZScore, KNNBaseline, SVD, NMF, SlopeOne, CoClustering\n",
        "from surprise import Dataset\n",
        "from surprise import accuracy\n",
        "from surprise import Reader\n",
        "from surprise.model_selection import train_test_split\n",
        "from surprise.model_selection import cross_validate\n",
        "import pandas as pd"
      ],
      "execution_count": 3,
      "outputs": []
    },
    {
      "cell_type": "code",
      "metadata": {
        "colab": {
          "base_uri": "https://localhost:8080/"
        },
        "id": "YWx5gqa4cB6h",
        "outputId": "0f397db7-7389-4cc2-9623-70cf49df15a7"
      },
      "source": [
        "data =Dataset.load_builtin('ml-1m', prompt=False)"
      ],
      "execution_count": 4,
      "outputs": [
        {
          "output_type": "stream",
          "text": [
            "Trying to download dataset from http://files.grouplens.org/datasets/movielens/ml-1m.zip...\n",
            "Done! Dataset ml-1m has been saved to /root/.surprise_data/ml-1m\n"
          ],
          "name": "stdout"
        }
      ]
    },
    {
      "cell_type": "code",
      "metadata": {
        "colab": {
          "base_uri": "https://localhost:8080/"
        },
        "id": "MiU1Wu5bcB6h",
        "outputId": "0d9797b0-5c5d-42e8-e012-6dcd9b9d34dd"
      },
      "source": [
        "# используем KNNBaseline\n",
        "algo = KNNBaseline(k=50, sim_options={'name': 'pearson', 'user_based': True})\n",
        "cross_validate(algo, data, measures=['RMSE'], cv=5, verbose=True)"
      ],
      "execution_count": null,
      "outputs": [
        {
          "output_type": "stream",
          "text": [
            "Estimating biases using als...\n",
            "Computing the pearson similarity matrix...\n",
            "Done computing similarity matrix.\n",
            "Estimating biases using als...\n",
            "Computing the pearson similarity matrix...\n",
            "Done computing similarity matrix.\n",
            "Estimating biases using als...\n",
            "Computing the pearson similarity matrix...\n",
            "Done computing similarity matrix.\n",
            "Estimating biases using als...\n",
            "Computing the pearson similarity matrix...\n",
            "Done computing similarity matrix.\n",
            "Estimating biases using als...\n",
            "Computing the pearson similarity matrix...\n",
            "Done computing similarity matrix.\n",
            "Evaluating RMSE of algorithm KNNBaseline on 5 split(s).\n",
            "\n",
            "                  Fold 1  Fold 2  Fold 3  Fold 4  Fold 5  Mean    Std     \n",
            "RMSE (testset)    0.8937  0.8968  0.8914  0.8921  0.8921  0.8932  0.0020  \n",
            "Fit time          82.23   81.86   82.60   84.10   84.34   83.03   1.01    \n",
            "Test time         131.02  133.95  132.07  131.60  134.45  132.62  1.34    \n"
          ],
          "name": "stdout"
        },
        {
          "output_type": "execute_result",
          "data": {
            "text/plain": [
              "{'fit_time': (82.22846460342407,\n",
              "  81.85611915588379,\n",
              "  82.60449457168579,\n",
              "  84.10422492027283,\n",
              "  84.33880257606506),\n",
              " 'test_rmse': array([0.89371996, 0.89682108, 0.89141199, 0.89211963, 0.89205719]),\n",
              " 'test_time': (131.02210187911987,\n",
              "  133.9515039920807,\n",
              "  132.0698206424713,\n",
              "  131.6000852584839,\n",
              "  134.45221066474915)}"
            ]
          },
          "metadata": {
            "tags": []
          },
          "execution_count": 6
        }
      ]
    },
    {
      "cell_type": "markdown",
      "metadata": {
        "id": "SVNHD4rzz0pR"
      },
      "source": [
        "RMSE 0.8932 > 0.87"
      ]
    },
    {
      "cell_type": "code",
      "metadata": {
        "colab": {
          "base_uri": "https://localhost:8080/"
        },
        "id": "9kn6iwV1cB6i",
        "outputId": "3e2ac2ab-dba2-41a8-b66b-9fc3d392b1b0"
      },
      "source": [
        "# используем KNNWithZScore\n",
        "algo = KNNWithZScore(k=50, sim_options={'name': 'pearson', 'user_based': True})\n",
        "cross_validate(algo, data, measures=['RMSE'], cv=5, verbose=True)"
      ],
      "execution_count": null,
      "outputs": [
        {
          "output_type": "stream",
          "text": [
            "Computing the pearson similarity matrix...\n",
            "Done computing similarity matrix.\n",
            "Computing the pearson similarity matrix...\n",
            "Done computing similarity matrix.\n",
            "Computing the pearson similarity matrix...\n",
            "Done computing similarity matrix.\n",
            "Computing the pearson similarity matrix...\n",
            "Done computing similarity matrix.\n",
            "Computing the pearson similarity matrix...\n",
            "Done computing similarity matrix.\n",
            "Evaluating RMSE of algorithm KNNWithZScore on 5 split(s).\n",
            "\n",
            "                  Fold 1  Fold 2  Fold 3  Fold 4  Fold 5  Mean    Std     \n",
            "RMSE (testset)    0.9136  0.9102  0.9134  0.9134  0.9122  0.9126  0.0013  \n",
            "Fit time          79.33   80.33   79.87   80.90   82.00   80.49   0.92    \n",
            "Test time         130.61  128.74  129.17  131.68  131.12  130.26  1.13    \n"
          ],
          "name": "stdout"
        },
        {
          "output_type": "execute_result",
          "data": {
            "text/plain": [
              "{'fit_time': (79.32705235481262,\n",
              "  80.33309650421143,\n",
              "  79.86593270301819,\n",
              "  80.90325379371643,\n",
              "  82.00087428092957),\n",
              " 'test_rmse': array([0.91363984, 0.91022187, 0.91340938, 0.91339845, 0.91217807]),\n",
              " 'test_time': (130.60991954803467,\n",
              "  128.7413637638092,\n",
              "  129.16567659378052,\n",
              "  131.67803311347961,\n",
              "  131.11849784851074)}"
            ]
          },
          "metadata": {
            "tags": []
          },
          "execution_count": 7
        }
      ]
    },
    {
      "cell_type": "markdown",
      "metadata": {
        "id": "qfy6in5bz-i3"
      },
      "source": [
        "RMSE 0.9126 > 0.87"
      ]
    },
    {
      "cell_type": "code",
      "metadata": {
        "colab": {
          "base_uri": "https://localhost:8080/"
        },
        "id": "69cwUehOlQ4i",
        "outputId": "6b680d23-5819-4367-9384-c8418354d97a"
      },
      "source": [
        "# используем KNNWithMeans\n",
        "algo = KNNWithMeans(k=50, sim_options={'name': 'pearson', 'user_based': True})\n",
        "cross_validate(algo, data, measures=['RMSE'], cv=5, verbose=True)"
      ],
      "execution_count": null,
      "outputs": [
        {
          "output_type": "stream",
          "text": [
            "Computing the pearson similarity matrix...\n",
            "Done computing similarity matrix.\n",
            "Computing the pearson similarity matrix...\n",
            "Done computing similarity matrix.\n",
            "Computing the pearson similarity matrix...\n",
            "Done computing similarity matrix.\n",
            "Computing the pearson similarity matrix...\n",
            "Done computing similarity matrix.\n",
            "Computing the pearson similarity matrix...\n",
            "Done computing similarity matrix.\n",
            "Evaluating RMSE of algorithm KNNWithMeans on 5 split(s).\n",
            "\n",
            "                  Fold 1  Fold 2  Fold 3  Fold 4  Fold 5  Mean    Std     \n",
            "RMSE (testset)    0.9182  0.9160  0.9141  0.9151  0.9135  0.9154  0.0017  \n",
            "Fit time          81.29   80.90   80.51   80.73   80.42   80.77   0.31    \n",
            "Test time         127.78  128.67  128.34  125.93  127.12  127.57  0.97    \n"
          ],
          "name": "stdout"
        },
        {
          "output_type": "execute_result",
          "data": {
            "text/plain": [
              "{'fit_time': (81.29293012619019,\n",
              "  80.90267634391785,\n",
              "  80.51193237304688,\n",
              "  80.73289632797241,\n",
              "  80.41556239128113),\n",
              " 'test_rmse': array([0.91824055, 0.91600688, 0.91414752, 0.91506182, 0.91349898]),\n",
              " 'test_time': (127.78433871269226,\n",
              "  128.6704180240631,\n",
              "  128.3375961780548,\n",
              "  125.93412566184998,\n",
              "  127.11605453491211)}"
            ]
          },
          "metadata": {
            "tags": []
          },
          "execution_count": 8
        }
      ]
    },
    {
      "cell_type": "markdown",
      "metadata": {
        "id": "AkHSz3O20Z5C"
      },
      "source": [
        "RMSE 0.9154 > 0.87"
      ]
    },
    {
      "cell_type": "code",
      "metadata": {
        "colab": {
          "base_uri": "https://localhost:8080/"
        },
        "id": "naeV9uR-lUaz",
        "outputId": "7a689d32-8d0b-4697-95c3-4a439c6cca2a"
      },
      "source": [
        "# используем KNNBasic\n",
        "algo = KNNBasic(k=50, sim_options={'name': 'pearson', 'user_based': True})\n",
        "cross_validate(algo, data, measures=['RMSE'], cv=5, verbose=True)"
      ],
      "execution_count": null,
      "outputs": [
        {
          "output_type": "stream",
          "text": [
            "Computing the pearson similarity matrix...\n",
            "Done computing similarity matrix.\n",
            "Computing the pearson similarity matrix...\n",
            "Done computing similarity matrix.\n",
            "Computing the pearson similarity matrix...\n",
            "Done computing similarity matrix.\n",
            "Computing the pearson similarity matrix...\n",
            "Done computing similarity matrix.\n",
            "Computing the pearson similarity matrix...\n",
            "Done computing similarity matrix.\n",
            "Evaluating RMSE of algorithm KNNBasic on 5 split(s).\n",
            "\n",
            "                  Fold 1  Fold 2  Fold 3  Fold 4  Fold 5  Mean    Std     \n",
            "RMSE (testset)    0.9571  0.9632  0.9603  0.9599  0.9592  0.9599  0.0020  \n",
            "Fit time          78.88   80.49   80.38   80.96   80.09   80.16   0.70    \n",
            "Test time         124.79  126.95  126.42  125.92  125.53  125.92  0.74    \n"
          ],
          "name": "stdout"
        },
        {
          "output_type": "execute_result",
          "data": {
            "text/plain": [
              "{'fit_time': (78.8823356628418,\n",
              "  80.4922525882721,\n",
              "  80.38459777832031,\n",
              "  80.95841765403748,\n",
              "  80.09322357177734),\n",
              " 'test_rmse': array([0.95710153, 0.96324562, 0.96031826, 0.95986694, 0.95916154]),\n",
              " 'test_time': (124.78887224197388,\n",
              "  126.95140647888184,\n",
              "  126.41681051254272,\n",
              "  125.91772603988647,\n",
              "  125.53265857696533)}"
            ]
          },
          "metadata": {
            "tags": []
          },
          "execution_count": 9
        }
      ]
    },
    {
      "cell_type": "markdown",
      "metadata": {
        "id": "FvEDv4Mw0c-e"
      },
      "source": [
        "RMSE 0.9599 > 0.87"
      ]
    },
    {
      "cell_type": "code",
      "metadata": {
        "colab": {
          "base_uri": "https://localhost:8080/"
        },
        "id": "m4iOfnXer29w",
        "outputId": "38c29013-7f73-4780-b62f-ed698b636dd9"
      },
      "source": [
        "# используем SVD\n",
        "algo = SVD()\n",
        "cross_validate(algo, data, measures=['RMSE'], cv=5, verbose=True)"
      ],
      "execution_count": null,
      "outputs": [
        {
          "output_type": "stream",
          "text": [
            "Evaluating RMSE of algorithm SVD on 5 split(s).\n",
            "\n",
            "                  Fold 1  Fold 2  Fold 3  Fold 4  Fold 5  Mean    Std     \n",
            "RMSE (testset)    0.9043  0.9042  0.9024  0.9006  0.9014  0.9026  0.0015  \n",
            "Fit time          115.41  116.24  116.31  116.34  115.95  116.05  0.35    \n",
            "Test time         2.70    2.86    2.57    2.47    2.93    2.70    0.17    \n"
          ],
          "name": "stdout"
        },
        {
          "output_type": "execute_result",
          "data": {
            "text/plain": [
              "{'fit_time': (115.41025924682617,\n",
              "  116.23769974708557,\n",
              "  116.3056628704071,\n",
              "  116.33988666534424,\n",
              "  115.94999122619629),\n",
              " 'test_rmse': array([0.90430706, 0.90420743, 0.90238002, 0.90058691, 0.90135136]),\n",
              " 'test_time': (2.696779251098633,\n",
              "  2.8556580543518066,\n",
              "  2.569333553314209,\n",
              "  2.471565008163452,\n",
              "  2.928252935409546)}"
            ]
          },
          "metadata": {
            "tags": []
          },
          "execution_count": 15
        }
      ]
    },
    {
      "cell_type": "markdown",
      "metadata": {
        "id": "jTRMEgp60hLi"
      },
      "source": [
        "RMSE 0.9026 > 0.87"
      ]
    },
    {
      "cell_type": "code",
      "metadata": {
        "id": "YUt21SiTsVwd",
        "colab": {
          "base_uri": "https://localhost:8080/"
        },
        "outputId": "ce2cd194-4fc5-45da-bd79-f02c50091875"
      },
      "source": [
        "# используем NMF\n",
        "algo = NMF()\n",
        "cross_validate(algo, data, measures=['RMSE'], cv=5, verbose=True)"
      ],
      "execution_count": null,
      "outputs": [
        {
          "output_type": "stream",
          "text": [
            "Evaluating RMSE of algorithm NMF on 5 split(s).\n",
            "\n",
            "                  Fold 1  Fold 2  Fold 3  Fold 4  Fold 5  Mean    Std     \n",
            "RMSE (testset)    0.9173  0.9189  0.9171  0.9165  0.9158  0.9171  0.0010  \n",
            "Fit time          51.32   51.94   53.04   52.57   52.65   52.30   0.60    \n",
            "Test time         2.39    2.29    2.63    2.51    2.22    2.41    0.15    \n"
          ],
          "name": "stdout"
        },
        {
          "output_type": "execute_result",
          "data": {
            "text/plain": [
              "{'fit_time': (51.32220530509949,\n",
              "  51.93974494934082,\n",
              "  53.0365207195282,\n",
              "  52.568767070770264,\n",
              "  52.649842500686646),\n",
              " 'test_rmse': array([0.91730655, 0.91890601, 0.91710736, 0.91649365, 0.91579003]),\n",
              " 'test_time': (2.3873839378356934,\n",
              "  2.2904276847839355,\n",
              "  2.628727912902832,\n",
              "  2.5065200328826904,\n",
              "  2.2226617336273193)}"
            ]
          },
          "metadata": {
            "tags": []
          },
          "execution_count": 9
        }
      ]
    },
    {
      "cell_type": "markdown",
      "metadata": {
        "id": "GnXlAwA30j25"
      },
      "source": [
        "RMSE 0.9171 > 0.87"
      ]
    },
    {
      "cell_type": "code",
      "metadata": {
        "id": "tKZlYm4TsXYM",
        "colab": {
          "base_uri": "https://localhost:8080/"
        },
        "outputId": "cce07917-59d5-47fb-8b7f-efd78ce68dec"
      },
      "source": [
        "# используем SlopeOne\n",
        "algo = SlopeOne()\n",
        "cross_validate(algo, data, measures=['RMSE'], cv=5, verbose=True)"
      ],
      "execution_count": null,
      "outputs": [
        {
          "output_type": "stream",
          "text": [
            "Evaluating RMSE of algorithm SlopeOne on 5 split(s).\n",
            "\n",
            "                  Fold 1  Fold 2  Fold 3  Fold 4  Fold 5  Mean    Std     \n",
            "RMSE (testset)    0.9070  0.9059  0.9074  0.9071  0.9061  0.9067  0.0006  \n",
            "Fit time          14.63   15.19   15.21   15.26   15.21   15.10   0.24    \n",
            "Test time         64.03   63.43   63.02   62.76   63.25   63.30   0.43    \n"
          ],
          "name": "stdout"
        },
        {
          "output_type": "execute_result",
          "data": {
            "text/plain": [
              "{'fit_time': (14.631391286849976,\n",
              "  15.186076164245605,\n",
              "  15.207418441772461,\n",
              "  15.264585018157959,\n",
              "  15.208249807357788),\n",
              " 'test_rmse': array([0.90700963, 0.90593288, 0.90742678, 0.90706422, 0.90610619]),\n",
              " 'test_time': (64.0321774482727,\n",
              "  63.42725586891174,\n",
              "  63.02475929260254,\n",
              "  62.761449098587036,\n",
              "  63.2485728263855)}"
            ]
          },
          "metadata": {
            "tags": []
          },
          "execution_count": 10
        }
      ]
    },
    {
      "cell_type": "code",
      "metadata": {
        "id": "p14rKcunsa9u",
        "colab": {
          "base_uri": "https://localhost:8080/"
        },
        "outputId": "88e01d80-40d9-4fbb-c7e4-09ac6cf2053b"
      },
      "source": [
        "# используем CoClustering\n",
        "algo = CoClustering()\n",
        "cross_validate(algo, data, measures=['RMSE'], cv=5, verbose=True)"
      ],
      "execution_count": null,
      "outputs": [
        {
          "output_type": "stream",
          "text": [
            "Evaluating RMSE of algorithm CoClustering on 5 split(s).\n",
            "\n",
            "                  Fold 1  Fold 2  Fold 3  Fold 4  Fold 5  Mean    Std     \n",
            "RMSE (testset)    0.9180  0.9126  0.9198  0.9144  0.9185  0.9166  0.0027  \n",
            "Fit time          21.06   21.04   21.41   21.02   21.36   21.18   0.17    \n",
            "Test time         2.04    2.32    2.05    2.32    2.09    2.16    0.13    \n"
          ],
          "name": "stdout"
        },
        {
          "output_type": "execute_result",
          "data": {
            "text/plain": [
              "{'fit_time': (21.05742883682251,\n",
              "  21.044882774353027,\n",
              "  21.41464853286743,\n",
              "  21.018492221832275,\n",
              "  21.360286951065063),\n",
              " 'test_rmse': array([0.91797146, 0.91258829, 0.91978435, 0.9144419 , 0.91845648]),\n",
              " 'test_time': (2.0382673740386963,\n",
              "  2.3208158016204834,\n",
              "  2.0489518642425537,\n",
              "  2.3176379203796387,\n",
              "  2.0859193801879883)}"
            ]
          },
          "metadata": {
            "tags": []
          },
          "execution_count": 11
        }
      ]
    },
    {
      "cell_type": "markdown",
      "metadata": {
        "id": "7qhf9yxG0mda"
      },
      "source": [
        "RMSE 0.9166 > 0.87"
      ]
    },
    {
      "cell_type": "markdown",
      "metadata": {
        "id": "4g1qN1to0n4M"
      },
      "source": [
        "#### Лучший RMSE у KNNBaseline\n",
        "\n",
        "Будем исопльзовать его \n"
      ]
    },
    {
      "cell_type": "code",
      "metadata": {
        "id": "2eAjCfeEsd9D",
        "colab": {
          "base_uri": "https://localhost:8080/"
        },
        "outputId": "55f11e25-6f7a-4454-d2fc-ed3f16d7727a"
      },
      "source": [
        "# Изменим Baselines estimates configuration на\n",
        "bsl_options = {'method': 'als',\n",
        "               'n_epochs': 20,\n",
        "               'reg_u': 12,\n",
        "               'reg_i': 5\n",
        "               }\n",
        "algo = KNNBaseline(k=50, bsl_options=bsl_options, sim_options={'name': 'pearson', 'user_based': True})\n",
        "cross_validate(algo, data, measures=['RMSE'], cv=5, verbose=True)"
      ],
      "execution_count": null,
      "outputs": [
        {
          "output_type": "stream",
          "text": [
            "Estimating biases using als...\n",
            "Computing the pearson similarity matrix...\n",
            "Done computing similarity matrix.\n",
            "Estimating biases using als...\n",
            "Computing the pearson similarity matrix...\n",
            "Done computing similarity matrix.\n",
            "Estimating biases using als...\n",
            "Computing the pearson similarity matrix...\n",
            "Done computing similarity matrix.\n",
            "Estimating biases using als...\n",
            "Computing the pearson similarity matrix...\n",
            "Done computing similarity matrix.\n",
            "Estimating biases using als...\n",
            "Computing the pearson similarity matrix...\n",
            "Done computing similarity matrix.\n",
            "Evaluating RMSE of algorithm KNNBaseline on 5 split(s).\n",
            "\n",
            "                  Fold 1  Fold 2  Fold 3  Fold 4  Fold 5  Mean    Std     \n",
            "RMSE (testset)    0.8919  0.8912  0.8942  0.8930  0.8943  0.8929  0.0013  \n",
            "Fit time          97.40   96.88   98.38   97.63   98.21   97.70   0.55    \n",
            "Test time         160.53  157.57  161.10  159.05  161.21  159.89  1.39    \n"
          ],
          "name": "stdout"
        },
        {
          "output_type": "execute_result",
          "data": {
            "text/plain": [
              "{'fit_time': (97.39723539352417,\n",
              "  96.8803973197937,\n",
              "  98.38015532493591,\n",
              "  97.63313221931458,\n",
              "  98.21371674537659),\n",
              " 'test_rmse': array([0.89186276, 0.89115442, 0.8942168 , 0.89301543, 0.89432611]),\n",
              " 'test_time': (160.53481149673462,\n",
              "  157.56755328178406,\n",
              "  161.09519147872925,\n",
              "  159.05099844932556,\n",
              "  161.20769786834717)}"
            ]
          },
          "metadata": {
            "tags": []
          },
          "execution_count": 16
        }
      ]
    },
    {
      "cell_type": "markdown",
      "metadata": {
        "id": "4hONbA3N1Gib"
      },
      "source": [
        "RMSE 0.8929 > 0.87"
      ]
    },
    {
      "cell_type": "code",
      "metadata": {
        "id": "w4Der5d0seIs",
        "colab": {
          "base_uri": "https://localhost:8080/"
        },
        "outputId": "e01b9597-12a9-468a-d578-fbaaa8d4634b"
      },
      "source": [
        "# Уменьшим reg_u до 6\n",
        "bsl_options = {'method': 'als',\n",
        "               'n_epochs': 20,\n",
        "               'reg_u': 6,\n",
        "               'reg_i': 5\n",
        "               }\n",
        "algo = KNNBaseline(k=50, bsl_options=bsl_options, sim_options={'name': 'pearson', 'user_based': True})\n",
        "cross_validate(algo, data, measures=['RMSE'], cv=5, verbose=True)"
      ],
      "execution_count": null,
      "outputs": [
        {
          "output_type": "stream",
          "text": [
            "Estimating biases using als...\n",
            "Computing the pearson similarity matrix...\n",
            "Done computing similarity matrix.\n",
            "Estimating biases using als...\n",
            "Computing the pearson similarity matrix...\n",
            "Done computing similarity matrix.\n",
            "Estimating biases using als...\n",
            "Computing the pearson similarity matrix...\n",
            "Done computing similarity matrix.\n",
            "Estimating biases using als...\n",
            "Computing the pearson similarity matrix...\n",
            "Done computing similarity matrix.\n",
            "Estimating biases using als...\n",
            "Computing the pearson similarity matrix...\n",
            "Done computing similarity matrix.\n",
            "Evaluating RMSE of algorithm KNNBaseline on 5 split(s).\n",
            "\n",
            "                  Fold 1  Fold 2  Fold 3  Fold 4  Fold 5  Mean    Std     \n",
            "RMSE (testset)    0.8936  0.8899  0.8931  0.8933  0.8955  0.8931  0.0018  \n",
            "Fit time          98.07   98.45   99.38   99.49   99.93   99.07   0.69    \n",
            "Test time         166.78  164.30  166.30  166.00  168.28  166.33  1.28    \n"
          ],
          "name": "stdout"
        },
        {
          "output_type": "execute_result",
          "data": {
            "text/plain": [
              "{'fit_time': (98.07408452033997,\n",
              "  98.44663453102112,\n",
              "  99.38442134857178,\n",
              "  99.49315309524536,\n",
              "  99.93277955055237),\n",
              " 'test_rmse': array([0.8935571 , 0.8899116 , 0.89313312, 0.89326206, 0.89549269]),\n",
              " 'test_time': (166.77829670906067,\n",
              "  164.29559445381165,\n",
              "  166.29839873313904,\n",
              "  165.99737882614136,\n",
              "  168.27989888191223)}"
            ]
          },
          "metadata": {
            "tags": []
          },
          "execution_count": 17
        }
      ]
    },
    {
      "cell_type": "markdown",
      "metadata": {
        "id": "sjjwLk631WxG"
      },
      "source": [
        "RMSE вырос"
      ]
    },
    {
      "cell_type": "code",
      "metadata": {
        "id": "tn7t0bDCseTv",
        "colab": {
          "base_uri": "https://localhost:8080/"
        },
        "outputId": "0cbe5878-0294-4dce-bb65-7335c2b04227"
      },
      "source": [
        "# Уменьшим reg_i до 2\n",
        "bsl_options = {'method': 'als',\n",
        "               'n_epochs': 20,\n",
        "               'reg_u': 6,\n",
        "               'reg_i': 2\n",
        "               }\n",
        "algo = KNNBaseline(k=50, bsl_options=bsl_options, sim_options={'name': 'pearson', 'user_based': True})\n",
        "cross_validate(algo, data, n_jobs=-1, measures=['RMSE'], cv=5, verbose=True)"
      ],
      "execution_count": null,
      "outputs": [
        {
          "output_type": "stream",
          "text": [
            "Estimating biases using als...\n",
            "Computing the pearson similarity matrix...\n",
            "Done computing similarity matrix.\n",
            "Estimating biases using als...\n",
            "Computing the pearson similarity matrix...\n",
            "Done computing similarity matrix.\n",
            "Estimating biases using als...\n",
            "Computing the pearson similarity matrix...\n",
            "Done computing similarity matrix.\n",
            "Estimating biases using als...\n",
            "Computing the pearson similarity matrix...\n",
            "Done computing similarity matrix.\n",
            "Estimating biases using als...\n",
            "Computing the pearson similarity matrix...\n",
            "Done computing similarity matrix.\n",
            "Evaluating RMSE of algorithm KNNBaseline on 5 split(s).\n",
            "\n",
            "                  Fold 1  Fold 2  Fold 3  Fold 4  Fold 5  Mean    Std     \n",
            "RMSE (testset)    0.8947  0.8933  0.8932  0.8939  0.8902  0.8930  0.0015  \n",
            "Fit time          98.41   99.25   100.14  100.15  100.15  99.62   0.70    \n",
            "Test time         168.98  168.80  167.63  170.07  167.24  168.54  1.01    \n"
          ],
          "name": "stdout"
        },
        {
          "output_type": "execute_result",
          "data": {
            "text/plain": [
              "{'fit_time': (98.41022944450378,\n",
              "  99.24709630012512,\n",
              "  100.13815927505493,\n",
              "  100.15146350860596,\n",
              "  100.1469874382019),\n",
              " 'test_rmse': array([0.89468161, 0.89326097, 0.89324163, 0.89389049, 0.89015912]),\n",
              " 'test_time': (168.98306894302368,\n",
              "  168.7950987815857,\n",
              "  167.62684607505798,\n",
              "  170.06959629058838,\n",
              "  167.23975777626038)}"
            ]
          },
          "metadata": {
            "tags": []
          },
          "execution_count": 18
        }
      ]
    },
    {
      "cell_type": "markdown",
      "metadata": {
        "id": "srNgVLPG1jd8"
      },
      "source": [
        "RMSE немного уменьшился по сравшению с предыдущим"
      ]
    },
    {
      "cell_type": "code",
      "metadata": {
        "id": "LmrgUIGVsecz",
        "colab": {
          "base_uri": "https://localhost:8080/"
        },
        "outputId": "542e8569-3d4e-4497-c285-0ddaef88aad7"
      },
      "source": [
        "# Используем pearson_baseline\n",
        "bsl_options = {'method': 'als', 'n_epochs': 20, 'reg_u': 6, 'reg_i': 2}\n",
        "algo = KNNBaseline(k=50, bsl_options=bsl_options, sim_options={'name': 'pearson_baseline', 'user_based': True})\n",
        "cross_validate(algo, data, n_jobs=-1, measures=['RMSE'], cv=5, verbose=True)"
      ],
      "execution_count": null,
      "outputs": [
        {
          "output_type": "stream",
          "text": [
            "Evaluating RMSE of algorithm KNNBaseline on 5 split(s).\n",
            "\n",
            "                  Fold 1  Fold 2  Fold 3  Fold 4  Fold 5  Mean    Std     \n",
            "RMSE (testset)    0.8691  0.8671  0.8652  0.8693  0.8702  0.8682  0.0018  \n",
            "Fit time          101.86  102.87  110.77  101.61  65.03   96.43   16.06   \n",
            "Test time         198.62  206.38  200.32  194.60  99.52   179.89  40.36   \n"
          ],
          "name": "stdout"
        },
        {
          "output_type": "execute_result",
          "data": {
            "text/plain": [
              "{'fit_time': (101.85631489753723,\n",
              "  102.8730583190918,\n",
              "  110.77075147628784,\n",
              "  101.61296463012695,\n",
              "  65.02823114395142),\n",
              " 'test_rmse': array([0.86913689, 0.86708711, 0.8651526 , 0.86925421, 0.87015158]),\n",
              " 'test_time': (198.62030673027039,\n",
              "  206.37978506088257,\n",
              "  200.31899213790894,\n",
              "  194.59730505943298,\n",
              "  99.51973724365234)}"
            ]
          },
          "metadata": {
            "tags": []
          },
          "execution_count": 19
        }
      ]
    },
    {
      "cell_type": "markdown",
      "metadata": {
        "id": "FhF1AquO1rce"
      },
      "source": [
        "## RMSE меньше 0,87!"
      ]
    }
  ]
}