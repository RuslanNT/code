{
 "cells": [
  {
   "cell_type": "markdown",
   "metadata": {},
   "source": [
    "### Загружаем необходимые библиотеки"
   ]
  },
  {
   "cell_type": "code",
   "execution_count": 1,
   "metadata": {
    "_cell_guid": "b1076dfc-b9ad-4769-8c92-a6c4dae69d19",
    "_uuid": "8f2839f25d086af736a60e9eeb907d3b93b6e0e5"
   },
   "outputs": [
    {
     "name": "stdout",
     "output_type": "stream",
     "text": [
      "Tensorflow version:  2.5.0\n"
     ]
    }
   ],
   "source": [
    "import os\n",
    "import cv2\n",
    "import numpy as np \n",
    "import pandas as pd\n",
    "import matplotlib.pyplot as plt\n",
    "\n",
    "from pathlib import Path\n",
    "from collections import Counter\n",
    "from sklearn.model_selection import train_test_split\n",
    "\n",
    "import tensorflow as tf\n",
    "from tensorflow import keras\n",
    "from tensorflow.keras import layers\n",
    "print(\"Tensorflow version: \", tf.__version__)\n",
    "\n",
    "seed = 1234\n",
    "np.random.seed(seed)\n",
    "tf.random.set_seed(seed)"
   ]
  },
  {
   "cell_type": "markdown",
   "metadata": {},
   "source": [
    "## 1. Получение данных"
   ]
  },
  {
   "cell_type": "markdown",
   "metadata": {},
   "source": [
    "### 1.1. Загружаем файлы с капчей в dataset"
   ]
  },
  {
   "cell_type": "code",
   "execution_count": 2,
   "metadata": {},
   "outputs": [],
   "source": [
    "# Папки с данными\n",
    "data_dir = Path(\"data\")\n",
    "\n",
    "# Получаем список всех изображений\n",
    "images = list(data_dir.glob(\"*.jpg\"))\n",
    "\n",
    "# Сохраним все символы в characters и characters_count\n",
    "characters = set()\n",
    "characters_count = []\n",
    "\n",
    "# Список для сохранения длины капчи\n",
    "captcha_length = []\n",
    "\n",
    "# Списки для созранения названий изображений\n",
    "dataset = []\n",
    "\n",
    "for img_path in images:\n",
    "    # 1. Получим название изображеня\n",
    "    label = img_path.name.split(\".jpg\")[0]\n",
    "    # 2. Сохраним длину капчи\n",
    "    captcha_length.append(len(label))\n",
    "    # 3. Сохраним пару изображение-название\n",
    "    dataset.append((str(img_path), label))\n",
    "    # 4. Сохраним имеющиеся символы\n",
    "    for ch in label:\n",
    "        characters.add(ch)\n",
    "        characters_count.append(ch)\n",
    "   \n",
    "    \n",
    "# Сортируем символы        \n",
    "characters = sorted(characters)\n",
    "\n",
    "# Конвертируем dataset в pd.DataFrame\n",
    "dataset = pd.DataFrame(dataset, columns=[\"img_path\", \"label\"], index=None)\n",
    "\n",
    "# Перемешаем dataset\n",
    "dataset = dataset.sample(frac=1.).reset_index(drop=True)\n"
   ]
  },
  {
   "cell_type": "markdown",
   "metadata": {},
   "source": [
    "### 1.2. Проведем анализ данных"
   ]
  },
  {
   "cell_type": "code",
   "execution_count": 3,
   "metadata": {},
   "outputs": [
    {
     "name": "stdout",
     "output_type": "stream",
     "text": [
      "Количество найденных рисунков:  237\n",
      "Количество уникальных символов в dataset:  20\n",
      "Максимальная длина капчи:  5\n",
      "Имеющиеся символы:  ['2', '4', '5', '6', '7', '8', '9', 'б', 'в', 'г', 'д', 'ж', 'к', 'л', 'м', 'н', 'п', 'р', 'с', 'т']\n"
     ]
    },
    {
     "data": {
      "text/html": [
       "<div>\n",
       "<style scoped>\n",
       "    .dataframe tbody tr th:only-of-type {\n",
       "        vertical-align: middle;\n",
       "    }\n",
       "\n",
       "    .dataframe tbody tr th {\n",
       "        vertical-align: top;\n",
       "    }\n",
       "\n",
       "    .dataframe thead th {\n",
       "        text-align: right;\n",
       "    }\n",
       "</style>\n",
       "<table border=\"1\" class=\"dataframe\">\n",
       "  <thead>\n",
       "    <tr style=\"text-align: right;\">\n",
       "      <th></th>\n",
       "      <th>img_path</th>\n",
       "      <th>label</th>\n",
       "    </tr>\n",
       "  </thead>\n",
       "  <tbody>\n",
       "    <tr>\n",
       "      <th>0</th>\n",
       "      <td>data\\п4гн2.jpg</td>\n",
       "      <td>п4гн2</td>\n",
       "    </tr>\n",
       "    <tr>\n",
       "      <th>1</th>\n",
       "      <td>data\\дннв5.jpg</td>\n",
       "      <td>дннв5</td>\n",
       "    </tr>\n",
       "    <tr>\n",
       "      <th>2</th>\n",
       "      <td>data\\д5999.jpg</td>\n",
       "      <td>д5999</td>\n",
       "    </tr>\n",
       "    <tr>\n",
       "      <th>3</th>\n",
       "      <td>data\\пгкпб.jpg</td>\n",
       "      <td>пгкпб</td>\n",
       "    </tr>\n",
       "    <tr>\n",
       "      <th>4</th>\n",
       "      <td>data\\л7466.jpg</td>\n",
       "      <td>л7466</td>\n",
       "    </tr>\n",
       "  </tbody>\n",
       "</table>\n",
       "</div>"
      ],
      "text/plain": [
       "         img_path  label\n",
       "0  data\\п4гн2.jpg  п4гн2\n",
       "1  data\\дннв5.jpg  дннв5\n",
       "2  data\\д5999.jpg  д5999\n",
       "3  data\\пгкпб.jpg  пгкпб\n",
       "4  data\\л7466.jpg  л7466"
      ]
     },
     "execution_count": 3,
     "metadata": {},
     "output_type": "execute_result"
    }
   ],
   "source": [
    "print(\"Количество найденных рисунков: \", len(images))\n",
    "print(\"Количество уникальных символов в dataset: \", len(characters))\n",
    "print(\"Максимальная длина капчи: \", max(Counter(captcha_length).keys()))\n",
    "print(\"Имеющиеся символы: \", characters)\n",
    "dataset.head()"
   ]
  },
  {
   "cell_type": "code",
   "execution_count": 4,
   "metadata": {
    "_cell_guid": "79c7e3d0-c299-4dcb-8224-4455121ee9b0",
    "_uuid": "d629ff2d2480ee46fbb7e2d37f6b5fab8052498a"
   },
   "outputs": [
    {
     "name": "stdout",
     "output_type": "stream",
     "text": [
      "Размер рисунка:  (60, 200, 3)\n",
      "Размер рисунка:  (60, 200, 3)\n",
      "Размер рисунка:  (60, 200, 3)\n",
      "Размер рисунка:  (60, 200, 3)\n"
     ]
    },
    {
     "data": {
      "image/png": "[encoded data removed]",
      "text/plain": [
       "<Figure size 360x216 with 4 Axes>"
      ]
     },
     "metadata": {
      "needs_background": "light"
     },
     "output_type": "display_data"
    }
   ],
   "source": [
    "# Выведем несколько капч\n",
    "sample_images = images[:4]\n",
    "\n",
    "_,ax = plt.subplots(2,2, figsize=(5,3))\n",
    "for i in range(4):\n",
    "    #img = cv2.imread(str(sample_images[i]))\n",
    "    img = cv2.imdecode(np.fromfile(sample_images[i], dtype=np.uint8), cv2.IMREAD_COLOR)\n",
    "    print(\"Размер рисунка: \", img.shape)\n",
    "    ax[i//2, i%2].imshow(img)\n",
    "    ax[i//2, i%2].axis('off')\n",
    "plt.show()"
   ]
  },
  {
   "cell_type": "code",
   "execution_count": 5,
   "metadata": {},
   "outputs": [
    {
     "data": {
      "text/plain": [
       "<BarContainer object of 20 artists>"
      ]
     },
     "execution_count": 5,
     "metadata": {},
     "output_type": "execute_result"
    },
    {
     "data": {
      "image/png": "[encoded data removed]",
      "text/plain": [
       "<Figure size 432x288 with 1 Axes>"
      ]
     },
     "metadata": {
      "needs_background": "light"
     },
     "output_type": "display_data"
    }
   ],
   "source": [
    "# Посмотрим на количественное распределение символов\n",
    "cnt = Counter(characters_count)\n",
    "plt.bar(cnt.keys(), cnt.values())"
   ]
  },
  {
   "cell_type": "markdown",
   "metadata": {},
   "source": [
    "## 2. Подготовка данных для обучения"
   ]
  },
  {
   "cell_type": "markdown",
   "metadata": {},
   "source": [
    "### 2.1. Разделим dataset на тренировочную и валидационную выборки"
   ]
  },
  {
   "cell_type": "code",
   "execution_count": 6,
   "metadata": {},
   "outputs": [],
   "source": [
    "training_data, validation_data = train_test_split(dataset, test_size=0.2, random_state=seed)\n",
    "\n",
    "training_data = training_data.reset_index(drop=True)\n",
    "validation_data = validation_data.reset_index(drop=True)\n"
   ]
  },
  {
   "cell_type": "markdown",
   "metadata": {},
   "source": [
    "### 2.2. Функции для работы с данными"
   ]
  },
  {
   "cell_type": "code",
   "execution_count": 9,
   "metadata": {},
   "outputs": [],
   "source": [
    "# Получим индексы символов по их месту в списке\n",
    "char_to_labels = {char:idx for idx, char in enumerate(characters)}\n",
    "\n",
    "# Получим символы по их индексам в списке\n",
    "labels_to_char = {val:key for key, val in char_to_labels.items()}\n",
    "\n",
    "\n",
    "# Проверка символов в названиях капч по проверочным символам \n",
    "def is_valid_captcha(captcha):\n",
    "    for ch in captcha:\n",
    "        if not ch in characters:\n",
    "            return False\n",
    "    return True\n",
    "\n",
    "\n",
    "\n",
    "# Сохраняем массивы в памяти, так как это не очень большой набор данных\n",
    "def generate_arrays(df, resize=True, img_height=60, img_width=200):\n",
    "    \"\"\"Создает массив изображений и массив меток из dataframe\n",
    "    \n",
    "    Args:\n",
    "        df: dataframe из которого мы хотим прочитать данные\n",
    "        resize (bool)    : изменять размер изображений или нет\n",
    "        img_weidth (int): ширина изображений с измененным размером\n",
    "        img_height (int): высота изображений с измененным размером\n",
    "        \n",
    "    Returns:\n",
    "        images (ndarray): изображения в оттенках серого\n",
    "        labels (ndarray): соответствующие закодированные метки\n",
    "    \"\"\"\n",
    "    \n",
    "    num_items = len(df)\n",
    "    images = np.zeros((num_items, img_height, img_width), dtype=np.float32)\n",
    "    labels = [0]*num_items\n",
    "    \n",
    "    for i in range(num_items):\n",
    "        #img = cv2.imread(df[\"img_path\"][i])\n",
    "        img =cv2.imdecode(np.fromfile(df[\"img_path\"][i], dtype=np.uint8), cv2.IMREAD_COLOR)\n",
    "        img = cv2.cvtColor(img, cv2.COLOR_BGR2GRAY)\n",
    "        \n",
    "        if resize: \n",
    "            img = cv2.resize(img, (img_width, img_height))\n",
    "        \n",
    "        img = (img/255.).astype(np.float32)\n",
    "        label = df[\"label\"][i]\n",
    "        \n",
    "        # Включим данные только в том случае, если капча действительна\n",
    "        if is_valid_captcha(label):\n",
    "            images[i, :, :] = img\n",
    "            labels[i] = label\n",
    "    \n",
    "    return images, np.array(labels)\n",
    "\n",
    "class DataGenerator(keras.utils.Sequence):\n",
    "    \"\"\"Создает пакеты из заданного dataset.\n",
    "    \n",
    "    Args:\n",
    "        data: training или validation data\n",
    "        labels: соответствующие метки\n",
    "        char_map: сопоставление символов словаря с метками\n",
    "        batch_size: размер одной партии\n",
    "        img_width: ширина изображений с измененным размером\n",
    "        img_height: высота изображений с измененным размером\n",
    "        downsample_factor: по какому фактору CNN снизила качество изображений\n",
    "        max_length: максимальная длина любой капчи\n",
    "        shuffle: следует ли перетасовывать данные или нет после каждой эпохи\n",
    "    Returns:\n",
    "        batch_inputs: словарь, содержащий пакетные входные данные\n",
    "        batch_labels: пакет соответствующих меток\n",
    "    \"\"\"\n",
    "    \n",
    "    def __init__(self,\n",
    "                 data,\n",
    "                 labels,\n",
    "                 char_map,\n",
    "                 batch_size=16,\n",
    "                 img_width=200,\n",
    "                 img_height=60,\n",
    "                 downsample_factor=4,\n",
    "                 max_length=5,\n",
    "                 shuffle=True\n",
    "                ):\n",
    "        self.data = data\n",
    "        self.labels = labels\n",
    "        self.char_map = char_map\n",
    "        self.batch_size = batch_size\n",
    "        self.img_width = img_width\n",
    "        self.img_height = img_height\n",
    "        self.downsample_factor = downsample_factor\n",
    "        self.max_length = max_length\n",
    "        self.shuffle = shuffle\n",
    "        self.indices = np.arange(len(data))    \n",
    "        self.on_epoch_end()\n",
    "        \n",
    "    def __len__(self):\n",
    "        return int(np.ceil(len(self.data) / self.batch_size))\n",
    "    \n",
    "    def __getitem__(self, idx):\n",
    "        # 1. Получим индексы следующей партии\n",
    "        curr_batch_idx = self.indices[idx*self.batch_size:(idx+1)*self.batch_size]\n",
    "        \n",
    "        # 2. В этом нет необходимости, но это может помочь нам сэкономить немного памяти,\n",
    "        # так как не во всех пакетах в последнем пакете могут отсутствовать элементы\n",
    "        # равные размеру пакета\n",
    "        batch_len = len(curr_batch_idx)\n",
    "        \n",
    "        # 3. Создание экземпляров пакетных массивов\n",
    "        batch_images = np.ones((batch_len, self.img_width, self.img_height, 1),\n",
    "                               dtype=np.float32)\n",
    "        batch_labels = np.ones((batch_len, self.max_length), dtype=np.float32)\n",
    "        input_length = np.ones((batch_len, 1), dtype=np.int64) * \\\n",
    "                                (self.img_width // self.downsample_factor - 2) #48\n",
    "        label_length = np.zeros((batch_len, 1), dtype=np.int64)\n",
    "        \n",
    "        \n",
    "        for j, idx in enumerate(curr_batch_idx):\n",
    "            # 1. Получим изображение и транспонируйте его\n",
    "            img = self.data[idx].T\n",
    "            # 2. Добавим дополнительное измерение\n",
    "            img = np.expand_dims(img, axis=-1)\n",
    "            # 3. Получите соответствующую метку\n",
    "            text = self.labels[idx]\n",
    "            \n",
    "            # 4. Включим пару только в том случае, если капча действительна\n",
    "            if is_valid_captcha(text):\n",
    "                label = [self.char_map[ch] for ch in text]\n",
    "                batch_images[j] = img\n",
    "                batch_labels[j] = label\n",
    "                label_length[j] = len(text)\n",
    "        \n",
    "        batch_inputs = {\n",
    "                'input_data': batch_images,\n",
    "                'input_label': batch_labels,\n",
    "                'input_length': input_length,\n",
    "                'label_length': label_length,\n",
    "                }\n",
    "        return batch_inputs, np.zeros(batch_len).astype(np.float32)\n",
    "        \n",
    "    \n",
    "    def on_epoch_end(self):\n",
    "        if self.shuffle:\n",
    "            np.random.shuffle(self.indices)"
   ]
  },
  {
   "cell_type": "code",
   "execution_count": 10,
   "metadata": {},
   "outputs": [
    {
     "name": "stdout",
     "output_type": "stream",
     "text": [
      "Количество тренировочных изображений:  (189, 60, 200)\n",
      "Количество тренировочных меток:  (189,)\n",
      "Количество валидационных изображений:  (48, 60, 200)\n",
      "Количество валидационных меток:  (48,)\n"
     ]
    }
   ],
   "source": [
    "\n",
    "# Построим тренировочные данные\n",
    "training_data, training_labels = generate_arrays(df=training_data)\n",
    "print(\"Количество тренировочных изображений: \", training_data.shape)\n",
    "print(\"Количество тренировочных меток: \", training_labels.shape)\n",
    "\n",
    "# Построим валидационные данные\n",
    "validation_data, validation_labels = generate_arrays(df=validation_data)\n",
    "print(\"Количество валидационных изображений: \", validation_data.shape)\n",
    "print(\"Количество валидационных меток: \", validation_labels.shape)\n"
   ]
  },
  {
   "cell_type": "code",
   "execution_count": 11,
   "metadata": {},
   "outputs": [],
   "source": [
    "# Размер пакета для training и validation\n",
    "batch_size = 16\n",
    "\n",
    "# Желаемые размеры изображения\n",
    "img_width=200\n",
    "img_height=60 \n",
    "\n",
    "#Коэффициент, на который изображение будет уменьшено с\n",
    "# помощью сверточных блоков\n",
    "downsample_factor=4\n",
    "\n",
    "# Максимальная длина любой капчи в данных\n",
    "max_length=5\n",
    "\n",
    "# Получим объект-генератор для training data\n",
    "train_data_generator = DataGenerator(data=training_data,\n",
    "                                     labels=training_labels,\n",
    "                                     char_map=char_to_labels,\n",
    "                                     batch_size=batch_size,\n",
    "                                     img_width=img_width,\n",
    "                                     img_height=img_height,\n",
    "                                     downsample_factor=downsample_factor,\n",
    "                                     max_length=max_length,\n",
    "                                     shuffle=True\n",
    "                                    )\n",
    "\n",
    "# Получим объект-генератор для validation data \n",
    "valid_data_generator = DataGenerator(data=validation_data,\n",
    "                                     labels=validation_labels,\n",
    "                                     char_map=char_to_labels,\n",
    "                                     batch_size=batch_size,\n",
    "                                     img_width=img_width,\n",
    "                                     img_height=img_height,\n",
    "                                     downsample_factor=downsample_factor,\n",
    "                                     max_length=max_length,\n",
    "                                     shuffle=False\n",
    "                                    )\n"
   ]
  },
  {
   "cell_type": "markdown",
   "metadata": {},
   "source": [
    "## 3. Установка параметров модели"
   ]
  },
  {
   "cell_type": "markdown",
   "metadata": {},
   "source": [
    "### 3.1. Добавим Connectionist Temporal Classification слой, который будет возвращать loss для последовательности предсказываемых симоволов"
   ]
  },
  {
   "cell_type": "code",
   "execution_count": 12,
   "metadata": {},
   "outputs": [],
   "source": [
    "class CTCLayer(layers.Layer):\n",
    "    def __init__(self, name=None):\n",
    "        super().__init__(name=name)\n",
    "        self.loss_fn = keras.backend.ctc_batch_cost\n",
    "\n",
    "    def call(self, y_true, y_pred, input_length, label_length):\n",
    "        # Вычислим значение training-time loss и добавьте его\n",
    "        # в слой с помощью `self.add_loss()`.\n",
    "        loss = self.loss_fn(y_true, y_pred, input_length, label_length)\n",
    "        self.add_loss(loss)\n",
    "        \n",
    "        # Во время тестирования возвращает вычисленный loss\n",
    "        return loss\n"
   ]
  },
  {
   "cell_type": "markdown",
   "metadata": {},
   "source": [
    "### 3.2. Добавим необходимые слои нейронной сети"
   ]
  },
  {
   "cell_type": "code",
   "execution_count": 13,
   "metadata": {},
   "outputs": [],
   "source": [
    "\n",
    "def build_model():\n",
    "    # Входные данные для модели\n",
    "    input_img = layers.Input(shape=(img_width, img_height, 1), name='input_data', dtype='float32')\n",
    "    labels = layers.Input(name='input_label', shape=[max_length], dtype='float32')\n",
    "    input_length = layers.Input(name='input_length', shape=[1], dtype='int64')\n",
    "    label_length = layers.Input(name='label_length', shape=[1], dtype='int64')\n",
    "    \n",
    "    # Первый conv block\n",
    "    x = layers.Conv2D(32, (3,3), activation='relu', kernel_initializer='he_normal',\n",
    "                       padding='same', name='Conv1')(input_img)\n",
    "    x = layers.MaxPooling2D((2,2), name='pool1')(x)\n",
    "    \n",
    "    # Второй conv block\n",
    "    x = layers.Conv2D(64, (3,3), activation='relu', kernel_initializer='he_normal',\n",
    "                       padding='same', name='Conv2')(x)\n",
    "    x = layers.MaxPooling2D((2,2), name='pool2')(x)\n",
    "    \n",
    "    # Мы использовали два max pool с pool size и strides равным 2.\n",
    "    # Следовательно, downsampled выборка в 4 раза меньше.\n",
    "    # Количество фильтров в последнем слое равно 64. \n",
    "    # Изменим форму соответствующим образом, прежде чем передавать ее в RNNs\n",
    "    new_shape = ((img_width // 4), (img_height // 4)*64)\n",
    "    x = layers.Reshape(target_shape=new_shape, name='reshape')(x)\n",
    "    x = layers.Dense(64, activation='relu', name='dense1')(x)\n",
    "    x = layers.Dropout(0.2)(x)\n",
    "    \n",
    "    # RNNs\n",
    "    x = layers.Bidirectional(layers.LSTM(128, return_sequences=True, dropout=0.2))(x)\n",
    "    x = layers.Bidirectional(layers.LSTM(64, return_sequences=True, dropout=0.25))(x)\n",
    "    \n",
    "    # Predictions\n",
    "    x = layers.Dense(len(characters)+1, activation='softmax', name='dense2',\n",
    "                      kernel_initializer='he_normal')(x)\n",
    "    \n",
    "    # Вычислим CTC\n",
    "    output = CTCLayer(name='ctc_loss')(labels, x, input_length, label_length)\n",
    "    \n",
    "    # Определим модель\n",
    "    model = keras.models.Model(inputs=[input_img, labels, input_length, label_length],\n",
    "                                outputs=output, name='ocr_model_v1')\n",
    "    \n",
    "    # Оптимизатор\n",
    "    adam = keras.optimizers.Adam(clipnorm=5)\n",
    "    \n",
    "    # Компилируем модель \n",
    "    model.compile(optimizer=adam)\n",
    "    return model"
   ]
  },
  {
   "cell_type": "code",
   "execution_count": 15,
   "metadata": {},
   "outputs": [
    {
     "name": "stdout",
     "output_type": "stream",
     "text": [
      "Model: \"ocr_model_v1\"\n",
      "__________________________________________________________________________________________________\n",
      "Layer (type)                    Output Shape         Param #     Connected to                     \n",
      "==================================================================================================\n",
      "input_data (InputLayer)         [(None, 200, 60, 1)] 0                                            \n",
      "__________________________________________________________________________________________________\n",
      "Conv1 (Conv2D)                  (None, 200, 60, 32)  320         input_data[0][0]                 \n",
      "__________________________________________________________________________________________________\n",
      "pool1 (MaxPooling2D)            (None, 100, 30, 32)  0           Conv1[0][0]                      \n",
      "__________________________________________________________________________________________________\n",
      "Conv2 (Conv2D)                  (None, 100, 30, 64)  18496       pool1[0][0]                      \n",
      "__________________________________________________________________________________________________\n",
      "pool2 (MaxPooling2D)            (None, 50, 15, 64)   0           Conv2[0][0]                      \n",
      "__________________________________________________________________________________________________\n",
      "reshape (Reshape)               (None, 50, 960)      0           pool2[0][0]                      \n",
      "__________________________________________________________________________________________________\n",
      "dense1 (Dense)                  (None, 50, 64)       61504       reshape[0][0]                    \n",
      "__________________________________________________________________________________________________\n",
      "dropout (Dropout)               (None, 50, 64)       0           dense1[0][0]                     \n",
      "__________________________________________________________________________________________________\n",
      "bidirectional (Bidirectional)   (None, 50, 256)      197632      dropout[0][0]                    \n",
      "__________________________________________________________________________________________________\n",
      "bidirectional_1 (Bidirectional) (None, 50, 128)      164352      bidirectional[0][0]              \n",
      "__________________________________________________________________________________________________\n",
      "input_label (InputLayer)        [(None, 5)]          0                                            \n",
      "__________________________________________________________________________________________________\n",
      "dense2 (Dense)                  (None, 50, 21)       2709        bidirectional_1[0][0]            \n",
      "__________________________________________________________________________________________________\n",
      "input_length (InputLayer)       [(None, 1)]          0                                            \n",
      "__________________________________________________________________________________________________\n",
      "label_length (InputLayer)       [(None, 1)]          0                                            \n",
      "__________________________________________________________________________________________________\n",
      "ctc_loss (CTCLayer)             (None, 1)            0           input_label[0][0]                \n",
      "                                                                 dense2[0][0]                     \n",
      "                                                                 input_length[0][0]               \n",
      "                                                                 label_length[0][0]               \n",
      "==================================================================================================\n",
      "Total params: 445,013\n",
      "Trainable params: 445,013\n",
      "Non-trainable params: 0\n",
      "__________________________________________________________________________________________________\n"
     ]
    }
   ],
   "source": [
    "model = build_model()\n",
    "model.summary()"
   ]
  },
  {
   "cell_type": "markdown",
   "metadata": {},
   "source": [
    "## 4. Обучаем модель"
   ]
  },
  {
   "cell_type": "markdown",
   "metadata": {},
   "source": [
    "### 4.1. обучим на 200 эпохах"
   ]
  },
  {
   "cell_type": "code",
   "execution_count": 63,
   "metadata": {},
   "outputs": [
    {
     "name": "stdout",
     "output_type": "stream",
     "text": [
      "Epoch 1/200\n",
      "12/12 [==============================] - 6s 468ms/step - loss: 0.0117 - val_loss: 0.0404\n",
      "Epoch 2/200\n",
      "12/12 [==============================] - 6s 478ms/step - loss: 0.0064 - val_loss: 0.0037\n",
      "Epoch 3/200\n",
      "12/12 [==============================] - 6s 462ms/step - loss: 0.0121 - val_loss: 0.0074\n",
      "Epoch 4/200\n",
      "12/12 [==============================] - 6s 507ms/step - loss: 0.0156 - val_loss: 0.0114\n",
      "Epoch 5/200\n",
      "12/12 [==============================] - 6s 511ms/step - loss: 0.0636 - val_loss: 0.0098\n",
      "Epoch 6/200\n",
      "12/12 [==============================] - 6s 495ms/step - loss: 0.0146 - val_loss: 0.0424\n",
      "Epoch 7/200\n",
      "12/12 [==============================] - 6s 522ms/step - loss: 0.0086 - val_loss: 0.0048\n",
      "Epoch 8/200\n",
      "12/12 [==============================] - 6s 532ms/step - loss: 0.0108 - val_loss: 0.0131\n",
      "Epoch 9/200\n",
      "12/12 [==============================] - 6s 542ms/step - loss: 0.0096 - val_loss: 0.0033\n",
      "Epoch 10/200\n",
      "12/12 [==============================] - 6s 494ms/step - loss: 0.0165 - val_loss: 0.0047\n",
      "Epoch 11/200\n",
      "12/12 [==============================] - 6s 485ms/step - loss: 0.0547 - val_loss: 0.0026\n",
      "Epoch 12/200\n",
      "12/12 [==============================] - 6s 472ms/step - loss: 0.0115 - val_loss: 0.0154\n",
      "Epoch 13/200\n",
      "12/12 [==============================] - 6s 470ms/step - loss: 0.0102 - val_loss: 0.0075\n",
      "Epoch 14/200\n",
      "12/12 [==============================] - 6s 504ms/step - loss: 0.0109 - val_loss: 0.0021\n",
      "Epoch 15/200\n",
      "12/12 [==============================] - 6s 492ms/step - loss: 0.0049 - val_loss: 0.0037\n",
      "Epoch 16/200\n",
      "12/12 [==============================] - 6s 474ms/step - loss: 0.0052 - val_loss: 0.1136\n",
      "Epoch 17/200\n",
      "12/12 [==============================] - 6s 461ms/step - loss: 0.0156 - val_loss: 0.0028\n",
      "Epoch 18/200\n",
      "12/12 [==============================] - 6s 482ms/step - loss: 0.0395 - val_loss: 0.0063\n",
      "Epoch 19/200\n",
      "12/12 [==============================] - 6s 476ms/step - loss: 0.0260 - val_loss: 0.0074\n",
      "Epoch 20/200\n",
      "12/12 [==============================] - 6s 476ms/step - loss: 0.0095 - val_loss: 0.0161\n",
      "Epoch 21/200\n",
      "12/12 [==============================] - 5s 460ms/step - loss: 0.0111 - val_loss: 0.0202\n",
      "Epoch 22/200\n",
      "12/12 [==============================] - 5s 457ms/step - loss: 0.0077 - val_loss: 0.0065\n",
      "Epoch 23/200\n",
      "12/12 [==============================] - 5s 455ms/step - loss: 0.0227 - val_loss: 0.0061\n",
      "Epoch 24/200\n",
      "12/12 [==============================] - 5s 459ms/step - loss: 0.0097 - val_loss: 0.0351\n",
      "Epoch 25/200\n",
      "12/12 [==============================] - 6s 482ms/step - loss: 0.0350 - val_loss: 0.0029\n",
      "Epoch 26/200\n",
      "12/12 [==============================] - 6s 499ms/step - loss: 0.0336 - val_loss: 0.0038\n",
      "Epoch 27/200\n",
      "12/12 [==============================] - 6s 498ms/step - loss: 0.0079 - val_loss: 0.0030\n",
      "Epoch 28/200\n",
      "12/12 [==============================] - 6s 524ms/step - loss: 0.0053 - val_loss: 0.0024\n",
      "Epoch 29/200\n",
      "12/12 [==============================] - 6s 478ms/step - loss: 0.0073 - val_loss: 0.0022\n",
      "Epoch 30/200\n",
      "12/12 [==============================] - 6s 500ms/step - loss: 0.0327 - val_loss: 0.0075\n",
      "Epoch 31/200\n",
      "12/12 [==============================] - 6s 472ms/step - loss: 0.0157 - val_loss: 0.0234\n",
      "Epoch 32/200\n",
      "12/12 [==============================] - 5s 456ms/step - loss: 0.0176 - val_loss: 0.0025\n",
      "Epoch 33/200\n",
      "12/12 [==============================] - 5s 454ms/step - loss: 0.0043 - val_loss: 0.0037\n",
      "Epoch 34/200\n",
      "12/12 [==============================] - 6s 470ms/step - loss: 0.0059 - val_loss: 0.0021\n",
      "Epoch 35/200\n",
      "12/12 [==============================] - 6s 494ms/step - loss: 0.0082 - val_loss: 0.0043\n",
      "Epoch 36/200\n",
      "12/12 [==============================] - 6s 524ms/step - loss: 0.0040 - val_loss: 0.0671\n",
      "Epoch 37/200\n",
      "12/12 [==============================] - 6s 535ms/step - loss: 0.0040 - val_loss: 0.0604\n",
      "Epoch 38/200\n",
      "12/12 [==============================] - 6s 482ms/step - loss: 0.0108 - val_loss: 0.0307\n",
      "Epoch 39/200\n",
      "12/12 [==============================] - 6s 470ms/step - loss: 0.0068 - val_loss: 0.0043\n",
      "Epoch 40/200\n",
      "12/12 [==============================] - 6s 482ms/step - loss: 0.0058 - val_loss: 0.0037\n",
      "Epoch 41/200\n",
      "12/12 [==============================] - 6s 494ms/step - loss: 0.0066 - val_loss: 0.0037\n",
      "Epoch 42/200\n",
      "12/12 [==============================] - 6s 491ms/step - loss: 0.0128 - val_loss: 0.0974\n",
      "Epoch 43/200\n",
      "12/12 [==============================] - 6s 497ms/step - loss: 0.0168 - val_loss: 0.0026\n",
      "Epoch 44/200\n",
      "12/12 [==============================] - 6s 487ms/step - loss: 0.0287 - val_loss: 0.0072\n",
      "Epoch 45/200\n",
      "12/12 [==============================] - 6s 498ms/step - loss: 0.0085 - val_loss: 0.0433\n",
      "Epoch 46/200\n",
      "12/12 [==============================] - 6s 475ms/step - loss: 0.0453 - val_loss: 0.0416\n",
      "Epoch 47/200\n",
      "12/12 [==============================] - 6s 462ms/step - loss: 0.0077 - val_loss: 0.0081\n",
      "Epoch 48/200\n",
      "12/12 [==============================] - 6s 494ms/step - loss: 0.0063 - val_loss: 0.0594\n",
      "Epoch 49/200\n",
      "12/12 [==============================] - 6s 499ms/step - loss: 0.0116 - val_loss: 0.0018\n",
      "Epoch 50/200\n",
      "12/12 [==============================] - 6s 498ms/step - loss: 0.0199 - val_loss: 0.0316\n",
      "Epoch 51/200\n",
      "12/12 [==============================] - 6s 484ms/step - loss: 0.0576 - val_loss: 0.0108\n",
      "Epoch 52/200\n",
      "12/12 [==============================] - 5s 461ms/step - loss: 0.0088 - val_loss: 0.0018\n",
      "Epoch 53/200\n",
      "12/12 [==============================] - 6s 476ms/step - loss: 0.0418 - val_loss: 0.0021\n",
      "Epoch 54/200\n",
      "12/12 [==============================] - 6s 502ms/step - loss: 0.0043 - val_loss: 0.0033\n",
      "Epoch 55/200\n",
      "12/12 [==============================] - 6s 504ms/step - loss: 0.0055 - val_loss: 0.0034\n",
      "Epoch 56/200\n",
      "12/12 [==============================] - 6s 487ms/step - loss: 0.0052 - val_loss: 0.0019\n",
      "Epoch 57/200\n",
      "12/12 [==============================] - 6s 491ms/step - loss: 0.0033 - val_loss: 0.0014\n",
      "Epoch 58/200\n",
      "12/12 [==============================] - 6s 474ms/step - loss: 0.0060 - val_loss: 0.0012\n",
      "Epoch 59/200\n",
      "12/12 [==============================] - 6s 481ms/step - loss: 0.0030 - val_loss: 0.0016\n",
      "Epoch 60/200\n",
      "12/12 [==============================] - 6s 479ms/step - loss: 0.0057 - val_loss: 0.0100\n",
      "Epoch 61/200\n",
      "12/12 [==============================] - 6s 465ms/step - loss: 0.0122 - val_loss: 0.0017\n",
      "Epoch 62/200\n",
      "12/12 [==============================] - 5s 455ms/step - loss: 0.0023 - val_loss: 0.0027\n",
      "Epoch 63/200\n",
      "12/12 [==============================] - 6s 471ms/step - loss: 0.0021 - val_loss: 0.0018\n",
      "Epoch 64/200\n",
      "12/12 [==============================] - 6s 503ms/step - loss: 0.0040 - val_loss: 0.0015\n",
      "Epoch 65/200\n",
      "12/12 [==============================] - 6s 492ms/step - loss: 0.0034 - val_loss: 0.0013\n",
      "Epoch 66/200\n",
      "12/12 [==============================] - 6s 533ms/step - loss: 0.0030 - val_loss: 0.0013\n",
      "Epoch 67/200\n",
      "12/12 [==============================] - 6s 500ms/step - loss: 0.0023 - val_loss: 0.0018\n",
      "Epoch 68/200\n",
      "12/12 [==============================] - 6s 511ms/step - loss: 0.0036 - val_loss: 0.0026\n",
      "Epoch 69/200\n",
      "12/12 [==============================] - 6s 529ms/step - loss: 0.0029 - val_loss: 0.0016\n",
      "Epoch 70/200\n",
      "12/12 [==============================] - 6s 499ms/step - loss: 0.0023 - val_loss: 0.0014\n",
      "Epoch 71/200\n",
      "12/12 [==============================] - 6s 546ms/step - loss: 0.0050 - val_loss: 0.0508\n",
      "Epoch 72/200\n",
      "12/12 [==============================] - 6s 510ms/step - loss: 0.0041 - val_loss: 0.0047\n",
      "Epoch 73/200\n",
      "12/12 [==============================] - 6s 463ms/step - loss: 0.0025 - val_loss: 0.0016\n",
      "Epoch 74/200\n",
      "12/12 [==============================] - 6s 472ms/step - loss: 0.0015 - val_loss: 8.2065e-04\n",
      "Epoch 75/200\n",
      "12/12 [==============================] - 6s 467ms/step - loss: 0.0016 - val_loss: 7.2619e-04\n",
      "Epoch 76/200\n",
      "12/12 [==============================] - 6s 463ms/step - loss: 0.0017 - val_loss: 6.7717e-04\n",
      "Epoch 77/200\n",
      "12/12 [==============================] - 6s 467ms/step - loss: 0.0015 - val_loss: 6.8518e-04\n",
      "Epoch 78/200\n",
      "12/12 [==============================] - 6s 472ms/step - loss: 0.0145 - val_loss: 8.5844e-04\n",
      "Epoch 79/200\n",
      "12/12 [==============================] - 5s 456ms/step - loss: 0.0017 - val_loss: 7.1455e-04\n",
      "Epoch 80/200\n",
      "12/12 [==============================] - 5s 449ms/step - loss: 0.0019 - val_loss: 6.6734e-04\n",
      "Epoch 81/200\n",
      "12/12 [==============================] - 5s 455ms/step - loss: 0.0017 - val_loss: 8.2854e-04\n",
      "Epoch 82/200\n",
      "12/12 [==============================] - 6s 473ms/step - loss: 0.0014 - val_loss: 6.8537e-04\n",
      "Epoch 83/200\n",
      "12/12 [==============================] - 6s 480ms/step - loss: 0.0047 - val_loss: 0.0016\n",
      "Epoch 84/200\n",
      "12/12 [==============================] - 6s 521ms/step - loss: 0.0022 - val_loss: 7.3226e-04\n",
      "Epoch 85/200\n",
      "12/12 [==============================] - 6s 503ms/step - loss: 0.0039 - val_loss: 9.5987e-04\n",
      "Epoch 86/200\n",
      "12/12 [==============================] - 6s 501ms/step - loss: 0.0015 - val_loss: 0.0116\n",
      "Epoch 87/200\n",
      "12/12 [==============================] - 6s 473ms/step - loss: 0.0020 - val_loss: 0.0014\n",
      "Epoch 88/200\n",
      "12/12 [==============================] - 5s 457ms/step - loss: 0.0017 - val_loss: 8.7631e-04\n",
      "Epoch 89/200\n",
      "12/12 [==============================] - 5s 456ms/step - loss: 0.0034 - val_loss: 7.7291e-04\n",
      "Epoch 90/200\n",
      "12/12 [==============================] - 6s 501ms/step - loss: 0.0026 - val_loss: 0.0019\n",
      "Epoch 91/200\n",
      "12/12 [==============================] - 6s 506ms/step - loss: 0.0021 - val_loss: 0.0015\n",
      "Epoch 92/200\n",
      "12/12 [==============================] - 6s 542ms/step - loss: 0.0019 - val_loss: 0.0014\n",
      "Epoch 93/200\n",
      "12/12 [==============================] - 6s 497ms/step - loss: 0.0012 - val_loss: 7.7900e-04\n",
      "Epoch 94/200\n",
      "12/12 [==============================] - 5s 453ms/step - loss: 0.0011 - val_loss: 7.9595e-04\n",
      "Epoch 95/200\n",
      "12/12 [==============================] - 5s 454ms/step - loss: 0.0016 - val_loss: 7.2208e-04\n",
      "Epoch 96/200\n",
      "12/12 [==============================] - 6s 467ms/step - loss: 0.0010 - val_loss: 7.0995e-04\n",
      "Epoch 97/200\n",
      "12/12 [==============================] - 6s 467ms/step - loss: 0.0012 - val_loss: 6.8338e-04\n",
      "Epoch 98/200\n",
      "12/12 [==============================] - 6s 482ms/step - loss: 0.0011 - val_loss: 6.1394e-04\n",
      "Epoch 99/200\n",
      "12/12 [==============================] - 6s 468ms/step - loss: 0.0026 - val_loss: 6.7826e-04\n",
      "Epoch 100/200\n",
      "12/12 [==============================] - 6s 492ms/step - loss: 0.0012 - val_loss: 7.0127e-04\n",
      "Epoch 101/200\n",
      "12/12 [==============================] - 6s 514ms/step - loss: 0.0193 - val_loss: 0.0086\n",
      "Epoch 102/200\n",
      "12/12 [==============================] - 6s 498ms/step - loss: 0.0027 - val_loss: 0.0012\n",
      "Epoch 103/200\n",
      "12/12 [==============================] - 6s 496ms/step - loss: 0.0111 - val_loss: 0.0013\n",
      "Epoch 104/200\n",
      "12/12 [==============================] - 6s 485ms/step - loss: 0.0292 - val_loss: 0.0485\n",
      "Epoch 105/200\n",
      "12/12 [==============================] - 6s 493ms/step - loss: 0.0141 - val_loss: 0.0020\n",
      "Epoch 106/200\n",
      "12/12 [==============================] - 6s 506ms/step - loss: 0.0060 - val_loss: 0.0469\n",
      "Epoch 107/200\n",
      "12/12 [==============================] - 6s 482ms/step - loss: 0.0219 - val_loss: 0.0013\n",
      "Epoch 108/200\n",
      "12/12 [==============================] - 6s 467ms/step - loss: 0.0073 - val_loss: 0.0025\n",
      "Epoch 109/200\n",
      "12/12 [==============================] - 6s 504ms/step - loss: 0.0137 - val_loss: 0.0072\n",
      "Epoch 110/200\n",
      "12/12 [==============================] - 6s 480ms/step - loss: 0.0124 - val_loss: 9.0572e-04\n",
      "Epoch 111/200\n",
      "12/12 [==============================] - 6s 508ms/step - loss: 0.0044 - val_loss: 0.0022\n",
      "Epoch 112/200\n",
      "12/12 [==============================] - 6s 513ms/step - loss: 0.0088 - val_loss: 0.0041\n",
      "Epoch 113/200\n",
      "12/12 [==============================] - 6s 505ms/step - loss: 0.0033 - val_loss: 0.0644\n",
      "Epoch 114/200\n",
      "12/12 [==============================] - 6s 501ms/step - loss: 0.0232 - val_loss: 0.0037\n",
      "Epoch 115/200\n",
      "12/12 [==============================] - 6s 517ms/step - loss: 0.0187 - val_loss: 0.0013\n",
      "Epoch 116/200\n",
      "12/12 [==============================] - 6s 516ms/step - loss: 0.0065 - val_loss: 8.7090e-04\n",
      "Epoch 117/200\n",
      "12/12 [==============================] - 6s 487ms/step - loss: 0.0034 - val_loss: 8.3592e-04\n",
      "Epoch 118/200\n",
      "12/12 [==============================] - 6s 501ms/step - loss: 0.0020 - val_loss: 6.6674e-04\n",
      "Epoch 119/200\n",
      "12/12 [==============================] - 6s 486ms/step - loss: 0.0023 - val_loss: 7.1851e-04\n",
      "Epoch 120/200\n",
      "12/12 [==============================] - 6s 525ms/step - loss: 0.0026 - val_loss: 7.6674e-04\n",
      "Epoch 121/200\n",
      "12/12 [==============================] - 6s 519ms/step - loss: 0.0018 - val_loss: 5.9117e-04\n",
      "Epoch 122/200\n",
      "12/12 [==============================] - 6s 525ms/step - loss: 0.0016 - val_loss: 0.0014\n",
      "Epoch 123/200\n",
      "12/12 [==============================] - 6s 468ms/step - loss: 0.0019 - val_loss: 7.9070e-04\n",
      "Epoch 124/200\n",
      "12/12 [==============================] - 6s 464ms/step - loss: 0.0030 - val_loss: 9.7351e-04\n",
      "Epoch 125/200\n",
      "12/12 [==============================] - 6s 477ms/step - loss: 0.0033 - val_loss: 0.0039\n",
      "Epoch 126/200\n",
      "12/12 [==============================] - 6s 471ms/step - loss: 0.0208 - val_loss: 0.0062\n",
      "Epoch 127/200\n",
      "12/12 [==============================] - 6s 491ms/step - loss: 0.0026 - val_loss: 0.0016\n",
      "Epoch 128/200\n",
      "12/12 [==============================] - 6s 480ms/step - loss: 0.0098 - val_loss: 0.0012\n",
      "Epoch 129/200\n",
      "12/12 [==============================] - 6s 512ms/step - loss: 0.0118 - val_loss: 0.0125\n",
      "Epoch 130/200\n",
      "12/12 [==============================] - 6s 482ms/step - loss: 0.0125 - val_loss: 0.0020\n",
      "Epoch 131/200\n",
      "12/12 [==============================] - 6s 507ms/step - loss: 0.0653 - val_loss: 0.0326\n",
      "Epoch 132/200\n",
      "12/12 [==============================] - 6s 499ms/step - loss: 0.0296 - val_loss: 0.0021\n",
      "Epoch 133/200\n",
      "12/12 [==============================] - 6s 490ms/step - loss: 0.0095 - val_loss: 0.0255\n",
      "Epoch 134/200\n",
      "12/12 [==============================] - 6s 472ms/step - loss: 0.0473 - val_loss: 0.2579\n",
      "Epoch 135/200\n",
      "12/12 [==============================] - 6s 500ms/step - loss: 0.0313 - val_loss: 0.1166\n",
      "Epoch 136/200\n",
      "12/12 [==============================] - 6s 532ms/step - loss: 0.0213 - val_loss: 0.0395\n",
      "Epoch 137/200\n",
      "12/12 [==============================] - 6s 488ms/step - loss: 0.0112 - val_loss: 0.0176\n",
      "Epoch 138/200\n",
      "12/12 [==============================] - 6s 478ms/step - loss: 0.0116 - val_loss: 0.0057\n",
      "Epoch 139/200\n",
      "12/12 [==============================] - 6s 496ms/step - loss: 0.0059 - val_loss: 0.0203\n",
      "Epoch 140/200\n",
      "12/12 [==============================] - 6s 466ms/step - loss: 0.0131 - val_loss: 0.0159\n",
      "Epoch 141/200\n",
      "12/12 [==============================] - 6s 489ms/step - loss: 0.0107 - val_loss: 0.0041\n",
      "Epoch 142/200\n",
      "12/12 [==============================] - 6s 482ms/step - loss: 0.0060 - val_loss: 0.0025\n",
      "Epoch 143/200\n",
      "12/12 [==============================] - 6s 473ms/step - loss: 0.0040 - val_loss: 0.0910\n",
      "Epoch 144/200\n",
      "12/12 [==============================] - 6s 483ms/step - loss: 0.0053 - val_loss: 0.0015\n",
      "Epoch 145/200\n",
      "12/12 [==============================] - 6s 467ms/step - loss: 0.0050 - val_loss: 0.0048\n",
      "Epoch 146/200\n",
      "12/12 [==============================] - 6s 475ms/step - loss: 0.0035 - val_loss: 0.0689\n",
      "Epoch 147/200\n",
      "12/12 [==============================] - 6s 468ms/step - loss: 0.0228 - val_loss: 0.1296\n",
      "Epoch 148/200\n",
      "12/12 [==============================] - 6s 500ms/step - loss: 0.0449 - val_loss: 0.0092\n",
      "Epoch 149/200\n",
      "12/12 [==============================] - 6s 494ms/step - loss: 0.0111 - val_loss: 0.0013\n",
      "Epoch 150/200\n",
      "12/12 [==============================] - 6s 508ms/step - loss: 0.0040 - val_loss: 6.4565e-04\n",
      "Epoch 151/200\n",
      "12/12 [==============================] - 6s 477ms/step - loss: 0.0097 - val_loss: 5.5974e-04\n",
      "Epoch 152/200\n",
      "12/12 [==============================] - 6s 474ms/step - loss: 0.0045 - val_loss: 0.0014\n",
      "Epoch 153/200\n",
      "12/12 [==============================] - 6s 499ms/step - loss: 0.0020 - val_loss: 0.0141\n",
      "Epoch 154/200\n",
      "12/12 [==============================] - 6s 465ms/step - loss: 0.0046 - val_loss: 0.0062\n",
      "Epoch 155/200\n",
      "12/12 [==============================] - 6s 462ms/step - loss: 0.0016 - val_loss: 0.0010\n",
      "Epoch 156/200\n",
      "12/12 [==============================] - 6s 473ms/step - loss: 0.0052 - val_loss: 0.0012\n",
      "Epoch 157/200\n",
      "12/12 [==============================] - 6s 485ms/step - loss: 0.0016 - val_loss: 8.8059e-04\n",
      "Epoch 158/200\n",
      "12/12 [==============================] - 6s 526ms/step - loss: 0.0018 - val_loss: 0.0044\n",
      "Epoch 159/200\n",
      "12/12 [==============================] - 6s 487ms/step - loss: 0.0150 - val_loss: 0.0022\n"
     ]
    },
    {
     "name": "stdout",
     "output_type": "stream",
     "text": [
      "Epoch 160/200\n",
      "12/12 [==============================] - 6s 500ms/step - loss: 0.0021 - val_loss: 0.0041\n",
      "Epoch 161/200\n",
      "12/12 [==============================] - 6s 495ms/step - loss: 0.0441 - val_loss: 8.5095e-04\n",
      "Epoch 162/200\n",
      "12/12 [==============================] - 6s 499ms/step - loss: 0.0031 - val_loss: 0.0019\n",
      "Epoch 163/200\n",
      "12/12 [==============================] - 6s 499ms/step - loss: 0.0378 - val_loss: 0.0012\n",
      "Epoch 164/200\n",
      "12/12 [==============================] - 5s 461ms/step - loss: 0.0163 - val_loss: 0.0099\n",
      "Epoch 165/200\n",
      "12/12 [==============================] - 5s 459ms/step - loss: 0.0215 - val_loss: 0.0039\n",
      "Epoch 166/200\n",
      "12/12 [==============================] - 5s 456ms/step - loss: 0.0412 - val_loss: 0.0085\n",
      "Epoch 167/200\n",
      "12/12 [==============================] - 5s 457ms/step - loss: 0.0068 - val_loss: 0.0051\n",
      "Epoch 168/200\n",
      "12/12 [==============================] - 6s 461ms/step - loss: 0.0072 - val_loss: 6.7507e-04\n",
      "Epoch 169/200\n",
      "12/12 [==============================] - 5s 459ms/step - loss: 0.0231 - val_loss: 0.0012\n",
      "Epoch 170/200\n",
      "12/12 [==============================] - 6s 469ms/step - loss: 0.0028 - val_loss: 0.0032\n",
      "Epoch 171/200\n",
      "12/12 [==============================] - 5s 459ms/step - loss: 0.0074 - val_loss: 0.0056\n",
      "Epoch 172/200\n",
      "12/12 [==============================] - 5s 459ms/step - loss: 0.0063 - val_loss: 0.0170\n",
      "Epoch 173/200\n",
      "12/12 [==============================] - 5s 460ms/step - loss: 0.0035 - val_loss: 0.0188\n",
      "Epoch 174/200\n",
      "12/12 [==============================] - 6s 460ms/step - loss: 0.0293 - val_loss: 0.0012\n",
      "Epoch 175/200\n",
      "12/12 [==============================] - 5s 459ms/step - loss: 0.0044 - val_loss: 7.2007e-04\n",
      "Epoch 176/200\n",
      "12/12 [==============================] - 5s 458ms/step - loss: 0.0013 - val_loss: 7.2768e-04\n",
      "Epoch 177/200\n",
      "12/12 [==============================] - 5s 458ms/step - loss: 0.0012 - val_loss: 7.8937e-04\n",
      "Epoch 178/200\n",
      "12/12 [==============================] - 5s 459ms/step - loss: 0.0011 - val_loss: 7.2891e-04\n",
      "Epoch 179/200\n",
      "12/12 [==============================] - 6s 481ms/step - loss: 0.0023 - val_loss: 6.9868e-04\n",
      "Epoch 180/200\n",
      "12/12 [==============================] - 6s 461ms/step - loss: 0.0026 - val_loss: 0.0389\n",
      "Epoch 181/200\n",
      "12/12 [==============================] - 6s 462ms/step - loss: 0.0044 - val_loss: 4.6581e-04\n",
      "Epoch 182/200\n",
      "12/12 [==============================] - 5s 456ms/step - loss: 0.0011 - val_loss: 0.0011\n",
      "Epoch 183/200\n",
      "12/12 [==============================] - 6s 461ms/step - loss: 0.0014 - val_loss: 5.3159e-04\n",
      "Epoch 184/200\n",
      "12/12 [==============================] - 5s 457ms/step - loss: 0.0012 - val_loss: 3.9892e-04\n",
      "Epoch 185/200\n",
      "12/12 [==============================] - 5s 458ms/step - loss: 0.0018 - val_loss: 0.0512\n",
      "Epoch 186/200\n",
      "12/12 [==============================] - 6s 464ms/step - loss: 0.0016 - val_loss: 0.0030\n",
      "Epoch 187/200\n",
      "12/12 [==============================] - 6s 512ms/step - loss: 8.2605e-04 - val_loss: 0.0018\n",
      "Epoch 188/200\n",
      "12/12 [==============================] - 6s 465ms/step - loss: 6.6674e-04 - val_loss: 9.8054e-04\n",
      "Epoch 189/200\n",
      "12/12 [==============================] - 5s 459ms/step - loss: 7.5874e-04 - val_loss: 5.9375e-04\n",
      "Epoch 190/200\n",
      "12/12 [==============================] - 6s 461ms/step - loss: 9.9561e-04 - val_loss: 7.4878e-04\n",
      "Epoch 191/200\n",
      "12/12 [==============================] - 6s 460ms/step - loss: 6.9653e-04 - val_loss: 8.9379e-04\n",
      "Epoch 192/200\n",
      "12/12 [==============================] - 6s 462ms/step - loss: 7.6586e-04 - val_loss: 7.3990e-04\n",
      "Epoch 193/200\n",
      "12/12 [==============================] - 6s 460ms/step - loss: 0.0013 - val_loss: 0.0015\n",
      "Epoch 194/200\n",
      "12/12 [==============================] - 5s 458ms/step - loss: 6.5408e-04 - val_loss: 0.0074\n",
      "Epoch 195/200\n",
      "12/12 [==============================] - 6s 468ms/step - loss: 0.0020 - val_loss: 0.0042\n",
      "Epoch 196/200\n",
      "12/12 [==============================] - 6s 461ms/step - loss: 9.3573e-04 - val_loss: 0.0038\n",
      "Epoch 197/200\n",
      "12/12 [==============================] - 6s 461ms/step - loss: 0.0064 - val_loss: 0.0015\n",
      "Epoch 198/200\n",
      "12/12 [==============================] - 6s 462ms/step - loss: 0.0014 - val_loss: 0.0030\n",
      "Epoch 199/200\n",
      "12/12 [==============================] - 6s 461ms/step - loss: 0.0013 - val_loss: 0.0025\n",
      "Epoch 200/200\n",
      "12/12 [==============================] - 6s 461ms/step - loss: 0.0068 - val_loss: 0.0785\n",
      "Wall time: 19min 20s\n"
     ]
    }
   ],
   "source": [
    "%%time\n",
    "# Train the model\n",
    "history = model.fit(train_data_generator, validation_data=valid_data_generator, epochs=200)"
   ]
  },
  {
   "cell_type": "markdown",
   "metadata": {},
   "source": [
    "### 4.2. Сохраняем веса модели"
   ]
  },
  {
   "cell_type": "code",
   "execution_count": 64,
   "metadata": {},
   "outputs": [],
   "source": [
    "model.save_weights('ocr_model_v1.h5')"
   ]
  },
  {
   "cell_type": "code",
   "execution_count": 16,
   "metadata": {},
   "outputs": [],
   "source": [
    "model.load_weights('ocr_model_v1.h5')"
   ]
  },
  {
   "cell_type": "markdown",
   "metadata": {},
   "source": [
    "## 5. Предсказываем результаты на тестовой выборке"
   ]
  },
  {
   "cell_type": "code",
   "execution_count": 17,
   "metadata": {},
   "outputs": [
    {
     "name": "stdout",
     "output_type": "stream",
     "text": [
      "Количество тестовых изображений:  (52, 60, 200)\n",
      "Количество тестовых меток:  (52,)\n"
     ]
    }
   ],
   "source": [
    "test_dir = Path(\"test\")\n",
    "\n",
    "# Получаем список всех изображений\n",
    "test_images = list(test_dir.glob(\"*.jpg\"))\n",
    "\n",
    "test_dataset = []\n",
    "          \n",
    "for img_path in test_images:\n",
    "    label = img_path.name.split(\".jpg\")[0]\n",
    "    test_dataset.append((str(img_path), label))\n",
    "\n",
    "test_dataset = pd.DataFrame(test_dataset, columns=[\"img_path\", \"label\"], index=None)\n",
    "# Перемешаем dataset\n",
    "test_dataset = test_dataset.sample(frac=1.).reset_index(drop=True)\n",
    "\n",
    "# Построим тестовые данные\n",
    "test_data, test_labels = generate_arrays(df=test_dataset)\n",
    "print(\"Количество тестовых изображений: \", test_data.shape)\n",
    "print(\"Количество тестовых меток: \", test_labels.shape)\n",
    "\n",
    "test_batch_size = len(test_labels)\n",
    "# Получим объект-генератор для test data \n",
    "test_data_generator = DataGenerator(data=test_data,\n",
    "                                     labels=test_labels,\n",
    "                                     char_map=char_to_labels,\n",
    "                                     batch_size=test_batch_size,\n",
    "                                     img_width=img_width,\n",
    "                                     img_height=img_height,\n",
    "                                     downsample_factor=downsample_factor,\n",
    "                                     max_length=max_length,\n",
    "                                     shuffle=False\n",
    "                                    )"
   ]
  },
  {
   "cell_type": "markdown",
   "metadata": {},
   "source": [
    "### 5.1. Функция для декодирования выходных данных (output) сети"
   ]
  },
  {
   "cell_type": "code",
   "execution_count": 18,
   "metadata": {},
   "outputs": [],
   "source": [
    "def decode_batch_predictions(pred):\n",
    "    pred = pred[:, :-2] #48\n",
    "    input_len = np.ones(pred.shape[0])*pred.shape[1]\n",
    "    \n",
    "    # Используем жадный (greedy) поиск. Для сложных задач можно использовать beam search\n",
    "    results = keras.backend.ctc_decode(pred, input_length=input_len, greedy=True)[0][0]\n",
    "    \n",
    "    # Повторим результаты и вернем текст\n",
    "    output_text = []\n",
    "    for res in results.numpy():\n",
    "        outstr = ''\n",
    "        for c in res:\n",
    "            if c < len(characters) and c >=0:\n",
    "                outstr += labels_to_char[c]\n",
    "        output_text.append(outstr)\n",
    "    \n",
    "    # Вернем окончательные результаты текста\n",
    "    return output_text"
   ]
  },
  {
   "cell_type": "markdown",
   "metadata": {},
   "source": [
    "### 5.2. Подготовим модель для декодирования данных"
   ]
  },
  {
   "cell_type": "code",
   "execution_count": 19,
   "metadata": {},
   "outputs": [
    {
     "name": "stdout",
     "output_type": "stream",
     "text": [
      "Model: \"model\"\n",
      "_________________________________________________________________\n",
      "Layer (type)                 Output Shape              Param #   \n",
      "=================================================================\n",
      "input_data (InputLayer)      [(None, 200, 60, 1)]      0         \n",
      "_________________________________________________________________\n",
      "Conv1 (Conv2D)               (None, 200, 60, 32)       320       \n",
      "_________________________________________________________________\n",
      "pool1 (MaxPooling2D)         (None, 100, 30, 32)       0         \n",
      "_________________________________________________________________\n",
      "Conv2 (Conv2D)               (None, 100, 30, 64)       18496     \n",
      "_________________________________________________________________\n",
      "pool2 (MaxPooling2D)         (None, 50, 15, 64)        0         \n",
      "_________________________________________________________________\n",
      "reshape (Reshape)            (None, 50, 960)           0         \n",
      "_________________________________________________________________\n",
      "dense1 (Dense)               (None, 50, 64)            61504     \n",
      "_________________________________________________________________\n",
      "dropout (Dropout)            (None, 50, 64)            0         \n",
      "_________________________________________________________________\n",
      "bidirectional (Bidirectional (None, 50, 256)           197632    \n",
      "_________________________________________________________________\n",
      "bidirectional_1 (Bidirection (None, 50, 128)           164352    \n",
      "_________________________________________________________________\n",
      "dense2 (Dense)               (None, 50, 21)            2709      \n",
      "=================================================================\n",
      "Total params: 445,013\n",
      "Trainable params: 445,013\n",
      "Non-trainable params: 0\n",
      "_________________________________________________________________\n"
     ]
    }
   ],
   "source": [
    "prediction_model = keras.models.Model(model.get_layer(name='input_data').input,\n",
    "                                        model.get_layer(name='dense2').output)\n",
    "prediction_model.summary()"
   ]
  },
  {
   "cell_type": "markdown",
   "metadata": {},
   "source": [
    "### 5.3. Проверяем результаты на тестовой выборке"
   ]
  },
  {
   "cell_type": "code",
   "execution_count": 20,
   "metadata": {
    "scrolled": false
   },
   "outputs": [
    {
     "name": "stdout",
     "output_type": "stream",
     "text": [
      "Оригинальный текст: пггмк \t Предсказанный: пггмк True\n",
      "Оригинальный текст: пннпб \t Предсказанный: пннпб True\n",
      "Оригинальный текст: лмжпж \t Предсказанный: лмжпж True\n",
      "Оригинальный текст: лрл76 \t Предсказанный: лрл76 True\n",
      "Оригинальный текст: лжлк7 \t Предсказанный: лжлк7 True\n",
      "Оригинальный текст: ждд29 \t Предсказанный: ждд29 True\n",
      "Оригинальный текст: прггт \t Предсказанный: прггт True\n",
      "Оригинальный текст: лл9сп \t Предсказанный: лл9сп True\n",
      "Оригинальный текст: лвпмк \t Предсказанный: лвпмк True\n",
      "Оригинальный текст: л7к7т \t Предсказанный: л7к7т True\n",
      "Оригинальный текст: днр7б \t Предсказанный: днр7б True\n",
      "Оригинальный текст: лнжвр \t Предсказанный: лнжвр True\n",
      "Оригинальный текст: лп5м5 \t Предсказанный: лп5м5 True\n",
      "Оригинальный текст: джбм9 \t Предсказанный: джбм9 True\n",
      "Оригинальный текст: лвгтм \t Предсказанный: лвгтм True\n",
      "Оригинальный текст: лгдг7 \t Предсказанный: лгдг7 True\n",
      "Оригинальный текст: ж6б2л \t Предсказанный: ж6б2л True\n",
      "Оригинальный текст: лн9дж \t Предсказанный: лн9дж True\n",
      "Оригинальный текст: лпмкр \t Предсказанный: лпмкр True\n",
      "Оригинальный текст: дб8гн \t Предсказанный: дб8гн True\n",
      "Оригинальный текст: жтм4т \t Предсказанный: жтм4т True\n",
      "Оригинальный текст: ж775д \t Предсказанный: ж775д True\n",
      "Оригинальный текст: пб5д9 \t Предсказанный: пб5д9 True\n",
      "Оригинальный текст: дркбк \t Предсказанный: дркбк True\n",
      "Оригинальный текст: др5к7 \t Предсказанный: др5к7 True\n",
      "Оригинальный текст: ллвнб \t Предсказанный: ллвнб True\n",
      "Оригинальный текст: жкв8б \t Предсказанный: жкв8б True\n",
      "Оригинальный текст: жд26в \t Предсказанный: жд26в True\n",
      "Оригинальный текст: ж6г7ж \t Предсказанный: ж6г7ж True\n",
      "Оригинальный текст: д2рск \t Предсказанный: д2рск True\n",
      "Оригинальный текст: ж8дкв \t Предсказанный: ж8дкв True\n",
      "Оригинальный текст: л268б \t Предсказанный: л268б True\n",
      "Оригинальный текст: ж6т4д \t Предсказанный: ж6т4д True\n",
      "Оригинальный текст: лб8ск \t Предсказанный: лб8ск True\n",
      "Оригинальный текст: л59мт \t Предсказанный: л59мт True\n",
      "Оригинальный текст: пск7к \t Предсказанный: пск7к True\n",
      "Оригинальный текст: п7т7п \t Предсказанный: п7т7п True\n",
      "Оригинальный текст: лпркр \t Предсказанный: лпркр True\n",
      "Оригинальный текст: пв7пн \t Предсказанный: пв7пн True\n",
      "Оригинальный текст: п47нв \t Предсказанный: п47нв True\n",
      "Оригинальный текст: пвр84 \t Предсказанный: пвр84 True\n",
      "Оригинальный текст: пнтвб \t Предсказанный: пнтвб True\n",
      "Оригинальный текст: л82нн \t Предсказанный: л82нн True\n",
      "Оригинальный текст: п7дбм \t Предсказанный: п7дбм True\n",
      "Оригинальный текст: д7м8л \t Предсказанный: д7м8л True\n",
      "Оригинальный текст: д7д5м \t Предсказанный: д7д5м True\n",
      "Оригинальный текст: ж9ткр \t Предсказанный: ж9ткр True\n",
      "Оригинальный текст: двжкс \t Предсказанный: двжкс True\n",
      "Оригинальный текст: пс68в \t Предсказанный: пс68в True\n",
      "Оригинальный текст: пн299 \t Предсказанный: пн299 True\n",
      "Оригинальный текст: д42бк \t Предсказанный: д42бк True\n",
      "Оригинальный текст: ж48кк \t Предсказанный: ж48кк True\n",
      "1.0\n"
     ]
    }
   ],
   "source": [
    "true_preds = 0   \n",
    "for p, (inp_value, _) in enumerate(test_data_generator):\n",
    "    bs = inp_value['input_data'].shape[0]\n",
    "    X_data = inp_value['input_data']\n",
    "    labels = inp_value['input_label']\n",
    "    \n",
    "    preds = prediction_model.predict(X_data)\n",
    "    pred_texts = decode_batch_predictions(preds)\n",
    "    \n",
    "    \n",
    "    orig_texts = []\n",
    "    for label in labels:\n",
    "        text = ''.join([labels_to_char[int(x)] for x in label])\n",
    "        orig_texts.append(text)\n",
    "\n",
    "     \n",
    "    for i in range(bs):\n",
    "        print(f'Оригинальный текст: {orig_texts[i]} \\t Предсказанный: {pred_texts[i]} {orig_texts[i]==pred_texts[i]}')\n",
    "        if orig_texts[i]==pred_texts[i]:\n",
    "            true_preds+=1\n",
    "    break\n",
    "\n",
    "print(true_preds/bs)"
   ]
  },
  {
   "cell_type": "markdown",
   "metadata": {},
   "source": [
    "## 6. Выводы"
   ]
  },
  {
   "cell_type": "markdown",
   "metadata": {},
   "source": [
    "### 6.1. Модель выдала 100% результат на тестовой выборке"
   ]
  },
  {
   "cell_type": "markdown",
   "metadata": {},
   "source": [
    "## 7. Ссылки"
   ]
  },
  {
   "cell_type": "markdown",
   "metadata": {},
   "source": [
    "7.1. https://keras.io/examples/vision/captcha_ocr/\n",
    "7.2. https://www.kaggle.com/aakashnain/building-a-captcha-ocr-in-tf2-0/notebook\n",
    "7.3. https://habr.com/ru/post/501436/\n",
    "7.4. https://www.machinelearningmastery.ru/intuitively-understanding-connectionist-temporal-classification-3797e43a86c/\n",
    "7.5. https://hackernoon.com/latest-deep-learning-ocr-with-keras-and-supervisely-in-15-minutes-34aecd630ed8\n",
    "7.6. https://github.com/DeepSystems/supervisely-tutorials/blob/master/anpr_ocr/src/image_ocr.ipynb\n",
    "7.7. https://www.dlology.com/blog/how-to-train-a-keras-model-to-recognize-variable-length-text/\n",
    "7.8. http://www.cs.toronto.edu/~graves/icml_2006.pdf\n"
   ]
  },
  {
   "cell_type": "code",
   "execution_count": null,
   "metadata": {},
   "outputs": [],
   "source": []
  },
  {
   "cell_type": "code",
   "execution_count": null,
   "metadata": {},
   "outputs": [],
   "source": []
  },
  {
   "cell_type": "code",
   "execution_count": null,
   "metadata": {},
   "outputs": [],
   "source": []
  },
  {
   "cell_type": "code",
   "execution_count": null,
   "metadata": {},
   "outputs": [],
   "source": []
  },
  {
   "cell_type": "code",
   "execution_count": null,
   "metadata": {},
   "outputs": [],
   "source": [
    "Проверка на одном изображении"
   ]
  },
  {
   "cell_type": "code",
   "execution_count": 21,
   "metadata": {},
   "outputs": [],
   "source": [
    "test_img =cv2.imdecode(np.fromfile('test/д7д5м.jpg', dtype=np.uint8), cv2.IMREAD_COLOR)\n",
    "test_img = cv2.cvtColor(test_img, cv2.COLOR_BGR2GRAY)\n",
    "test_img = (test_img/255.).astype(np.float32)\n",
    "test_img = test_img.T\n",
    "# 2. Add extra dimenison\n",
    "test_img = np.expand_dims(test_img, axis=-1)\n",
    "test_img2 = np.expand_dims(test_img, axis=0)"
   ]
  },
  {
   "cell_type": "code",
   "execution_count": 22,
   "metadata": {},
   "outputs": [],
   "source": [
    "preds = prediction_model.predict(test_img2)\n",
    "pred_texts = decode_batch_predictions(preds)"
   ]
  },
  {
   "cell_type": "code",
   "execution_count": 23,
   "metadata": {},
   "outputs": [
    {
     "data": {
      "text/plain": [
       "(1, 50, 21)"
      ]
     },
     "execution_count": 23,
     "metadata": {},
     "output_type": "execute_result"
    }
   ],
   "source": [
    "preds.shape"
   ]
  },
  {
   "cell_type": "code",
   "execution_count": 24,
   "metadata": {},
   "outputs": [
    {
     "data": {
      "text/plain": [
       "(1, 48, 21)"
      ]
     },
     "execution_count": 24,
     "metadata": {},
     "output_type": "execute_result"
    }
   ],
   "source": [
    "pred = preds[:, :-2]\n",
    "pred.shape"
   ]
  },
  {
   "cell_type": "code",
   "execution_count": 25,
   "metadata": {},
   "outputs": [
    {
     "data": {
      "text/plain": [
       "(1,)"
      ]
     },
     "execution_count": 25,
     "metadata": {},
     "output_type": "execute_result"
    }
   ],
   "source": [
    "input_len = np.ones(pred.shape[0])*pred.shape[1]\n",
    "input_len.shape"
   ]
  },
  {
   "cell_type": "code",
   "execution_count": 26,
   "metadata": {},
   "outputs": [
    {
     "data": {
      "text/plain": [
       "<tf.Tensor: shape=(1, 48), dtype=int64, numpy=\n",
       "array([[10,  4, 10,  2, 14, -1, -1, -1, -1, -1, -1, -1, -1, -1, -1, -1,\n",
       "        -1, -1, -1, -1, -1, -1, -1, -1, -1, -1, -1, -1, -1, -1, -1, -1,\n",
       "        -1, -1, -1, -1, -1, -1, -1, -1, -1, -1, -1, -1, -1, -1, -1, -1]],\n",
       "      dtype=int64)>"
      ]
     },
     "execution_count": 26,
     "metadata": {},
     "output_type": "execute_result"
    }
   ],
   "source": [
    "results = keras.backend.ctc_decode(pred, input_length=input_len, greedy=True)[0][0]\n",
    "results"
   ]
  },
  {
   "cell_type": "code",
   "execution_count": 27,
   "metadata": {},
   "outputs": [
    {
     "data": {
      "text/plain": [
       "['д7д5м']"
      ]
     },
     "execution_count": 27,
     "metadata": {},
     "output_type": "execute_result"
    }
   ],
   "source": [
    "output_text = []\n",
    "for res in results.numpy():\n",
    "    outstr = ''\n",
    "    for c in res:\n",
    "        if c < len(characters) and c >=0:\n",
    "            outstr += labels_to_char[c]\n",
    "    output_text.append(outstr)\n",
    "output_text"
   ]
  },
  {
   "cell_type": "code",
   "execution_count": 28,
   "metadata": {},
   "outputs": [],
   "source": [
    "pred = pred[:, :-2]\n",
    "input_len = np.ones(pred.shape[0])*pred.shape[1]\n",
    "\n",
    "# Use greedy search. For complex tasks, you can use beam search\n",
    "results = keras.backend.ctc_decode(pred, \n",
    "                                    input_length=input_len,\n",
    "                                    greedy=True)[0][0]\n",
    "\n",
    "# Iterate over the results and get back the text\n",
    "output_text = []\n",
    "for res in results.numpy():\n",
    "    outstr = ''\n",
    "    for c in res:\n",
    "        if c < len(characters) and c >=0:\n",
    "            outstr += labels_to_char[c]\n",
    "    output_text.append(outstr)"
   ]
  }
 ],
 "metadata": {
  "kernelspec": {
   "display_name": "Python 3",
   "language": "python",
   "name": "python3"
  },
  "language_info": {
   "codemirror_mode": {
    "name": "ipython",
    "version": 3
   },
   "file_extension": ".py",
   "mimetype": "text/x-python",
   "name": "python",
   "nbconvert_exporter": "python",
   "pygments_lexer": "ipython3",
   "version": "3.9.4"
  },
  "varInspector": {
   "cols": {
    "lenName": 16,
    "lenType": 16,
    "lenVar": 40
   },
   "kernels_config": {
    "python": {
     "delete_cmd_postfix": "",
     "delete_cmd_prefix": "del ",
     "library": "var_list.py",
     "varRefreshCmd": "print(var_dic_list())"
    },
    "r": {
     "delete_cmd_postfix": ") ",
     "delete_cmd_prefix": "rm(",
     "library": "var_list.r",
     "varRefreshCmd": "cat(var_dic_list()) "
    }
   },
   "oldHeight": 122.53399999999999,
   "position": {
    "height": "40px",
    "left": "990px",
    "right": "20px",
    "top": "118px",
    "width": "354px"
   },
   "types_to_exclude": [
    "module",
    "function",
    "builtin_function_or_method",
    "instance",
    "_Feature"
   ],
   "varInspector_section_display": "none",
   "window_display": false
  }
 },
 "nbformat": 4,
 "nbformat_minor": 4
}
